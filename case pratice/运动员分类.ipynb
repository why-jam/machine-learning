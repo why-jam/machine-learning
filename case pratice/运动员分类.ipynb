{
 "cells": [
  {
   "cell_type": "code",
   "execution_count": 3,
   "metadata": {},
   "outputs": [
    {
     "data": {
      "text/html": [
       "<div>\n",
       "<style scoped>\n",
       "    .dataframe tbody tr th:only-of-type {\n",
       "        vertical-align: middle;\n",
       "    }\n",
       "\n",
       "    .dataframe tbody tr th {\n",
       "        vertical-align: top;\n",
       "    }\n",
       "\n",
       "    .dataframe thead th {\n",
       "        text-align: right;\n",
       "    }\n",
       "</style>\n",
       "<table border=\"1\" class=\"dataframe\">\n",
       "  <thead>\n",
       "    <tr style=\"text-align: right;\">\n",
       "      <th></th>\n",
       "      <th>feature1</th>\n",
       "      <th>feature2</th>\n",
       "      <th>feature3</th>\n",
       "      <th>feature4</th>\n",
       "      <th>feature5</th>\n",
       "      <th>feature6</th>\n",
       "      <th>feature7</th>\n",
       "      <th>feature8</th>\n",
       "      <th>feature9</th>\n",
       "      <th>feature10</th>\n",
       "      <th>...</th>\n",
       "      <th>feature16</th>\n",
       "      <th>feature17</th>\n",
       "      <th>feature18</th>\n",
       "      <th>feature19</th>\n",
       "      <th>feature20</th>\n",
       "      <th>feature21</th>\n",
       "      <th>feature22</th>\n",
       "      <th>feature23</th>\n",
       "      <th>feature24</th>\n",
       "      <th>label</th>\n",
       "    </tr>\n",
       "  </thead>\n",
       "  <tbody>\n",
       "    <tr>\n",
       "      <th>0</th>\n",
       "      <td>0.018333</td>\n",
       "      <td>0.153177</td>\n",
       "      <td>0.109633</td>\n",
       "      <td>0.566102</td>\n",
       "      <td>0.450673</td>\n",
       "      <td>0.342021</td>\n",
       "      <td>0.009024</td>\n",
       "      <td>0.000000</td>\n",
       "      <td>0.160000</td>\n",
       "      <td>0.206667</td>\n",
       "      <td>...</td>\n",
       "      <td>0.618985</td>\n",
       "      <td>0.596247</td>\n",
       "      <td>0.578587</td>\n",
       "      <td>0.578366</td>\n",
       "      <td>0.593157</td>\n",
       "      <td>0.575276</td>\n",
       "      <td>0.561810</td>\n",
       "      <td>0.571523</td>\n",
       "      <td>0.528477</td>\n",
       "      <td>1</td>\n",
       "    </tr>\n",
       "    <tr>\n",
       "      <th>1</th>\n",
       "      <td>0.021658</td>\n",
       "      <td>0.157318</td>\n",
       "      <td>0.094548</td>\n",
       "      <td>0.487893</td>\n",
       "      <td>0.270911</td>\n",
       "      <td>0.157754</td>\n",
       "      <td>0.010290</td>\n",
       "      <td>0.000000</td>\n",
       "      <td>0.106667</td>\n",
       "      <td>0.053333</td>\n",
       "      <td>...</td>\n",
       "      <td>0.284768</td>\n",
       "      <td>0.495364</td>\n",
       "      <td>0.453642</td>\n",
       "      <td>0.307726</td>\n",
       "      <td>0.403311</td>\n",
       "      <td>0.000000</td>\n",
       "      <td>0.020971</td>\n",
       "      <td>0.437748</td>\n",
       "      <td>0.201104</td>\n",
       "      <td>1</td>\n",
       "    </tr>\n",
       "    <tr>\n",
       "      <th>2</th>\n",
       "      <td>0.018390</td>\n",
       "      <td>0.159475</td>\n",
       "      <td>0.101243</td>\n",
       "      <td>0.513242</td>\n",
       "      <td>0.309806</td>\n",
       "      <td>0.245959</td>\n",
       "      <td>0.000000</td>\n",
       "      <td>0.011207</td>\n",
       "      <td>0.100000</td>\n",
       "      <td>0.113333</td>\n",
       "      <td>...</td>\n",
       "      <td>0.539956</td>\n",
       "      <td>0.561589</td>\n",
       "      <td>0.563797</td>\n",
       "      <td>0.562472</td>\n",
       "      <td>0.527373</td>\n",
       "      <td>0.240397</td>\n",
       "      <td>0.090728</td>\n",
       "      <td>0.482119</td>\n",
       "      <td>0.551214</td>\n",
       "      <td>1</td>\n",
       "    </tr>\n",
       "    <tr>\n",
       "      <th>3</th>\n",
       "      <td>0.019391</td>\n",
       "      <td>0.163563</td>\n",
       "      <td>0.092147</td>\n",
       "      <td>0.498588</td>\n",
       "      <td>0.390871</td>\n",
       "      <td>0.262954</td>\n",
       "      <td>0.006681</td>\n",
       "      <td>0.000000</td>\n",
       "      <td>0.093333</td>\n",
       "      <td>0.080000</td>\n",
       "      <td>...</td>\n",
       "      <td>0.612804</td>\n",
       "      <td>0.612583</td>\n",
       "      <td>0.528477</td>\n",
       "      <td>0.259603</td>\n",
       "      <td>0.599338</td>\n",
       "      <td>0.470640</td>\n",
       "      <td>0.532230</td>\n",
       "      <td>0.479912</td>\n",
       "      <td>0.497572</td>\n",
       "      <td>1</td>\n",
       "    </tr>\n",
       "    <tr>\n",
       "      <th>4</th>\n",
       "      <td>0.021645</td>\n",
       "      <td>0.163691</td>\n",
       "      <td>0.109068</td>\n",
       "      <td>0.533898</td>\n",
       "      <td>0.505861</td>\n",
       "      <td>0.356144</td>\n",
       "      <td>0.012794</td>\n",
       "      <td>0.010953</td>\n",
       "      <td>0.120000</td>\n",
       "      <td>0.113333</td>\n",
       "      <td>...</td>\n",
       "      <td>0.630905</td>\n",
       "      <td>0.658940</td>\n",
       "      <td>0.000000</td>\n",
       "      <td>0.663135</td>\n",
       "      <td>0.638631</td>\n",
       "      <td>0.612141</td>\n",
       "      <td>0.331567</td>\n",
       "      <td>0.635099</td>\n",
       "      <td>0.682561</td>\n",
       "      <td>1</td>\n",
       "    </tr>\n",
       "  </tbody>\n",
       "</table>\n",
       "<p>5 rows × 25 columns</p>\n",
       "</div>"
      ],
      "text/plain": [
       "   feature1  feature2  feature3  feature4  feature5  feature6  feature7  \\\n",
       "0  0.018333  0.153177  0.109633  0.566102  0.450673  0.342021  0.009024   \n",
       "1  0.021658  0.157318  0.094548  0.487893  0.270911  0.157754  0.010290   \n",
       "2  0.018390  0.159475  0.101243  0.513242  0.309806  0.245959  0.000000   \n",
       "3  0.019391  0.163563  0.092147  0.498588  0.390871  0.262954  0.006681   \n",
       "4  0.021645  0.163691  0.109068  0.533898  0.505861  0.356144  0.012794   \n",
       "\n",
       "   feature8  feature9  feature10  ...  feature16  feature17  feature18  \\\n",
       "0  0.000000  0.160000   0.206667  ...   0.618985   0.596247   0.578587   \n",
       "1  0.000000  0.106667   0.053333  ...   0.284768   0.495364   0.453642   \n",
       "2  0.011207  0.100000   0.113333  ...   0.539956   0.561589   0.563797   \n",
       "3  0.000000  0.093333   0.080000  ...   0.612804   0.612583   0.528477   \n",
       "4  0.010953  0.120000   0.113333  ...   0.630905   0.658940   0.000000   \n",
       "\n",
       "   feature19  feature20  feature21  feature22  feature23  feature24  label  \n",
       "0   0.578366   0.593157   0.575276   0.561810   0.571523   0.528477      1  \n",
       "1   0.307726   0.403311   0.000000   0.020971   0.437748   0.201104      1  \n",
       "2   0.562472   0.527373   0.240397   0.090728   0.482119   0.551214      1  \n",
       "3   0.259603   0.599338   0.470640   0.532230   0.479912   0.497572      1  \n",
       "4   0.663135   0.638631   0.612141   0.331567   0.635099   0.682561      1  \n",
       "\n",
       "[5 rows x 25 columns]"
      ]
     },
     "execution_count": 3,
     "metadata": {},
     "output_type": "execute_result"
    }
   ],
   "source": [
    "import pandas as pd\n",
    "import numpy as np\n",
    "np.random.seed(1234)\n",
    "data = pd.read_csv('data.csv')\n",
    "data.head(5)"
   ]
  },
  {
   "cell_type": "code",
   "execution_count": 2,
   "metadata": {},
   "outputs": [
    {
     "data": {
      "text/html": [
       "<div>\n",
       "<style scoped>\n",
       "    .dataframe tbody tr th:only-of-type {\n",
       "        vertical-align: middle;\n",
       "    }\n",
       "\n",
       "    .dataframe tbody tr th {\n",
       "        vertical-align: top;\n",
       "    }\n",
       "\n",
       "    .dataframe thead th {\n",
       "        text-align: right;\n",
       "    }\n",
       "</style>\n",
       "<table border=\"1\" class=\"dataframe\">\n",
       "  <thead>\n",
       "    <tr style=\"text-align: right;\">\n",
       "      <th></th>\n",
       "      <th>feature1</th>\n",
       "      <th>feature2</th>\n",
       "      <th>feature3</th>\n",
       "      <th>feature4</th>\n",
       "      <th>feature5</th>\n",
       "      <th>feature6</th>\n",
       "      <th>feature7</th>\n",
       "      <th>feature8</th>\n",
       "      <th>feature9</th>\n",
       "      <th>feature10</th>\n",
       "      <th>...</th>\n",
       "      <th>feature16</th>\n",
       "      <th>feature17</th>\n",
       "      <th>feature18</th>\n",
       "      <th>feature19</th>\n",
       "      <th>feature20</th>\n",
       "      <th>feature21</th>\n",
       "      <th>feature22</th>\n",
       "      <th>feature23</th>\n",
       "      <th>feature24</th>\n",
       "      <th>label</th>\n",
       "    </tr>\n",
       "  </thead>\n",
       "  <tbody>\n",
       "    <tr>\n",
       "      <th>count</th>\n",
       "      <td>35.000000</td>\n",
       "      <td>35.000000</td>\n",
       "      <td>35.000000</td>\n",
       "      <td>35.000000</td>\n",
       "      <td>35.000000</td>\n",
       "      <td>35.000000</td>\n",
       "      <td>35.000000</td>\n",
       "      <td>35.000000</td>\n",
       "      <td>35.000000</td>\n",
       "      <td>35.000000</td>\n",
       "      <td>...</td>\n",
       "      <td>35.000000</td>\n",
       "      <td>35.000000</td>\n",
       "      <td>35.000000</td>\n",
       "      <td>35.000000</td>\n",
       "      <td>35.000000</td>\n",
       "      <td>35.000000</td>\n",
       "      <td>35.000000</td>\n",
       "      <td>35.000000</td>\n",
       "      <td>35.000000</td>\n",
       "      <td>35.000000</td>\n",
       "    </tr>\n",
       "    <tr>\n",
       "      <th>mean</th>\n",
       "      <td>0.021152</td>\n",
       "      <td>0.152965</td>\n",
       "      <td>0.102673</td>\n",
       "      <td>0.498355</td>\n",
       "      <td>0.326190</td>\n",
       "      <td>0.224076</td>\n",
       "      <td>0.014610</td>\n",
       "      <td>0.019096</td>\n",
       "      <td>0.102667</td>\n",
       "      <td>0.089524</td>\n",
       "      <td>...</td>\n",
       "      <td>0.431113</td>\n",
       "      <td>0.478556</td>\n",
       "      <td>0.419010</td>\n",
       "      <td>0.382441</td>\n",
       "      <td>0.439729</td>\n",
       "      <td>0.338013</td>\n",
       "      <td>0.225336</td>\n",
       "      <td>0.446648</td>\n",
       "      <td>0.368338</td>\n",
       "      <td>0.571429</td>\n",
       "    </tr>\n",
       "    <tr>\n",
       "      <th>std</th>\n",
       "      <td>0.002590</td>\n",
       "      <td>0.020194</td>\n",
       "      <td>0.013575</td>\n",
       "      <td>0.067957</td>\n",
       "      <td>0.165169</td>\n",
       "      <td>0.117795</td>\n",
       "      <td>0.010296</td>\n",
       "      <td>0.019531</td>\n",
       "      <td>0.030215</td>\n",
       "      <td>0.037757</td>\n",
       "      <td>...</td>\n",
       "      <td>0.234521</td>\n",
       "      <td>0.204732</td>\n",
       "      <td>0.242001</td>\n",
       "      <td>0.265576</td>\n",
       "      <td>0.245194</td>\n",
       "      <td>0.264080</td>\n",
       "      <td>0.235808</td>\n",
       "      <td>0.242450</td>\n",
       "      <td>0.243467</td>\n",
       "      <td>0.502096</td>\n",
       "    </tr>\n",
       "    <tr>\n",
       "      <th>min</th>\n",
       "      <td>0.015533</td>\n",
       "      <td>0.115833</td>\n",
       "      <td>0.077825</td>\n",
       "      <td>0.334216</td>\n",
       "      <td>0.022161</td>\n",
       "      <td>0.013577</td>\n",
       "      <td>0.000000</td>\n",
       "      <td>0.000000</td>\n",
       "      <td>0.026667</td>\n",
       "      <td>0.013333</td>\n",
       "      <td>...</td>\n",
       "      <td>0.000000</td>\n",
       "      <td>0.021192</td>\n",
       "      <td>0.000000</td>\n",
       "      <td>0.000000</td>\n",
       "      <td>0.000000</td>\n",
       "      <td>0.000000</td>\n",
       "      <td>0.000000</td>\n",
       "      <td>0.018102</td>\n",
       "      <td>0.020751</td>\n",
       "      <td>0.000000</td>\n",
       "    </tr>\n",
       "    <tr>\n",
       "      <th>25%</th>\n",
       "      <td>0.019400</td>\n",
       "      <td>0.139839</td>\n",
       "      <td>0.092924</td>\n",
       "      <td>0.459692</td>\n",
       "      <td>0.169544</td>\n",
       "      <td>0.127929</td>\n",
       "      <td>0.006957</td>\n",
       "      <td>0.000000</td>\n",
       "      <td>0.090000</td>\n",
       "      <td>0.063333</td>\n",
       "      <td>...</td>\n",
       "      <td>0.288079</td>\n",
       "      <td>0.342605</td>\n",
       "      <td>0.233223</td>\n",
       "      <td>0.129139</td>\n",
       "      <td>0.244150</td>\n",
       "      <td>0.062693</td>\n",
       "      <td>0.023179</td>\n",
       "      <td>0.180464</td>\n",
       "      <td>0.129912</td>\n",
       "      <td>0.000000</td>\n",
       "    </tr>\n",
       "    <tr>\n",
       "      <th>50%</th>\n",
       "      <td>0.020960</td>\n",
       "      <td>0.153177</td>\n",
       "      <td>0.101243</td>\n",
       "      <td>0.498588</td>\n",
       "      <td>0.363555</td>\n",
       "      <td>0.262954</td>\n",
       "      <td>0.012794</td>\n",
       "      <td>0.013118</td>\n",
       "      <td>0.106667</td>\n",
       "      <td>0.086667</td>\n",
       "      <td>...</td>\n",
       "      <td>0.513687</td>\n",
       "      <td>0.590949</td>\n",
       "      <td>0.528477</td>\n",
       "      <td>0.415894</td>\n",
       "      <td>0.540177</td>\n",
       "      <td>0.287196</td>\n",
       "      <td>0.090728</td>\n",
       "      <td>0.553642</td>\n",
       "      <td>0.384327</td>\n",
       "      <td>1.000000</td>\n",
       "    </tr>\n",
       "    <tr>\n",
       "      <th>75%</th>\n",
       "      <td>0.022391</td>\n",
       "      <td>0.163627</td>\n",
       "      <td>0.111285</td>\n",
       "      <td>0.537492</td>\n",
       "      <td>0.461589</td>\n",
       "      <td>0.327945</td>\n",
       "      <td>0.021083</td>\n",
       "      <td>0.028273</td>\n",
       "      <td>0.120000</td>\n",
       "      <td>0.110000</td>\n",
       "      <td>...</td>\n",
       "      <td>0.628477</td>\n",
       "      <td>0.634216</td>\n",
       "      <td>0.635541</td>\n",
       "      <td>0.626932</td>\n",
       "      <td>0.638631</td>\n",
       "      <td>0.593709</td>\n",
       "      <td>0.443709</td>\n",
       "      <td>0.648565</td>\n",
       "      <td>0.596578</td>\n",
       "      <td>1.000000</td>\n",
       "    </tr>\n",
       "    <tr>\n",
       "      <th>max</th>\n",
       "      <td>0.027774</td>\n",
       "      <td>0.217985</td>\n",
       "      <td>0.131469</td>\n",
       "      <td>0.617797</td>\n",
       "      <td>0.548259</td>\n",
       "      <td>0.388355</td>\n",
       "      <td>0.043971</td>\n",
       "      <td>0.065970</td>\n",
       "      <td>0.160000</td>\n",
       "      <td>0.206667</td>\n",
       "      <td>...</td>\n",
       "      <td>0.718322</td>\n",
       "      <td>0.723400</td>\n",
       "      <td>0.708389</td>\n",
       "      <td>0.776821</td>\n",
       "      <td>0.724062</td>\n",
       "      <td>0.785651</td>\n",
       "      <td>0.718543</td>\n",
       "      <td>0.708609</td>\n",
       "      <td>0.690287</td>\n",
       "      <td>1.000000</td>\n",
       "    </tr>\n",
       "  </tbody>\n",
       "</table>\n",
       "<p>8 rows × 25 columns</p>\n",
       "</div>"
      ],
      "text/plain": [
       "        feature1   feature2   feature3   feature4   feature5   feature6  \\\n",
       "count  35.000000  35.000000  35.000000  35.000000  35.000000  35.000000   \n",
       "mean    0.021152   0.152965   0.102673   0.498355   0.326190   0.224076   \n",
       "std     0.002590   0.020194   0.013575   0.067957   0.165169   0.117795   \n",
       "min     0.015533   0.115833   0.077825   0.334216   0.022161   0.013577   \n",
       "25%     0.019400   0.139839   0.092924   0.459692   0.169544   0.127929   \n",
       "50%     0.020960   0.153177   0.101243   0.498588   0.363555   0.262954   \n",
       "75%     0.022391   0.163627   0.111285   0.537492   0.461589   0.327945   \n",
       "max     0.027774   0.217985   0.131469   0.617797   0.548259   0.388355   \n",
       "\n",
       "        feature7   feature8   feature9  feature10  ...  feature16  feature17  \\\n",
       "count  35.000000  35.000000  35.000000  35.000000  ...  35.000000  35.000000   \n",
       "mean    0.014610   0.019096   0.102667   0.089524  ...   0.431113   0.478556   \n",
       "std     0.010296   0.019531   0.030215   0.037757  ...   0.234521   0.204732   \n",
       "min     0.000000   0.000000   0.026667   0.013333  ...   0.000000   0.021192   \n",
       "25%     0.006957   0.000000   0.090000   0.063333  ...   0.288079   0.342605   \n",
       "50%     0.012794   0.013118   0.106667   0.086667  ...   0.513687   0.590949   \n",
       "75%     0.021083   0.028273   0.120000   0.110000  ...   0.628477   0.634216   \n",
       "max     0.043971   0.065970   0.160000   0.206667  ...   0.718322   0.723400   \n",
       "\n",
       "       feature18  feature19  feature20  feature21  feature22  feature23  \\\n",
       "count  35.000000  35.000000  35.000000  35.000000  35.000000  35.000000   \n",
       "mean    0.419010   0.382441   0.439729   0.338013   0.225336   0.446648   \n",
       "std     0.242001   0.265576   0.245194   0.264080   0.235808   0.242450   \n",
       "min     0.000000   0.000000   0.000000   0.000000   0.000000   0.018102   \n",
       "25%     0.233223   0.129139   0.244150   0.062693   0.023179   0.180464   \n",
       "50%     0.528477   0.415894   0.540177   0.287196   0.090728   0.553642   \n",
       "75%     0.635541   0.626932   0.638631   0.593709   0.443709   0.648565   \n",
       "max     0.708389   0.776821   0.724062   0.785651   0.718543   0.708609   \n",
       "\n",
       "       feature24      label  \n",
       "count  35.000000  35.000000  \n",
       "mean    0.368338   0.571429  \n",
       "std     0.243467   0.502096  \n",
       "min     0.020751   0.000000  \n",
       "25%     0.129912   0.000000  \n",
       "50%     0.384327   1.000000  \n",
       "75%     0.596578   1.000000  \n",
       "max     0.690287   1.000000  \n",
       "\n",
       "[8 rows x 25 columns]"
      ]
     },
     "execution_count": 2,
     "metadata": {},
     "output_type": "execute_result"
    }
   ],
   "source": [
    "data.describe()#数据统计特征描述"
   ]
  },
  {
   "cell_type": "code",
   "execution_count": 4,
   "metadata": {},
   "outputs": [
    {
     "name": "stdout",
     "output_type": "stream",
     "text": [
      "1    20\n",
      "0    15\n",
      "Name: label, dtype: int64\n",
      "不同类别在数据中的占比\n",
      " 1    0.571429\n",
      "0    0.428571\n",
      "Name: label, dtype: float64\n"
     ]
    }
   ],
   "source": [
    "#label为目标变量，1表示为运动员，\n",
    "print(data.label.value_counts())\n",
    "print('不同类别在数据中的占比\\n',data.label.value_counts()/len(data.label))"
   ]
  },
  {
   "cell_type": "code",
   "execution_count": 5,
   "metadata": {},
   "outputs": [],
   "source": [
    "import warnings\n",
    "warnings.filterwarnings('ignore')\n",
    "#目标变量划分\n",
    "X = data.iloc[:,:-1]\n",
    "Y = data.label\n",
    "\n",
    "#数据标准化\n",
    "from sklearn.preprocessing import StandardScaler\n",
    "mod = StandardScaler().fit(X)#数据集训练\n",
    "\n",
    "X_s = pd.DataFrame(mod.transform(X),columns = X.columns)#转换\n"
   ]
  },
  {
   "cell_type": "code",
   "execution_count": null,
   "metadata": {},
   "outputs": [],
   "source": []
  },
  {
   "cell_type": "code",
   "execution_count": 37,
   "metadata": {},
   "outputs": [],
   "source": [
    "\n",
    "from sklearn.linear_model import LogisticRegression\n",
    "from sklearn.svm import LinearSVC\n",
    "from sklearn.tree import DecisionTreeClassifier\n",
    "from sklearn.ensemble import RandomForestClassifier\n",
    "from sklearn.neighbors import KNeighborsClassifier\n",
    "from sklearn.metrics import classification_report,accuracy_score,f1_score,recall_score,precision_score,roc_auc_score\n",
    "from sklearn.model_selection import cross_validate\n",
    "from sklearn.model_selection import train_test_split\n",
    "from sklearn.model_selection import StratifiedKFold\n",
    "from sklearn.metrics import RocCurveDisplay\n",
    "def model_metric(X,Y):\n",
    "    x_train, x_test, y_train, y_test = train_test_split(X,Y,test_size=0.2,random_state=0)\n",
    "\n",
    "    ## 建模并评估\n",
    "    keys = []\n",
    "    scores = []\n",
    "    f1 = []\n",
    "    recall = []\n",
    "    precision = []\n",
    "    roc_auc = []\n",
    "#     cro_train = []\n",
    "    cro_test = []\n",
    "    cv = StratifiedKFold(4)\n",
    "    models = {'逻辑回归': LogisticRegression(solver='liblinear'),\n",
    "              '线性支持向量机': LinearSVC(),\n",
    "              '决策树': DecisionTreeClassifier(),\n",
    "              '随机森林':RandomForestClassifier(n_estimators=15),\n",
    "              'k近邻':KNeighborsClassifier(n_neighbors=20)}\n",
    "\n",
    "    for k,v in models.items():\n",
    "        mod = v\n",
    "        mod.fit(x_train, y_train.values.ravel())\n",
    "        pred = mod.predict(x_test)\n",
    "        print(str(k) + '建模效果：' + '\\n')\n",
    "        print(classification_report(y_test, pred))\n",
    "        acc = accuracy_score(y_test, pred)\n",
    "        print('测试集上分类正确率：'+ str(acc))\n",
    "        print('模型预测效果：'+str(mod.score(x_test,y_test)))\n",
    "        print('\\n' + '\\n')\n",
    "        \n",
    "        cro_score = cross_validate(mod,X,Y,cv=cv)\n",
    "        keys.append(k)\n",
    "        scores.append(acc)\n",
    "        f1.append(f1_score(y_test,pred))\n",
    "        recall.append(recall_score(y_test,pred))\n",
    "        precision.append(precision_score(y_test,pred))\n",
    "        roc_auc.append(roc_auc_score(y_test,pred))\n",
    "#         cro_train.append((cro_score['train_score']).mean())\n",
    "        cro_test.append((cro_score['test_score']).mean())\n",
    "        \n",
    "        table = pd.DataFrame({'model':keys, 'accuracy score':scores,\n",
    "                             'f1 score':f1,'recall':recall,'precision':precision,\n",
    "                             'roc_auc':roc_auc,'cro_test':cro_test})\n",
    "        plt.show()\n",
    "        \n",
    "        fpr, tpr, thresholds = metrics.roc_curve(y_test, pred)\n",
    "        roc_auc1 = metrics.auc(fpr, tpr)\n",
    "        display = metrics.RocCurveDisplay(fpr=fpr, tpr=tpr, roc_auc=roc_auc1)\n",
    "        display.plot()\n",
    "        plt.show()\n",
    "\n",
    "    return table"
   ]
  },
  {
   "cell_type": "code",
   "execution_count": 35,
   "metadata": {},
   "outputs": [],
   "source": [
    "import numpy as np\n",
    "from sklearn.metrics import confusion_matrix\n",
    "from sklearn.metrics import ConfusionMatrixDisplay\n",
    "import matplotlib.pyplot as plt\n",
    "from sklearn import metrics\n",
    "np.random.seed(10)\n",
    "#采用随机森林可以计算特征与目标之间的相关性和重要性排序\n",
    "\n",
    "def importance(X,Y):\n",
    "    clf1 = RandomForestClassifier(n_estimators=10)\n",
    "    clf1.fit(X,Y)\n",
    "    pred = clf1.predict(X)\n",
    "    plt.figure()\n",
    "    cm = confusion_matrix(Y, pred)\n",
    "    cm_display = ConfusionMatrixDisplay(cm).plot()\n",
    "    plt.show()\n",
    "    print(classification_report(Y, pred))\n",
    "    acc = accuracy_score(Y, pred)\n",
    "    print('在全部数据集上分类正确率：'+ str(acc))\n",
    "    print('模型预测效果：'+str(clf1.score(X,Y)))\n",
    "    print('\\n' + '\\n')\n",
    "    feature_importance = clf1.feature_importances_\n",
    "\n",
    "    print('选择出来的特征重要性\\n',pd.DataFrame(feature_importance,index=X.columns,columns=['importance']).sort_values(['importance'],ascending=False))\n",
    "    features_list = X.columns.values\n",
    "    sorted_idx = np.argsort(feature_importance)#返回的是数组值从小到大的索引值\n",
    "\n",
    "    pos = np.arange(sorted_idx.shape[0])+.5#设置间隔\n",
    "\n",
    "    plt.barh(range(len(sorted_idx)),feature_importance[sorted_idx],align='center')\n",
    "\n",
    "    plt.yticks(pos,features_list[sorted_idx])\n",
    "\n",
    "    plt.xlabel('Relative Importance')\n",
    "    plt.title('Variable Importance')\n",
    "    plt.show()\n",
    "    \n",
    "    fpr, tpr, thresholds = metrics.roc_curve(Y, pred)\n",
    "    roc_auc = metrics.auc(fpr, tpr)\n",
    "    display = metrics.RocCurveDisplay(fpr=fpr, tpr=tpr, roc_auc=roc_auc,\n",
    "                                   estimator_name='RandomForest')\n",
    "    display.plot()\n",
    "    plt.show()"
   ]
  },
  {
   "cell_type": "markdown",
   "metadata": {},
   "source": [
    "# 不对数据进行特征选择时"
   ]
  },
  {
   "cell_type": "code",
   "execution_count": 38,
   "metadata": {},
   "outputs": [
    {
     "name": "stdout",
     "output_type": "stream",
     "text": [
      "逻辑回归建模效果：\n",
      "\n",
      "              precision    recall  f1-score   support\n",
      "\n",
      "           0       1.00      0.75      0.86         4\n",
      "           1       0.75      1.00      0.86         3\n",
      "\n",
      "    accuracy                           0.86         7\n",
      "   macro avg       0.88      0.88      0.86         7\n",
      "weighted avg       0.89      0.86      0.86         7\n",
      "\n",
      "测试集上分类正确率：0.8571428571428571\n",
      "模型预测效果：0.8571428571428571\n",
      "\n",
      "\n",
      "\n"
     ]
    },
    {
     "data": {
      "image/png": "[encoded data removed]",
      "text/plain": [
       "<Figure size 432x288 with 1 Axes>"
      ]
     },
     "metadata": {
      "needs_background": "light"
     },
     "output_type": "display_data"
    },
    {
     "name": "stdout",
     "output_type": "stream",
     "text": [
      "线性支持向量机建模效果：\n",
      "\n",
      "              precision    recall  f1-score   support\n",
      "\n",
      "           0       1.00      0.75      0.86         4\n",
      "           1       0.75      1.00      0.86         3\n",
      "\n",
      "    accuracy                           0.86         7\n",
      "   macro avg       0.88      0.88      0.86         7\n",
      "weighted avg       0.89      0.86      0.86         7\n",
      "\n",
      "测试集上分类正确率：0.8571428571428571\n",
      "模型预测效果：0.8571428571428571\n",
      "\n",
      "\n",
      "\n"
     ]
    },
    {
     "data": {
      "image/png": "[encoded data removed]",
      "text/plain": [
       "<Figure size 432x288 with 1 Axes>"
      ]
     },
     "metadata": {
      "needs_background": "light"
     },
     "output_type": "display_data"
    },
    {
     "name": "stdout",
     "output_type": "stream",
     "text": [
      "决策树建模效果：\n",
      "\n",
      "              precision    recall  f1-score   support\n",
      "\n",
      "           0       1.00      0.50      0.67         4\n",
      "           1       0.60      1.00      0.75         3\n",
      "\n",
      "    accuracy                           0.71         7\n",
      "   macro avg       0.80      0.75      0.71         7\n",
      "weighted avg       0.83      0.71      0.70         7\n",
      "\n",
      "测试集上分类正确率：0.7142857142857143\n",
      "模型预测效果：0.7142857142857143\n",
      "\n",
      "\n",
      "\n"
     ]
    },
    {
     "data": {
      "image/png": "[encoded data removed]",
      "text/plain": [
       "<Figure size 432x288 with 1 Axes>"
      ]
     },
     "metadata": {
      "needs_background": "light"
     },
     "output_type": "display_data"
    },
    {
     "name": "stdout",
     "output_type": "stream",
     "text": [
      "随机森林建模效果：\n",
      "\n",
      "              precision    recall  f1-score   support\n",
      "\n",
      "           0       1.00      0.75      0.86         4\n",
      "           1       0.75      1.00      0.86         3\n",
      "\n",
      "    accuracy                           0.86         7\n",
      "   macro avg       0.88      0.88      0.86         7\n",
      "weighted avg       0.89      0.86      0.86         7\n",
      "\n",
      "测试集上分类正确率：0.8571428571428571\n",
      "模型预测效果：0.8571428571428571\n",
      "\n",
      "\n",
      "\n"
     ]
    },
    {
     "data": {
      "image/png": "[encoded data removed]",
      "text/plain": [
       "<Figure size 432x288 with 1 Axes>"
      ]
     },
     "metadata": {
      "needs_background": "light"
     },
     "output_type": "display_data"
    },
    {
     "name": "stdout",
     "output_type": "stream",
     "text": [
      "k近邻建模效果：\n",
      "\n",
      "              precision    recall  f1-score   support\n",
      "\n",
      "           0       1.00      0.50      0.67         4\n",
      "           1       0.60      1.00      0.75         3\n",
      "\n",
      "    accuracy                           0.71         7\n",
      "   macro avg       0.80      0.75      0.71         7\n",
      "weighted avg       0.83      0.71      0.70         7\n",
      "\n",
      "测试集上分类正确率：0.7142857142857143\n",
      "模型预测效果：0.7142857142857143\n",
      "\n",
      "\n",
      "\n"
     ]
    },
    {
     "data": {
      "image/png": "[encoded data removed]",
      "text/plain": [
       "<Figure size 432x288 with 1 Axes>"
      ]
     },
     "metadata": {
      "needs_background": "light"
     },
     "output_type": "display_data"
    },
    {
     "data": {
      "text/html": [
       "<div>\n",
       "<style scoped>\n",
       "    .dataframe tbody tr th:only-of-type {\n",
       "        vertical-align: middle;\n",
       "    }\n",
       "\n",
       "    .dataframe tbody tr th {\n",
       "        vertical-align: top;\n",
       "    }\n",
       "\n",
       "    .dataframe thead th {\n",
       "        text-align: right;\n",
       "    }\n",
       "</style>\n",
       "<table border=\"1\" class=\"dataframe\">\n",
       "  <thead>\n",
       "    <tr style=\"text-align: right;\">\n",
       "      <th></th>\n",
       "      <th>model</th>\n",
       "      <th>accuracy score</th>\n",
       "      <th>f1 score</th>\n",
       "      <th>recall</th>\n",
       "      <th>precision</th>\n",
       "      <th>roc_auc</th>\n",
       "      <th>cro_test</th>\n",
       "    </tr>\n",
       "  </thead>\n",
       "  <tbody>\n",
       "    <tr>\n",
       "      <th>0</th>\n",
       "      <td>逻辑回归</td>\n",
       "      <td>0.857143</td>\n",
       "      <td>0.857143</td>\n",
       "      <td>1.0</td>\n",
       "      <td>0.75</td>\n",
       "      <td>0.875</td>\n",
       "      <td>0.861111</td>\n",
       "    </tr>\n",
       "    <tr>\n",
       "      <th>1</th>\n",
       "      <td>线性支持向量机</td>\n",
       "      <td>0.857143</td>\n",
       "      <td>0.857143</td>\n",
       "      <td>1.0</td>\n",
       "      <td>0.75</td>\n",
       "      <td>0.875</td>\n",
       "      <td>0.805556</td>\n",
       "    </tr>\n",
       "    <tr>\n",
       "      <th>2</th>\n",
       "      <td>决策树</td>\n",
       "      <td>0.714286</td>\n",
       "      <td>0.750000</td>\n",
       "      <td>1.0</td>\n",
       "      <td>0.60</td>\n",
       "      <td>0.750</td>\n",
       "      <td>0.684028</td>\n",
       "    </tr>\n",
       "    <tr>\n",
       "      <th>3</th>\n",
       "      <td>随机森林</td>\n",
       "      <td>0.857143</td>\n",
       "      <td>0.857143</td>\n",
       "      <td>1.0</td>\n",
       "      <td>0.75</td>\n",
       "      <td>0.875</td>\n",
       "      <td>0.861111</td>\n",
       "    </tr>\n",
       "    <tr>\n",
       "      <th>4</th>\n",
       "      <td>k近邻</td>\n",
       "      <td>0.714286</td>\n",
       "      <td>0.750000</td>\n",
       "      <td>1.0</td>\n",
       "      <td>0.60</td>\n",
       "      <td>0.750</td>\n",
       "      <td>0.777778</td>\n",
       "    </tr>\n",
       "  </tbody>\n",
       "</table>\n",
       "</div>"
      ],
      "text/plain": [
       "     model  accuracy score  f1 score  recall  precision  roc_auc  cro_test\n",
       "0     逻辑回归        0.857143  0.857143     1.0       0.75    0.875  0.861111\n",
       "1  线性支持向量机        0.857143  0.857143     1.0       0.75    0.875  0.805556\n",
       "2      决策树        0.714286  0.750000     1.0       0.60    0.750  0.684028\n",
       "3     随机森林        0.857143  0.857143     1.0       0.75    0.875  0.861111\n",
       "4      k近邻        0.714286  0.750000     1.0       0.60    0.750  0.777778"
      ]
     },
     "execution_count": 38,
     "metadata": {},
     "output_type": "execute_result"
    }
   ],
   "source": [
    "model_metric(X_s,Y)"
   ]
  },
  {
   "cell_type": "code",
   "execution_count": 39,
   "metadata": {},
   "outputs": [
    {
     "data": {
      "text/plain": [
       "<Figure size 432x288 with 0 Axes>"
      ]
     },
     "metadata": {},
     "output_type": "display_data"
    },
    {
     "data": {
      "image/png": "[encoded data removed]",
      "text/plain": [
       "<Figure size 432x288 with 2 Axes>"
      ]
     },
     "metadata": {
      "needs_background": "light"
     },
     "output_type": "display_data"
    },
    {
     "name": "stdout",
     "output_type": "stream",
     "text": [
      "              precision    recall  f1-score   support\n",
      "\n",
      "           0       1.00      1.00      1.00        15\n",
      "           1       1.00      1.00      1.00        20\n",
      "\n",
      "    accuracy                           1.00        35\n",
      "   macro avg       1.00      1.00      1.00        35\n",
      "weighted avg       1.00      1.00      1.00        35\n",
      "\n",
      "在全部数据集上分类正确率：1.0\n",
      "模型预测效果：1.0\n",
      "\n",
      "\n",
      "\n",
      "选择出来的特征重要性\n",
      "            importance\n",
      "feature14    0.153761\n",
      "feature13    0.142718\n",
      "feature18    0.106285\n",
      "feature19    0.087464\n",
      "feature23    0.077586\n",
      "feature22    0.075999\n",
      "feature20    0.049999\n",
      "feature8     0.049635\n",
      "feature17    0.048303\n",
      "feature16    0.040496\n",
      "feature21    0.039800\n",
      "feature5     0.034541\n",
      "feature9     0.027544\n",
      "feature1     0.014438\n",
      "feature11    0.011181\n",
      "feature24    0.011053\n",
      "feature7     0.010558\n",
      "feature4     0.010321\n",
      "feature15    0.006341\n",
      "feature3     0.001980\n",
      "feature2     0.000000\n",
      "feature12    0.000000\n",
      "feature10    0.000000\n",
      "feature6     0.000000\n"
     ]
    },
    {
     "data": {
      "image/png": "[encoded data removed]",
      "text/plain": [
       "<Figure size 432x288 with 1 Axes>"
      ]
     },
     "metadata": {
      "needs_background": "light"
     },
     "output_type": "display_data"
    },
    {
     "data": {
      "image/png": "[encoded data removed]",
      "text/plain": [
       "<Figure size 432x288 with 1 Axes>"
      ]
     },
     "metadata": {
      "needs_background": "light"
     },
     "output_type": "display_data"
    }
   ],
   "source": [
    "importance(X_s,Y)"
   ]
  },
  {
   "cell_type": "markdown",
   "metadata": {},
   "source": [
    "# 进行特征选择后，在进行评估预测"
   ]
  },
  {
   "cell_type": "code",
   "execution_count": 40,
   "metadata": {},
   "outputs": [],
   "source": [
    "#进行特征选择,采用递归特征消除法\n",
    "from sklearn.feature_selection import RFECV\n",
    "from sklearn.tree import DecisionTreeClassifier\n",
    "\n",
    "from sklearn.linear_model import LogisticRegression\n",
    "import seaborn as sns\n",
    "def KFold(num):\n",
    "    min_features_to_select = 1 #最小选择的特征\n",
    "    #clf = DecisionTreeClassifier()\n",
    "    clf = LogisticRegression()\n",
    "    cv = StratifiedKFold(num)#采用五折交叉验证\n",
    "    #选择10个相关特征\n",
    "    rfecv = RFECV(estimator = clf,step = 1,cv=cv,scoring='accuracy',\n",
    "               min_features_to_select = min_features_to_select,n_jobs=2)\n",
    "    rfecv.fit_transform(X_s,Y)\n",
    "    print(f'{num}折交叉验证下最佳特征个数：{rfecv.n_features_}')\n",
    "    print(f'{num}折交叉验证下模型评估得分：{rfecv.score(X_s,Y)}')\n",
    "    #只采用相关性较高的特征\n",
    "    columns = X_s.columns[rfecv.support_]\n",
    "    rfe_X = X_s[columns]\n",
    "    \n",
    "    #绘制选择特征之间的相关性\n",
    "    ranking = rfecv.ranking_.reshape(1,X_s.shape[-1])\n",
    "    sns.heatmap(rfe_X.corr(),cmap=plt.cm.viridis)\n",
    "    print('')\n",
    "    plt.figure()\n",
    "    plt.matshow(ranking, cmap=plt.cm.viridis)#所有特征的重要性，其中颜色越深代表越重要\n",
    "    plt.show()\n",
    "    print('-------------------------------------')\n",
    "    return rfe_X"
   ]
  },
  {
   "cell_type": "code",
   "execution_count": 41,
   "metadata": {},
   "outputs": [
    {
     "name": "stdout",
     "output_type": "stream",
     "text": [
      "3折交叉验证下最佳特征个数：12\n",
      "3折交叉验证下模型评估得分：1.0\n",
      "\n"
     ]
    },
    {
     "data": {
      "image/png": "[encoded data removed]",
      "text/plain": [
       "<Figure size 432x288 with 2 Axes>"
      ]
     },
     "metadata": {
      "needs_background": "light"
     },
     "output_type": "display_data"
    },
    {
     "data": {
      "text/plain": [
       "<Figure size 432x288 with 0 Axes>"
      ]
     },
     "metadata": {},
     "output_type": "display_data"
    },
    {
     "data": {
      "image/png": "[encoded data removed]",
      "text/plain": [
       "<Figure size 1152x144 with 1 Axes>"
      ]
     },
     "metadata": {
      "needs_background": "light"
     },
     "output_type": "display_data"
    },
    {
     "name": "stdout",
     "output_type": "stream",
     "text": [
      "-------------------------------------\n",
      "4折交叉验证下最佳特征个数：10\n",
      "4折交叉验证下模型评估得分：1.0\n",
      "\n"
     ]
    },
    {
     "data": {
      "image/png": "[encoded data removed]",
      "text/plain": [
       "<Figure size 432x288 with 2 Axes>"
      ]
     },
     "metadata": {
      "needs_background": "light"
     },
     "output_type": "display_data"
    },
    {
     "data": {
      "text/plain": [
       "<Figure size 432x288 with 0 Axes>"
      ]
     },
     "metadata": {},
     "output_type": "display_data"
    },
    {
     "data": {
      "image/png": "[encoded data removed]",
      "text/plain": [
       "<Figure size 1152x144 with 1 Axes>"
      ]
     },
     "metadata": {
      "needs_background": "light"
     },
     "output_type": "display_data"
    },
    {
     "name": "stdout",
     "output_type": "stream",
     "text": [
      "-------------------------------------\n",
      "5折交叉验证下最佳特征个数：9\n",
      "5折交叉验证下模型评估得分：0.9714285714285714\n",
      "\n"
     ]
    },
    {
     "data": {
      "image/png": "[encoded data removed]",
      "text/plain": [
       "<Figure size 432x288 with 2 Axes>"
      ]
     },
     "metadata": {
      "needs_background": "light"
     },
     "output_type": "display_data"
    },
    {
     "data": {
      "text/plain": [
       "<Figure size 432x288 with 0 Axes>"
      ]
     },
     "metadata": {},
     "output_type": "display_data"
    },
    {
     "data": {
      "image/png": "[encoded data removed]",
      "text/plain": [
       "<Figure size 1152x144 with 1 Axes>"
      ]
     },
     "metadata": {
      "needs_background": "light"
     },
     "output_type": "display_data"
    },
    {
     "name": "stdout",
     "output_type": "stream",
     "text": [
      "-------------------------------------\n"
     ]
    }
   ],
   "source": [
    "for num in range(3,6):\n",
    "    KFold(num)"
   ]
  },
  {
   "cell_type": "code",
   "execution_count": 42,
   "metadata": {},
   "outputs": [
    {
     "name": "stdout",
     "output_type": "stream",
     "text": [
      "3折交叉验证下最佳特征个数：12\n",
      "3折交叉验证下模型评估得分：1.0\n",
      "\n"
     ]
    },
    {
     "data": {
      "image/png": "[encoded data removed]",
      "text/plain": [
       "<Figure size 432x288 with 2 Axes>"
      ]
     },
     "metadata": {
      "needs_background": "light"
     },
     "output_type": "display_data"
    },
    {
     "data": {
      "text/plain": [
       "<Figure size 432x288 with 0 Axes>"
      ]
     },
     "metadata": {},
     "output_type": "display_data"
    },
    {
     "data": {
      "image/png": "[encoded data removed]",
      "text/plain": [
       "<Figure size 1152x144 with 1 Axes>"
      ]
     },
     "metadata": {
      "needs_background": "light"
     },
     "output_type": "display_data"
    },
    {
     "name": "stdout",
     "output_type": "stream",
     "text": [
      "-------------------------------------\n"
     ]
    }
   ],
   "source": [
    "#根据上述结果，采用3折交叉验证\n",
    "rfe_X = KFold(3)"
   ]
  },
  {
   "cell_type": "code",
   "execution_count": 149,
   "metadata": {},
   "outputs": [],
   "source": []
  },
  {
   "cell_type": "code",
   "execution_count": 43,
   "metadata": {},
   "outputs": [
    {
     "name": "stdout",
     "output_type": "stream",
     "text": [
      "逻辑回归建模效果：\n",
      "\n",
      "              precision    recall  f1-score   support\n",
      "\n",
      "           0       1.00      1.00      1.00         4\n",
      "           1       1.00      1.00      1.00         3\n",
      "\n",
      "    accuracy                           1.00         7\n",
      "   macro avg       1.00      1.00      1.00         7\n",
      "weighted avg       1.00      1.00      1.00         7\n",
      "\n",
      "测试集上分类正确率：1.0\n",
      "模型预测效果：1.0\n",
      "\n",
      "\n",
      "\n"
     ]
    },
    {
     "data": {
      "image/png": "[encoded data removed]",
      "text/plain": [
       "<Figure size 432x288 with 1 Axes>"
      ]
     },
     "metadata": {
      "needs_background": "light"
     },
     "output_type": "display_data"
    },
    {
     "name": "stdout",
     "output_type": "stream",
     "text": [
      "线性支持向量机建模效果：\n",
      "\n",
      "              precision    recall  f1-score   support\n",
      "\n",
      "           0       1.00      1.00      1.00         4\n",
      "           1       1.00      1.00      1.00         3\n",
      "\n",
      "    accuracy                           1.00         7\n",
      "   macro avg       1.00      1.00      1.00         7\n",
      "weighted avg       1.00      1.00      1.00         7\n",
      "\n",
      "测试集上分类正确率：1.0\n",
      "模型预测效果：1.0\n",
      "\n",
      "\n",
      "\n"
     ]
    },
    {
     "data": {
      "image/png": "[encoded data removed]",
      "text/plain": [
       "<Figure size 432x288 with 1 Axes>"
      ]
     },
     "metadata": {
      "needs_background": "light"
     },
     "output_type": "display_data"
    },
    {
     "name": "stdout",
     "output_type": "stream",
     "text": [
      "决策树建模效果：\n",
      "\n",
      "              precision    recall  f1-score   support\n",
      "\n",
      "           0       1.00      0.50      0.67         4\n",
      "           1       0.60      1.00      0.75         3\n",
      "\n",
      "    accuracy                           0.71         7\n",
      "   macro avg       0.80      0.75      0.71         7\n",
      "weighted avg       0.83      0.71      0.70         7\n",
      "\n",
      "测试集上分类正确率：0.7142857142857143\n",
      "模型预测效果：0.7142857142857143\n",
      "\n",
      "\n",
      "\n"
     ]
    },
    {
     "data": {
      "image/png": "[encoded data removed]",
      "text/plain": [
       "<Figure size 432x288 with 1 Axes>"
      ]
     },
     "metadata": {
      "needs_background": "light"
     },
     "output_type": "display_data"
    },
    {
     "name": "stdout",
     "output_type": "stream",
     "text": [
      "随机森林建模效果：\n",
      "\n",
      "              precision    recall  f1-score   support\n",
      "\n",
      "           0       0.80      1.00      0.89         4\n",
      "           1       1.00      0.67      0.80         3\n",
      "\n",
      "    accuracy                           0.86         7\n",
      "   macro avg       0.90      0.83      0.84         7\n",
      "weighted avg       0.89      0.86      0.85         7\n",
      "\n",
      "测试集上分类正确率：0.8571428571428571\n",
      "模型预测效果：0.8571428571428571\n",
      "\n",
      "\n",
      "\n"
     ]
    },
    {
     "data": {
      "image/png": "[encoded data removed]",
      "text/plain": [
       "<Figure size 432x288 with 1 Axes>"
      ]
     },
     "metadata": {
      "needs_background": "light"
     },
     "output_type": "display_data"
    },
    {
     "name": "stdout",
     "output_type": "stream",
     "text": [
      "k近邻建模效果：\n",
      "\n",
      "              precision    recall  f1-score   support\n",
      "\n",
      "           0       1.00      0.25      0.40         4\n",
      "           1       0.50      1.00      0.67         3\n",
      "\n",
      "    accuracy                           0.57         7\n",
      "   macro avg       0.75      0.62      0.53         7\n",
      "weighted avg       0.79      0.57      0.51         7\n",
      "\n",
      "测试集上分类正确率：0.5714285714285714\n",
      "模型预测效果：0.5714285714285714\n",
      "\n",
      "\n",
      "\n"
     ]
    },
    {
     "data": {
      "image/png": "[encoded data removed]",
      "text/plain": [
       "<Figure size 432x288 with 1 Axes>"
      ]
     },
     "metadata": {
      "needs_background": "light"
     },
     "output_type": "display_data"
    },
    {
     "data": {
      "text/html": [
       "<div>\n",
       "<style scoped>\n",
       "    .dataframe tbody tr th:only-of-type {\n",
       "        vertical-align: middle;\n",
       "    }\n",
       "\n",
       "    .dataframe tbody tr th {\n",
       "        vertical-align: top;\n",
       "    }\n",
       "\n",
       "    .dataframe thead th {\n",
       "        text-align: right;\n",
       "    }\n",
       "</style>\n",
       "<table border=\"1\" class=\"dataframe\">\n",
       "  <thead>\n",
       "    <tr style=\"text-align: right;\">\n",
       "      <th></th>\n",
       "      <th>model</th>\n",
       "      <th>accuracy score</th>\n",
       "      <th>f1 score</th>\n",
       "      <th>recall</th>\n",
       "      <th>precision</th>\n",
       "      <th>roc_auc</th>\n",
       "      <th>cro_test</th>\n",
       "    </tr>\n",
       "  </thead>\n",
       "  <tbody>\n",
       "    <tr>\n",
       "      <th>0</th>\n",
       "      <td>逻辑回归</td>\n",
       "      <td>1.000000</td>\n",
       "      <td>1.000000</td>\n",
       "      <td>1.000000</td>\n",
       "      <td>1.0</td>\n",
       "      <td>1.000000</td>\n",
       "      <td>0.888889</td>\n",
       "    </tr>\n",
       "    <tr>\n",
       "      <th>1</th>\n",
       "      <td>线性支持向量机</td>\n",
       "      <td>1.000000</td>\n",
       "      <td>1.000000</td>\n",
       "      <td>1.000000</td>\n",
       "      <td>1.0</td>\n",
       "      <td>1.000000</td>\n",
       "      <td>0.833333</td>\n",
       "    </tr>\n",
       "    <tr>\n",
       "      <th>2</th>\n",
       "      <td>决策树</td>\n",
       "      <td>0.714286</td>\n",
       "      <td>0.750000</td>\n",
       "      <td>1.000000</td>\n",
       "      <td>0.6</td>\n",
       "      <td>0.750000</td>\n",
       "      <td>0.739583</td>\n",
       "    </tr>\n",
       "    <tr>\n",
       "      <th>3</th>\n",
       "      <td>随机森林</td>\n",
       "      <td>0.857143</td>\n",
       "      <td>0.800000</td>\n",
       "      <td>0.666667</td>\n",
       "      <td>1.0</td>\n",
       "      <td>0.833333</td>\n",
       "      <td>0.861111</td>\n",
       "    </tr>\n",
       "    <tr>\n",
       "      <th>4</th>\n",
       "      <td>k近邻</td>\n",
       "      <td>0.571429</td>\n",
       "      <td>0.666667</td>\n",
       "      <td>1.000000</td>\n",
       "      <td>0.5</td>\n",
       "      <td>0.625000</td>\n",
       "      <td>0.750000</td>\n",
       "    </tr>\n",
       "  </tbody>\n",
       "</table>\n",
       "</div>"
      ],
      "text/plain": [
       "     model  accuracy score  f1 score    recall  precision   roc_auc  cro_test\n",
       "0     逻辑回归        1.000000  1.000000  1.000000        1.0  1.000000  0.888889\n",
       "1  线性支持向量机        1.000000  1.000000  1.000000        1.0  1.000000  0.833333\n",
       "2      决策树        0.714286  0.750000  1.000000        0.6  0.750000  0.739583\n",
       "3     随机森林        0.857143  0.800000  0.666667        1.0  0.833333  0.861111\n",
       "4      k近邻        0.571429  0.666667  1.000000        0.5  0.625000  0.750000"
      ]
     },
     "execution_count": 43,
     "metadata": {},
     "output_type": "execute_result"
    }
   ],
   "source": [
    "#拆分数据集\n",
    "\n",
    "model_metric(rfe_X,Y)"
   ]
  },
  {
   "cell_type": "code",
   "execution_count": 48,
   "metadata": {},
   "outputs": [
    {
     "data": {
      "text/plain": [
       "<Figure size 432x288 with 0 Axes>"
      ]
     },
     "metadata": {},
     "output_type": "display_data"
    },
    {
     "data": {
      "image/png": "[encoded data removed]",
      "text/plain": [
       "<Figure size 432x288 with 2 Axes>"
      ]
     },
     "metadata": {
      "needs_background": "light"
     },
     "output_type": "display_data"
    },
    {
     "name": "stdout",
     "output_type": "stream",
     "text": [
      "              precision    recall  f1-score   support\n",
      "\n",
      "           0       1.00      1.00      1.00        15\n",
      "           1       1.00      1.00      1.00        20\n",
      "\n",
      "    accuracy                           1.00        35\n",
      "   macro avg       1.00      1.00      1.00        35\n",
      "weighted avg       1.00      1.00      1.00        35\n",
      "\n",
      "在全部数据集上分类正确率：1.0\n",
      "模型预测效果：1.0\n",
      "\n",
      "\n",
      "\n",
      "选择出来的特征重要性\n",
      "            importance\n",
      "feature15    0.195796\n",
      "feature14    0.171011\n",
      "feature1     0.131453\n",
      "feature8     0.101923\n",
      "feature24    0.100000\n",
      "feature11    0.077670\n",
      "feature12    0.067497\n",
      "feature13    0.059716\n",
      "feature4     0.054956\n",
      "feature10    0.017677\n",
      "feature2     0.011364\n",
      "feature22    0.010937\n"
     ]
    },
    {
     "data": {
      "image/png": "[encoded data removed]",
      "text/plain": [
       "<Figure size 432x288 with 1 Axes>"
      ]
     },
     "metadata": {
      "needs_background": "light"
     },
     "output_type": "display_data"
    },
    {
     "data": {
      "image/png": "[encoded data removed]",
      "text/plain": [
       "<Figure size 432x288 with 1 Axes>"
      ]
     },
     "metadata": {
      "needs_background": "light"
     },
     "output_type": "display_data"
    }
   ],
   "source": [
    "importance(rfe_X,Y)"
   ]
  },
  {
   "cell_type": "code",
   "execution_count": 45,
   "metadata": {},
   "outputs": [
    {
     "data": {
      "image/png": "[encoded data removed]",
      "text/plain": [
       "<Figure size 432x288 with 1 Axes>"
      ]
     },
     "metadata": {
      "needs_background": "light"
     },
     "output_type": "display_data"
    }
   ],
   "source": [
    "from sklearn.model_selection import permutation_test_score\n",
    "cv = StratifiedKFold(4)\n",
    "clf1 = RandomForestClassifier(n_estimators=10)\n",
    "\n",
    "score, perm_scores, pvalue = permutation_test_score(\n",
    "    clf1, rfe_X, Y, scoring=\"accuracy\", cv=cv, n_permutations=1000)\n",
    "\n",
    "import matplotlib.pyplot as plt\n",
    "\n",
    "fig, ax = plt.subplots()\n",
    "\n",
    "ax.hist(perm_scores, bins=20, density=True)\n",
    "ax.axvline(score, ls=\"--\", color=\"r\")\n",
    "score_label = f\"Score on original\\ndata: {score:.2f}\\n(p-value: {pvalue:.3f})\"\n",
    "ax.text(0.7, 4, score_label, fontsize=10)\n",
    "ax.set_xlabel(\"Accuracy score\")\n",
    "_ = ax.set_ylabel(\"Probability\")"
   ]
  },
  {
   "cell_type": "code",
   "execution_count": 54,
   "metadata": {},
   "outputs": [],
   "source": [
    "origin = pd.concat([rfe_X,Y],axis=1)\n",
    "\n",
    "origin.to_csv('feature_select.csv')\n"
   ]
  },
  {
   "cell_type": "code",
   "execution_count": null,
   "metadata": {},
   "outputs": [],
   "source": []
  }
 ],
 "metadata": {
  "kernelspec": {
   "display_name": "Python [conda env:pytorch] *",
   "language": "python",
   "name": "conda-env-pytorch-py"
  },
  "language_info": {
   "codemirror_mode": {
    "name": "ipython",
    "version": 3
   },
   "file_extension": ".py",
   "mimetype": "text/x-python",
   "name": "python",
   "nbconvert_exporter": "python",
   "pygments_lexer": "ipython3",
   "version": "3.6.10"
  }
 },
 "nbformat": 4,
 "nbformat_minor": 2
}
