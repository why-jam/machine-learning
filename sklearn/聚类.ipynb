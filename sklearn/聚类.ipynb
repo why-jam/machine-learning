{
 "cells": [
  {
   "cell_type": "markdown",
   "metadata": {},
   "source": [
    "# 聚类"
   ]
  },
  {
   "cell_type": "markdown",
   "metadata": {},
   "source": [
    "将数据集中相似的样本进行分组，组成为cluster（无监督学习）  \n",
    "- 相同cluster的样本之间距离较近\n",
    "- 不同cluster的样本之间距离较远"
   ]
  },
  {
   "cell_type": "markdown",
   "metadata": {},
   "source": [
    "## K-Means(高斯混合模型的特例)\n",
    "目标：将n个样本划分到K个cluster中，每个样本归属于距离自己最近的cluster\n",
    "1. 随机选择K个样本做质心\n",
    "2. 指派每个样本到最近的cluster\n",
    "3. 重新计算质心\n",
    "4. 迭代\n",
    "\n",
    "参数：K值，质心的选择\n",
    "\n",
    "优点：\n",
    "    - 简单，直观\n",
    "缺点：\n",
    "    - 容易陷入局部最优解\n",
    "    - 易受到离群值影响\n",
    "    - 时间复杂度较高"
   ]
  },
  {
   "cell_type": "code",
   "execution_count": null,
   "metadata": {},
   "outputs": [],
   "source": [
    "from sklearn.cluster import KMeans\n",
    "KMeans(n_clusters=8,                     # cluster个数\n",
    "       init='k-means++',                 # 初始化质心的方法'k-means++'or'random'\n",
    "       n_init=10, \n",
    "       max_iter=300,                     # 最大迭代次数\n",
    "       tol=0.0001,                       # 迭代停止的精度\n",
    "       precompute_distances='auto', \n",
    "       verbose=0, \n",
    "       random_state=None,                # 随机种子\n",
    "       copy_x=True, \n",
    "       n_jobs=None, \n",
    "       algorithm='auto')"
   ]
  },
  {
   "cell_type": "code",
   "execution_count": null,
   "metadata": {},
   "outputs": [],
   "source": [
    "# # KMeans类方法\n",
    "\n",
    "fit(X)\n",
    "\n",
    "fit_predict(X)                  # 直接输出类标签\n",
    "\n",
    "fit_transform(X)\n",
    "\n",
    "predict(X)                      # 预测X中每个样本所属的最近cluster（已经fit过的Kmeans类）\n",
    "\n",
    "transform(X)                    # 将X转变成cluster-distance"
   ]
  },
  {
   "cell_type": "code",
   "execution_count": null,
   "metadata": {},
   "outputs": [],
   "source": [
    "# KMeans类属性\n",
    "\n",
    "cluster_centers_    # 聚类中心\n",
    "\n",
    "labels_             #  类标签\n",
    "\n",
    "inertia_            # 样本到其最近的聚类中心的平方距离之和\n",
    "\n",
    "n_iter_             # 迭代次数"
   ]
  },
  {
   "cell_type": "markdown",
   "metadata": {},
   "source": [
    "## 层次聚类\n",
    "1. 自下而上聚合（类似哈夫曼树构造）\n",
    "2. 自上而下分拆\n",
    "\n",
    "如何计算两个cluster的距离，然后连接起来？\n",
    "1. 单连接（min）       违背紧密性\n",
    "2. 完整连接（max）\n",
    "3. 平均连接（mean）"
   ]
  },
  {
   "cell_type": "code",
   "execution_count": null,
   "metadata": {},
   "outputs": [],
   "source": [
    "from sklearn.cluster import AgglomerativeClustering\n",
    "AgglomerativeClustering(n_clusters=2, \n",
    "                        affinity='euclidean',              #样本距离\n",
    "                        memory=None,                       # 是否缓存树\n",
    "                        connectivity=None, \n",
    "                        compute_full_tree='auto', \n",
    "                        linkage='ward',                     # 连接方法{“ward”, “complete”, “average”, “single”}\n",
    "                        distance_threshold=None)"
   ]
  },
  {
   "cell_type": "code",
   "execution_count": null,
   "metadata": {},
   "outputs": [],
   "source": [
    "# 属性\n",
    "cluster_centers_    # 聚类中心\n",
    "\n",
    "labels_             #  类标签\n",
    "\n",
    "n_leaves_           # 叶子"
   ]
  },
  {
   "cell_type": "code",
   "execution_count": null,
   "metadata": {},
   "outputs": [],
   "source": [
    "# 方法\n",
    "\n",
    "fit(X)\n",
    "\n",
    "fit_predict(X)     # 直接输出类标签"
   ]
  },
  {
   "cell_type": "markdown",
   "metadata": {},
   "source": [
    "## 谱聚类\n",
    "\n",
    "图解（适合处理半月形或者圆环形数据）"
   ]
  },
  {
   "cell_type": "code",
   "execution_count": null,
   "metadata": {},
   "outputs": [],
   "source": [
    "from sklearn.cluster import SpectralClustering\n",
    "SpectralClustering(n_clusters=8, \n",
    "                   eigen_solver=None, \n",
    "                   n_components=None, \n",
    "                   random_state=None, \n",
    "                   n_init=10, \n",
    "                   gamma=1.0, \n",
    "                   affinity='rbf', \n",
    "                   n_neighbors=10, \n",
    "                   eigen_tol=0.0, \n",
    "                   assign_labels='kmeans', \n",
    "                   degree=3, \n",
    "                   coef0=1, \n",
    "                   kernel_params=None, \n",
    "                   n_jobs=None) "
   ]
  },
  {
   "cell_type": "markdown",
   "metadata": {},
   "source": [
    "## DBSCAN聚类\n",
    "\n",
    "找朋友，朋友多的变成核心对象\n",
    "\n",
    "优点缺点：\n",
    "- 自己判断是否离群，自己确定K的个数"
   ]
  },
  {
   "cell_type": "code",
   "execution_count": null,
   "metadata": {},
   "outputs": [],
   "source": [
    "from sklearn.cluster import DBSCAN\n",
    "DBSCAN(eps=0.5,                 # 领域半径\n",
    "       min_samples=5,           # 核心对象领域内的最小样本数\n",
    "       metric='euclidean',      # 距离\n",
    "       metric_params=None, \n",
    "       algorithm='auto', \n",
    "       leaf_size=30, \n",
    "       p=None, \n",
    "       n_jobs=None)"
   ]
  },
  {
   "cell_type": "markdown",
   "metadata": {},
   "source": [
    "## 均值漂移聚类"
   ]
  },
  {
   "cell_type": "code",
   "execution_count": null,
   "metadata": {},
   "outputs": [],
   "source": [
    "from sklearn.cluster import MeanShift"
   ]
  },
  {
   "cell_type": "markdown",
   "metadata": {},
   "source": [
    "# 评价指标"
   ]
  },
  {
   "cell_type": "markdown",
   "metadata": {},
   "source": [
    "## 轮廓系数"
   ]
  },
  {
   "cell_type": "markdown",
   "metadata": {},
   "source": [
    "1. 对于每一个样本计算a(平均簇内距离)，b(平均近聚类距离),b-a/max(a,b)\n",
    "2. 轮廓系数取值（-1，1）,1表示聚类效果最好"
   ]
  },
  {
   "cell_type": "code",
   "execution_count": null,
   "metadata": {},
   "outputs": [],
   "source": [
    "from sklearn import metrics\n",
    "metrics.silhouette_score(X,                     # 特征数组\n",
    "                         labels,                # 预测标签 \n",
    "                         metric='euclidean',    # 距离指标\n",
    "                         sample_size=None, \n",
    "                         random_state=None)"
   ]
  },
  {
   "cell_type": "markdown",
   "metadata": {},
   "source": [
    "## rand index\n",
    "### 聚类中正确决策的比例\n",
    "- TP:类似的样本处于相同的cluster\n",
    "- TN:不同的样本处于不同的cluster\n",
    "- FP:不同的样本处于相同的cluster\n",
    "- FN:类似的样本处于不同的cluster\n",
    "类似的对于真实值而言，相同是对于预测值而言\n",
    "\n",
    "\n",
    "\n",
    "AR = (TP+TN)/(TP+FP+FN+TN)\n",
    "\n",
    "任取两个类，正确聚类的决策比例，取值[0,1]，越大聚类效果越好"
   ]
  },
  {
   "cell_type": "markdown",
   "metadata": {},
   "source": [
    "## adjuested rand index\n",
    "ARI = (RI - Expected_RI) / (max(RI) - Expected_RI)"
   ]
  },
  {
   "cell_type": "code",
   "execution_count": null,
   "metadata": {},
   "outputs": [],
   "source": [
    "from sklearn.metrics import adjusted_rand_score\n",
    "adjusted_rand_score(labels_true,          # cluster数组\n",
    "                    labels_pred)"
   ]
  }
 ],
 "metadata": {
  "kernelspec": {
   "display_name": "Python 3",
   "language": "python",
   "name": "python3"
  },
  "language_info": {
   "codemirror_mode": {
    "name": "ipython",
    "version": 3
   },
   "file_extension": ".py",
   "mimetype": "text/x-python",
   "name": "python",
   "nbconvert_exporter": "python",
   "pygments_lexer": "ipython3",
   "version": "3.7.4"
  }
 },
 "nbformat": 4,
 "nbformat_minor": 4
}
