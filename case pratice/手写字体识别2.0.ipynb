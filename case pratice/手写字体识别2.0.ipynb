{
 "cells": [
  {
   "cell_type": "code",
   "execution_count": 1,
   "metadata": {},
   "outputs": [],
   "source": [
    "import matplotlib.pyplot as plt\n",
    "import numpy as np\n",
    "import scipy.io as scio"
   ]
  },
  {
   "cell_type": "code",
   "execution_count": 2,
   "metadata": {},
   "outputs": [
    {
     "name": "stdout",
     "output_type": "stream",
     "text": [
      "[256, 200, 10]\n"
     ]
    }
   ],
   "source": [
    "data = scio.loadmat('digit.mat')\n",
    "X = data['X']#训练数据\n",
    "T = data['T']#测试数据\n",
    "[d,m,c] = T.shape#256为16*16的像素图像向量化，“0”到“9”每个数字都有200个样本\n",
    "print([d,m,c])"
   ]
  },
  {
   "cell_type": "code",
   "execution_count": 3,
   "metadata": {},
   "outputs": [],
   "source": [
    "S = np.zeros((256,256))\n",
    "mu = np.zeros((256,c))\n",
    "for i in range(0,c):\n",
    "    mu[:,i] = np.mean(X[:,:,i],1)\n",
    "    S+=np.cov(X[:,:,i])/c           #S的维度（256，256）\n",
    "h = np.dot(np.linalg.inv(S),mu)     #256*10"
   ]
  },
  {
   "cell_type": "code",
   "execution_count": 4,
   "metadata": {},
   "outputs": [],
   "source": [
    "p = np.zeros((10,200,10))\n",
    "for k in range(0,c):\n",
    "    p[:,:,k]=np.dot(h.T,T[:,:,k])-np.tile(sum(np.multiply(mu,h)).reshape(10,1),(1,m))/2"
   ]
  },
  {
   "cell_type": "code",
   "execution_count": 5,
   "metadata": {},
   "outputs": [],
   "source": [
    "P = p.argmax(axis=0)"
   ]
  },
  {
   "cell_type": "code",
   "execution_count": 12,
   "metadata": {},
   "outputs": [],
   "source": [
    "C = np.zeros((c,c))\n",
    "for i in range(c):\n",
    "    for j in range(c):\n",
    "        C[i,j] = np.sum(P[:,i]==j)"
   ]
  },
  {
   "cell_type": "code",
   "execution_count": 13,
   "metadata": {},
   "outputs": [
    {
     "data": {
      "text/plain": [
       "array([[199.,   0.,   0.,   0.,   1.,   0.,   0.,   0.,   0.,   0.],\n",
       "       [  0., 169.,   8.,   8.,   1.,   2.,   4.,   8.,   0.,   0.],\n",
       "       [  0.,   0., 182.,   1.,   5.,   0.,   2.,   8.,   1.,   1.],\n",
       "       [  2.,   2.,   0., 182.,   0.,   1.,   0.,   3.,  10.,   0.],\n",
       "       [  0.,   0.,  21.,   4., 162.,   1.,   0.,   4.,   4.,   4.],\n",
       "       [  1.,   2.,   0.,   1.,   5., 185.,   0.,   3.,   0.,   3.],\n",
       "       [  2.,   0.,   1.,   5.,   1.,   0., 181.,   0.,   9.,   1.],\n",
       "       [  0.,   1.,  16.,   6.,   6.,   0.,   1., 164.,   3.,   3.],\n",
       "       [  1.,   0.,   0.,   8.,   0.,   0.,   7.,   2., 182.,   0.],\n",
       "       [  0.,   0.,   3.,   0.,   0.,   4.,   0.,   1.,   0., 192.]])"
      ]
     },
     "execution_count": 13,
     "metadata": {},
     "output_type": "execute_result"
    }
   ],
   "source": [
    "C"
   ]
  },
  {
   "cell_type": "code",
   "execution_count": 21,
   "metadata": {},
   "outputs": [
    {
     "data": {
      "text/plain": [
       "array([1., 1., 0., 1.])"
      ]
     },
     "execution_count": 21,
     "metadata": {},
     "output_type": "execute_result"
    }
   ],
   "source": [
    "A = np.array([[1,3,2,5],[43,1,2,3],[3,2,4,2],[2,4,5,2]])\n",
    "b = np.zeros(4)\n",
    "for i in range(4):\n",
    "    b[i]= np.sum(A[:,i]==j)\n",
    "b"
   ]
  },
  {
   "cell_type": "code",
   "execution_count": 7,
   "metadata": {},
   "outputs": [
    {
     "data": {
      "text/plain": [
       "<matplotlib.image.AxesImage at 0x1a4e017a108>"
      ]
     },
     "execution_count": 7,
     "metadata": {},
     "output_type": "execute_result"
    },
    {
     "data": {
      "image/png": "[encoded data removed]",
      "text/plain": [
       "<Figure size 432x288 with 1 Axes>"
      ]
     },
     "metadata": {
      "needs_background": "light"
     },
     "output_type": "display_data"
    }
   ],
   "source": [
    "import matplotlib.pyplot as plt\n",
    "import matplotlib as mpl\n",
    "\n",
    "plt.imshow(X[:,23,8].reshape((16,16)))"
   ]
  },
  {
   "cell_type": "code",
   "execution_count": null,
   "metadata": {},
   "outputs": [],
   "source": []
  }
 ],
 "metadata": {
  "kernelspec": {
   "display_name": "Python 3",
   "language": "python",
   "name": "python3"
  },
  "language_info": {
   "codemirror_mode": {
    "name": "ipython",
    "version": 3
   },
   "file_extension": ".py",
   "mimetype": "text/x-python",
   "name": "python",
   "nbconvert_exporter": "python",
   "pygments_lexer": "ipython3",
   "version": "3.7.4"
  }
 },
 "nbformat": 4,
 "nbformat_minor": 4
}
