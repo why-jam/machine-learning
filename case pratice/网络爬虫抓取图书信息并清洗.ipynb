{
 "cells": [
  {
   "cell_type": "markdown",
   "metadata": {},
   "source": [
    "# 收集当当网上某类书籍的售卖信息\n",
    "## 收集进入的第一页上的书籍信息，并保存为CSV格式"
   ]
  },
  {
   "cell_type": "code",
   "execution_count": 35,
   "metadata": {},
   "outputs": [],
   "source": [
    "import requests\n",
    "import time\n",
    "import pandas as pd\n",
    "from lxml import etree\n",
    "#注意不要多次运行,可能反爬\n",
    "def collect_book_name(bookname):\n",
    "    time.sleep(5)\n",
    "    test_url = 'http://search.dangdang.com/?key='+bookname\n",
    "    \n",
    "    content_page = requests.get(test_url).text#读取数据信息\n",
    "    #print(content_page[:1000])#输出前1000个字符\n",
    "    books=[]\n",
    "    page = etree.HTML(content_page)\n",
    "    #print(page)\n",
    "    book_name = page.xpath('//li/p/a[@name=\"itemlist-title\"]/@title')\n",
    "    price_now = page.xpath('//li/p/span[@class=\"search_now_price\"]/text()')\n",
    "    comment_num = page.xpath('//li/p[@class=\"search_star_line\"]/a[@class=\"search_comment_num\"]/text()')\n",
    "    stars = page.xpath('//li/p[@class=\"search_star_line\"]/span/span/@style')\n",
    "    #book_author = page.xpath('//li/p[@class=\"search_book_author\"]/span/a[@name=\"itemlist-author\"]/text()')\n",
    "    pub_info = page.xpath('//li/p[@class=\"search_book_author\"]')\n",
    "    pub_info = [book_pub.xpath('string(.)') for book_pub in pub_info]\n",
    "    for book in zip(book_name, pub_info, price_now, stars, comment_num):\n",
    "        books.append(list(book))\n",
    "    print('当当网上关于{}的信息'.format(bookname))\n",
    "    print()\n",
    "    \n",
    "    \n",
    "    books_df = pd.DataFrame(books,columns=[\"书名\",\"出版信息\",\"当前价格\",\"星级\",\"评论数\"])\n",
    "    books_df.to_csv('图书—'+bookname+'.csv',index=None,encoding=\"utf8\")\n",
    "    print('{}的首页书籍收集成功'.format(bookname))"
   ]
  },
  {
   "cell_type": "code",
   "execution_count": 36,
   "metadata": {},
   "outputs": [
    {
     "name": "stdout",
     "output_type": "stream",
     "text": [
      "当当网上关于数学建模的信息\n",
      "\n",
      "数学建模的首页书籍收集成功\n"
     ]
    }
   ],
   "source": [
    "collect_book_name('数学建模')"
   ]
  },
  {
   "cell_type": "code",
   "execution_count": 37,
   "metadata": {},
   "outputs": [
    {
     "data": {
      "text/html": [
       "<div>\n",
       "<style scoped>\n",
       "    .dataframe tbody tr th:only-of-type {\n",
       "        vertical-align: middle;\n",
       "    }\n",
       "\n",
       "    .dataframe tbody tr th {\n",
       "        vertical-align: top;\n",
       "    }\n",
       "\n",
       "    .dataframe thead th {\n",
       "        text-align: right;\n",
       "    }\n",
       "</style>\n",
       "<table border=\"1\" class=\"dataframe\">\n",
       "  <thead>\n",
       "    <tr style=\"text-align: right;\">\n",
       "      <th></th>\n",
       "      <th>书名</th>\n",
       "      <th>出版信息</th>\n",
       "      <th>当前价格</th>\n",
       "      <th>星级</th>\n",
       "      <th>评论数</th>\n",
       "    </tr>\n",
       "  </thead>\n",
       "  <tbody>\n",
       "    <tr>\n",
       "      <td>0</td>\n",
       "      <td>数学建模（原书第5版，从离散建模和连续建模两部分介绍整个建模过程的原理，使读者在创造性模型...</td>\n",
       "      <td>吉奥丹诺 等著，叶其孝 等译 /2014-10-01  /机械工业出版社</td>\n",
       "      <td>¥69.30</td>\n",
       "      <td>width: 100%;</td>\n",
       "      <td>5356条评论</td>\n",
       "    </tr>\n",
       "    <tr>\n",
       "      <td>1</td>\n",
       "      <td>数学建模算法与应用(第2版) 参加全国数学建模竞赛、美赛的必备参考书，适合初学者的数学建模...</td>\n",
       "      <td>司守奎，孙兆亮 主编 /2015-04-01  /国防工业出版社</td>\n",
       "      <td>¥34.10</td>\n",
       "      <td>width: 90%;</td>\n",
       "      <td>6657条评论</td>\n",
       "    </tr>\n",
       "    <tr>\n",
       "      <td>2</td>\n",
       "      <td>数学建模方法与分析（原书第4版,五步方法帮助读者迅速掌握数学建模的真谛）</td>\n",
       "      <td>(美) Mark M. Meerschaert著 /2015-01-01  /机械工业出版社</td>\n",
       "      <td>¥45.80</td>\n",
       "      <td>width: 100%;</td>\n",
       "      <td>2864条评论</td>\n",
       "    </tr>\n",
       "    <tr>\n",
       "      <td>3</td>\n",
       "      <td>MATLAB数学建模方法与实践(第3版)前后已加印20余次，MathWorks鼎力推荐。程...</td>\n",
       "      <td>卓金武 王鸿钧 编著 /2018-07-11  /北京航空航天大学出版社</td>\n",
       "      <td>¥46.60</td>\n",
       "      <td>width: 90%;</td>\n",
       "      <td>5087条评论</td>\n",
       "    </tr>\n",
       "    <tr>\n",
       "      <td>4</td>\n",
       "      <td>数学建模的思想和方法</td>\n",
       "      <td>张世斌 编著 /2015-03-01  /上海交通大学出版社</td>\n",
       "      <td>¥25.20</td>\n",
       "      <td>width: 100%;</td>\n",
       "      <td>134条评论</td>\n",
       "    </tr>\n",
       "  </tbody>\n",
       "</table>\n",
       "</div>"
      ],
      "text/plain": [
       "                                                  书名  \\\n",
       "0   数学建模（原书第5版，从离散建模和连续建模两部分介绍整个建模过程的原理，使读者在创造性模型...   \n",
       "1   数学建模算法与应用(第2版) 参加全国数学建模竞赛、美赛的必备参考书，适合初学者的数学建模...   \n",
       "2              数学建模方法与分析（原书第4版,五步方法帮助读者迅速掌握数学建模的真谛）    \n",
       "3   MATLAB数学建模方法与实践(第3版)前后已加印20余次，MathWorks鼎力推荐。程...   \n",
       "4                                        数学建模的思想和方法    \n",
       "\n",
       "                                             出版信息    当前价格            星级  \\\n",
       "0            吉奥丹诺 等著，叶其孝 等译 /2014-10-01  /机械工业出版社  ¥69.30  width: 100%;   \n",
       "1                司守奎，孙兆亮 主编 /2015-04-01  /国防工业出版社  ¥34.10   width: 90%;   \n",
       "2  (美) Mark M. Meerschaert著 /2015-01-01  /机械工业出版社  ¥45.80  width: 100%;   \n",
       "3            卓金武 王鸿钧 编著 /2018-07-11  /北京航空航天大学出版社  ¥46.60   width: 90%;   \n",
       "4                  张世斌 编著 /2015-03-01  /上海交通大学出版社  ¥25.20  width: 100%;   \n",
       "\n",
       "       评论数  \n",
       "0  5356条评论  \n",
       "1  6657条评论  \n",
       "2  2864条评论  \n",
       "3  5087条评论  \n",
       "4   134条评论  "
      ]
     },
     "execution_count": 37,
     "metadata": {},
     "output_type": "execute_result"
    }
   ],
   "source": [
    "#data = pd.read_csv('图书—机器学习.csv',encoding='utf-8')\n",
    "data = pd.read_csv('图书—数学建模.csv',encoding='utf8')\n",
    "data.head()"
   ]
  },
  {
   "cell_type": "markdown",
   "metadata": {},
   "source": [
    "-----\n",
    "-----\n",
    "## 爬取多个页面的数据信息,观察网页变换，添加page_index参数"
   ]
  },
  {
   "cell_type": "code",
   "execution_count": 1,
   "metadata": {},
   "outputs": [],
   "source": [
    "from lxml import etree#定义解析函数\n",
    "def extract_books_from_content(content_page):\n",
    "    books=[]\n",
    "    page = etree.HTML(content_page)\n",
    "    book_name = page.xpath('//li/p/a[@name=\"itemlist-title\"]/@title')\n",
    "    price_now = page.xpath('//li/p/span[@class=\"search_now_price\"]/text()')\n",
    "    comment_num = page.xpath('//li/p[@class=\"search_star_line\"]/a[@class=\"search_comment_num\"]/text()')\n",
    "    stars = page.xpath('//li/p[@class=\"search_star_line\"]/span/span/@style')\n",
    "    #book_author = page.xpath('//li/p[@class=\"search_book_author\"]/span/a[@name=\"itemlist-author\"]/text()')\n",
    "    pub_info = page.xpath('//li/p[@class=\"search_book_author\"]')\n",
    "    pub_info = [book_pub.xpath('string(.)') for book_pub in pub_info]\n",
    "    for book in zip(book_name, pub_info, price_now, stars, comment_num):\n",
    "        books.append(list(book))\n",
    "    return books"
   ]
  },
  {
   "cell_type": "code",
   "execution_count": 5,
   "metadata": {},
   "outputs": [],
   "source": [
    "books_df.to_csv('book_information.csv',index=None,encoding='utf8')#转化为csv文件"
   ]
  },
  {
   "cell_type": "code",
   "execution_count": 4,
   "metadata": {},
   "outputs": [],
   "source": [
    "import requests\n",
    "import time\n",
    "import pandas as pd\n",
    "from lxml import etree\n",
    "#注意不要多次运行,可能反爬\n",
    "books_total=[]\n",
    "def col_books_pages(bookname,maxpage):\n",
    "    time.sleep(5)\n",
    "    for page in range(1,maxpage):\n",
    "        test_url = 'http://search.dangdang.com/?key='+bookname+'&page_index='+str(page)\n",
    "        content_page = requests.get(test_url).text#读取数据信息\n",
    "        books = extract_books_from_content(content_page)#网页图书内容既解析\n",
    "        books_total.extend(books)#将提取到的内容添加到原列表后面\n",
    "        print(\"page\"+str(page)+\",\"+str(len(books))+\"book download\")\n",
    "    print('当当网上关于{}的信息'.format(bookname))\n",
    "    print()\n",
    "    books_total_df = pd.DataFrame(books_total,columns=[\"书名\",\"出版信息\",\"当前价格\",\"星级\",\"评论数\"])\n",
    "    books_total_df.to_csv('图书—'+bookname+str(maxpage)+'.csv',index=None,encoding='utf8')\n",
    "    time.sleep(8)\n",
    "    print('信息收集完毕')"
   ]
  },
  {
   "cell_type": "code",
   "execution_count": 5,
   "metadata": {},
   "outputs": [
    {
     "name": "stdout",
     "output_type": "stream",
     "text": [
      "page1,60book download\n",
      "page2,59book download\n",
      "page3,59book download\n",
      "page4,60book download\n",
      "当当网上关于数学建模的信息\n",
      "\n",
      "信息收集完毕\n"
     ]
    }
   ],
   "source": [
    "col_books_pages('数学建模',5)"
   ]
  },
  {
   "cell_type": "code",
   "execution_count": 6,
   "metadata": {},
   "outputs": [
    {
     "data": {
      "text/plain": [
       "(238, 5)"
      ]
     },
     "execution_count": 6,
     "metadata": {},
     "output_type": "execute_result"
    }
   ],
   "source": [
    "import numpy as np\n",
    "np.array(books_total).shape#每个页面作为一个维度，注意修改提取"
   ]
  },
  {
   "cell_type": "code",
   "execution_count": null,
   "metadata": {},
   "outputs": [],
   "source": []
  },
  {
   "cell_type": "code",
   "execution_count": null,
   "metadata": {},
   "outputs": [],
   "source": []
  },
  {
   "cell_type": "code",
   "execution_count": null,
   "metadata": {},
   "outputs": [],
   "source": []
  },
  {
   "cell_type": "markdown",
   "metadata": {},
   "source": [
    "# 爬取的数据处理清洗"
   ]
  },
  {
   "cell_type": "code",
   "execution_count": 40,
   "metadata": {},
   "outputs": [
    {
     "data": {
      "text/html": [
       "<div>\n",
       "<style scoped>\n",
       "    .dataframe tbody tr th:only-of-type {\n",
       "        vertical-align: middle;\n",
       "    }\n",
       "\n",
       "    .dataframe tbody tr th {\n",
       "        vertical-align: top;\n",
       "    }\n",
       "\n",
       "    .dataframe thead th {\n",
       "        text-align: right;\n",
       "    }\n",
       "</style>\n",
       "<table border=\"1\" class=\"dataframe\">\n",
       "  <thead>\n",
       "    <tr style=\"text-align: right;\">\n",
       "      <th></th>\n",
       "      <th>书名</th>\n",
       "      <th>出版信息</th>\n",
       "      <th>当前价格</th>\n",
       "      <th>星级</th>\n",
       "      <th>评论数</th>\n",
       "    </tr>\n",
       "  </thead>\n",
       "  <tbody>\n",
       "    <tr>\n",
       "      <td>0</td>\n",
       "      <td>数学建模（原书第5版，从离散建模和连续建模两部分介绍整个建模过程的原理，使读者在创造性模型...</td>\n",
       "      <td>吉奥丹诺 等著，叶其孝 等译 /2014-10-01  /机械工业出版社</td>\n",
       "      <td>¥71.70</td>\n",
       "      <td>width: 100%;</td>\n",
       "      <td>5386条评论</td>\n",
       "    </tr>\n",
       "    <tr>\n",
       "      <td>1</td>\n",
       "      <td>数学建模算法与应用(第2版) 参加全国数学建模竞赛、美赛的必备参考书，适合初学者的数学建模...</td>\n",
       "      <td>司守奎，孙兆亮 主编 /2015-04-01  /国防工业出版社</td>\n",
       "      <td>¥34.10</td>\n",
       "      <td>width: 90%;</td>\n",
       "      <td>6665条评论</td>\n",
       "    </tr>\n",
       "    <tr>\n",
       "      <td>2</td>\n",
       "      <td>数学建模方法与分析（原书第4版,五步方法帮助读者迅速掌握数学建模的真谛）</td>\n",
       "      <td>(美) Mark M. Meerschaert著 /2015-01-01  /机械工业出版社</td>\n",
       "      <td>¥45.80</td>\n",
       "      <td>width: 100%;</td>\n",
       "      <td>2880条评论</td>\n",
       "    </tr>\n",
       "    <tr>\n",
       "      <td>3</td>\n",
       "      <td>MATLAB数学建模方法与实践(第3版)前后已加印20余次，MathWorks鼎力推荐。程...</td>\n",
       "      <td>卓金武 王鸿钧 编著 /2018-07-11  /北京航空航天大学出版社</td>\n",
       "      <td>¥46.60</td>\n",
       "      <td>width: 100%;</td>\n",
       "      <td>5090条评论</td>\n",
       "    </tr>\n",
       "    <tr>\n",
       "      <td>4</td>\n",
       "      <td>数学建模的思想和方法</td>\n",
       "      <td>张世斌 编著 /2015-03-01  /上海交通大学出版社</td>\n",
       "      <td>¥25.20</td>\n",
       "      <td>width: 100%;</td>\n",
       "      <td>135条评论</td>\n",
       "    </tr>\n",
       "  </tbody>\n",
       "</table>\n",
       "</div>"
      ],
      "text/plain": [
       "                                                  书名  \\\n",
       "0   数学建模（原书第5版，从离散建模和连续建模两部分介绍整个建模过程的原理，使读者在创造性模型...   \n",
       "1   数学建模算法与应用(第2版) 参加全国数学建模竞赛、美赛的必备参考书，适合初学者的数学建模...   \n",
       "2              数学建模方法与分析（原书第4版,五步方法帮助读者迅速掌握数学建模的真谛）    \n",
       "3   MATLAB数学建模方法与实践(第3版)前后已加印20余次，MathWorks鼎力推荐。程...   \n",
       "4                                        数学建模的思想和方法    \n",
       "\n",
       "                                             出版信息    当前价格            星级  \\\n",
       "0            吉奥丹诺 等著，叶其孝 等译 /2014-10-01  /机械工业出版社  ¥71.70  width: 100%;   \n",
       "1                司守奎，孙兆亮 主编 /2015-04-01  /国防工业出版社  ¥34.10   width: 90%;   \n",
       "2  (美) Mark M. Meerschaert著 /2015-01-01  /机械工业出版社  ¥45.80  width: 100%;   \n",
       "3            卓金武 王鸿钧 编著 /2018-07-11  /北京航空航天大学出版社  ¥46.60  width: 100%;   \n",
       "4                  张世斌 编著 /2015-03-01  /上海交通大学出版社  ¥25.20  width: 100%;   \n",
       "\n",
       "       评论数  \n",
       "0  5386条评论  \n",
       "1  6665条评论  \n",
       "2  2880条评论  \n",
       "3  5090条评论  \n",
       "4   135条评论  "
      ]
     },
     "execution_count": 40,
     "metadata": {},
     "output_type": "execute_result"
    }
   ],
   "source": [
    "import pandas as pd\n",
    "data = pd.read_csv('图书—数学建模5.csv',encoding='utf8')\n",
    "data.head()"
   ]
  },
  {
   "cell_type": "markdown",
   "metadata": {},
   "source": [
    "+ 需要做的预处理有：\n",
    "    1. 去掉价格中的'￥'符号，转化为数值格式\n",
    "    2. 星级转化为数字格式，取值[0:5:0.5],例如width:90%,对应$0.9*5=4.5$\n",
    "    3. 对评论数直接提取数值\n",
    "    4. 出版信息分为三列，分别是作者、出版日期和简介\n",
    "    5. 将原始数据中的书名拆分为书名和简介两列"
   ]
  },
  {
   "cell_type": "markdown",
   "metadata": {},
   "source": [
    "### 去掉价格中的'￥'符号，转化为数值格式"
   ]
  },
  {
   "cell_type": "code",
   "execution_count": 41,
   "metadata": {},
   "outputs": [
    {
     "data": {
      "text/plain": [
       "1256.12"
      ]
     },
     "execution_count": 41,
     "metadata": {},
     "output_type": "execute_result"
    }
   ],
   "source": [
    "import re\n",
    "def get_numbers(x):#最多匹配6个数字\n",
    "    regex_num=\"\\d{1,4}\\.{0,1}\\d{0,2}\"#编写匹配数字的正则 表达式数字（1-4位）.(或有或无)数字（0-2位）\n",
    "    return float(re.search(regex_num,x)[0])\n",
    "\n",
    "get_numbers('￥1256.12')"
   ]
  },
  {
   "cell_type": "code",
   "execution_count": 42,
   "metadata": {},
   "outputs": [],
   "source": [
    "#提取价格￥\n",
    "\n",
    "data['当前价格'] = data['当前价格'].map(get_numbers)"
   ]
  },
  {
   "cell_type": "code",
   "execution_count": 4,
   "metadata": {},
   "outputs": [
    {
     "data": {
      "text/plain": [
       "127     29.60\n",
       "153     49.81\n",
       "135    203.75\n",
       "Name: 当前价格, dtype: float64"
      ]
     },
     "execution_count": 4,
     "metadata": {},
     "output_type": "execute_result"
    }
   ],
   "source": [
    "data['当前价格'].sample(3)"
   ]
  },
  {
   "cell_type": "markdown",
   "metadata": {},
   "source": [
    "### 提取评论数"
   ]
  },
  {
   "cell_type": "code",
   "execution_count": 43,
   "metadata": {},
   "outputs": [],
   "source": [
    "data['评论数']=data['评论数'].map(get_numbers)"
   ]
  },
  {
   "cell_type": "code",
   "execution_count": 6,
   "metadata": {},
   "outputs": [
    {
     "data": {
      "text/plain": [
       "54     98.0\n",
       "233     0.0\n",
       "231     0.0\n",
       "Name: 评论数, dtype: float64"
      ]
     },
     "execution_count": 6,
     "metadata": {},
     "output_type": "execute_result"
    }
   ],
   "source": [
    "data['评论数'].sample(3)"
   ]
  },
  {
   "cell_type": "code",
   "execution_count": 44,
   "metadata": {},
   "outputs": [
    {
     "data": {
      "text/plain": [
       "64     2\n",
       "24     3\n",
       "113    1\n",
       "Name: 评论数, dtype: int32"
      ]
     },
     "execution_count": 44,
     "metadata": {},
     "output_type": "execute_result"
    }
   ],
   "source": [
    "#转为int类型\n",
    "data['评论数'] = data['评论数'].astype(\"int\")\n",
    "data['评论数'].sample(3)"
   ]
  },
  {
   "cell_type": "markdown",
   "metadata": {},
   "source": [
    "### 转换星级"
   ]
  },
  {
   "cell_type": "code",
   "execution_count": 45,
   "metadata": {},
   "outputs": [
    {
     "data": {
      "text/html": [
       "<div>\n",
       "<style scoped>\n",
       "    .dataframe tbody tr th:only-of-type {\n",
       "        vertical-align: middle;\n",
       "    }\n",
       "\n",
       "    .dataframe tbody tr th {\n",
       "        vertical-align: top;\n",
       "    }\n",
       "\n",
       "    .dataframe thead th {\n",
       "        text-align: right;\n",
       "    }\n",
       "</style>\n",
       "<table border=\"1\" class=\"dataframe\">\n",
       "  <thead>\n",
       "    <tr style=\"text-align: right;\">\n",
       "      <th></th>\n",
       "      <th>书名</th>\n",
       "      <th>出版信息</th>\n",
       "      <th>当前价格</th>\n",
       "      <th>星级</th>\n",
       "      <th>评论数</th>\n",
       "    </tr>\n",
       "  </thead>\n",
       "  <tbody>\n",
       "    <tr>\n",
       "      <td>0</td>\n",
       "      <td>数学建模（原书第5版，从离散建模和连续建模两部分介绍整个建模过程的原理，使读者在创造性模型...</td>\n",
       "      <td>吉奥丹诺 等著，叶其孝 等译 /2014-10-01  /机械工业出版社</td>\n",
       "      <td>71.7</td>\n",
       "      <td>5.0</td>\n",
       "      <td>5386</td>\n",
       "    </tr>\n",
       "    <tr>\n",
       "      <td>1</td>\n",
       "      <td>数学建模算法与应用(第2版) 参加全国数学建模竞赛、美赛的必备参考书，适合初学者的数学建模...</td>\n",
       "      <td>司守奎，孙兆亮 主编 /2015-04-01  /国防工业出版社</td>\n",
       "      <td>34.1</td>\n",
       "      <td>4.5</td>\n",
       "      <td>6665</td>\n",
       "    </tr>\n",
       "    <tr>\n",
       "      <td>2</td>\n",
       "      <td>数学建模方法与分析（原书第4版,五步方法帮助读者迅速掌握数学建模的真谛）</td>\n",
       "      <td>(美) Mark M. Meerschaert著 /2015-01-01  /机械工业出版社</td>\n",
       "      <td>45.8</td>\n",
       "      <td>5.0</td>\n",
       "      <td>2880</td>\n",
       "    </tr>\n",
       "    <tr>\n",
       "      <td>3</td>\n",
       "      <td>MATLAB数学建模方法与实践(第3版)前后已加印20余次，MathWorks鼎力推荐。程...</td>\n",
       "      <td>卓金武 王鸿钧 编著 /2018-07-11  /北京航空航天大学出版社</td>\n",
       "      <td>46.6</td>\n",
       "      <td>5.0</td>\n",
       "      <td>5090</td>\n",
       "    </tr>\n",
       "    <tr>\n",
       "      <td>4</td>\n",
       "      <td>数学建模的思想和方法</td>\n",
       "      <td>张世斌 编著 /2015-03-01  /上海交通大学出版社</td>\n",
       "      <td>25.2</td>\n",
       "      <td>5.0</td>\n",
       "      <td>135</td>\n",
       "    </tr>\n",
       "  </tbody>\n",
       "</table>\n",
       "</div>"
      ],
      "text/plain": [
       "                                                  书名  \\\n",
       "0   数学建模（原书第5版，从离散建模和连续建模两部分介绍整个建模过程的原理，使读者在创造性模型...   \n",
       "1   数学建模算法与应用(第2版) 参加全国数学建模竞赛、美赛的必备参考书，适合初学者的数学建模...   \n",
       "2              数学建模方法与分析（原书第4版,五步方法帮助读者迅速掌握数学建模的真谛）    \n",
       "3   MATLAB数学建模方法与实践(第3版)前后已加印20余次，MathWorks鼎力推荐。程...   \n",
       "4                                        数学建模的思想和方法    \n",
       "\n",
       "                                             出版信息  当前价格   星级   评论数  \n",
       "0            吉奥丹诺 等著，叶其孝 等译 /2014-10-01  /机械工业出版社  71.7  5.0  5386  \n",
       "1                司守奎，孙兆亮 主编 /2015-04-01  /国防工业出版社  34.1  4.5  6665  \n",
       "2  (美) Mark M. Meerschaert著 /2015-01-01  /机械工业出版社  45.8  5.0  2880  \n",
       "3            卓金武 王鸿钧 编著 /2018-07-11  /北京航空航天大学出版社  46.6  5.0  5090  \n",
       "4                  张世斌 编著 /2015-03-01  /上海交通大学出版社  25.2  5.0   135  "
      ]
     },
     "execution_count": 45,
     "metadata": {},
     "output_type": "execute_result"
    }
   ],
   "source": [
    "data['星级'] = data['星级'].map(get_numbers)/20\n",
    "data.head()"
   ]
  },
  {
   "cell_type": "markdown",
   "metadata": {},
   "source": [
    "### 获取出版社信息"
   ]
  },
  {
   "cell_type": "code",
   "execution_count": 46,
   "metadata": {},
   "outputs": [],
   "source": [
    "#观察到需要提取的数据是由/划分开来\n",
    "data['作者'] = data['出版信息'].map(lambda x:x.split('/')[0])"
   ]
  },
  {
   "cell_type": "code",
   "execution_count": 47,
   "metadata": {},
   "outputs": [
    {
     "data": {
      "text/plain": [
       "'清华大学出版社'"
      ]
     },
     "execution_count": 47,
     "metadata": {},
     "output_type": "execute_result"
    }
   ],
   "source": [
    "#出版社，利用正则表达式提取\n",
    "\n",
    "def get_publisher(x):\n",
    "    regex_pub = \"/(\\S{1,10}出版社)\"\n",
    "    pub_match_result = re.search(regex_pub,x)\n",
    "    #print(pub_match_result)\n",
    "    if pub_match_result !=None:\n",
    "        return pub_match_result[1].strip()\n",
    "    else:\n",
    "        return \"\"\n",
    "\n",
    "get_publisher('huin/清华大学出版社')"
   ]
  },
  {
   "cell_type": "code",
   "execution_count": 48,
   "metadata": {},
   "outputs": [
    {
     "data": {
      "text/plain": [
       "43         清华大学出版社\n",
       "35     中国科学技术大学出版社\n",
       "161        化学工业出版社\n",
       "116        高等教育出版社\n",
       "210        高等教育出版社\n",
       "171     哈尔滨工业大学出版社\n",
       "148        化学工业出版社\n",
       "119        人民邮电出版社\n",
       "194        机械工业出版社\n",
       "172        化学工业出版社\n",
       "Name: 出版社, dtype: object"
      ]
     },
     "execution_count": 48,
     "metadata": {},
     "output_type": "execute_result"
    }
   ],
   "source": [
    "#在数据中新增“出版社”一列\n",
    "\n",
    "data['出版社'] = data['出版信息'].map(get_publisher)\n",
    "data['出版社'].sample(10)"
   ]
  },
  {
   "cell_type": "code",
   "execution_count": 49,
   "metadata": {},
   "outputs": [
    {
     "data": {
      "text/plain": [
       "'2015-04-01'"
      ]
     },
     "execution_count": 49,
     "metadata": {},
     "output_type": "execute_result"
    }
   ],
   "source": [
    "#提取出版日期\n",
    "def get_pubdate(x):\n",
    "    regex_date = '/(\\d{4}-\\d{2}-\\d{2})'\n",
    "    pubdata_match_result = re.search(regex_date,x)\n",
    "    if pubdata_match_result!=None:\n",
    "        return pubdata_match_result[1].strip()\n",
    "    else:\n",
    "        return \"\"\n",
    "\n",
    "get_pubdate('司守奎，孙兆亮 主编 /2015-04-01 /国防工业出版社')"
   ]
  },
  {
   "cell_type": "code",
   "execution_count": 50,
   "metadata": {},
   "outputs": [
    {
     "data": {
      "text/plain": [
       "46    2020-08-01\n",
       "232   2000-01-01\n",
       "193   2014-08-01\n",
       "40    2018-10-01\n",
       "21    2020-07-01\n",
       "Name: 出版日期, dtype: datetime64[ns]"
      ]
     },
     "execution_count": 50,
     "metadata": {},
     "output_type": "execute_result"
    }
   ],
   "source": [
    "#添加“出版日期”列，利用pd.to_datetime将字符串格式转化为时间格式\n",
    "\n",
    "data['出版日期'] = pd.to_datetime(data['出版信息'].map(get_pubdate))\n",
    "\n",
    "data['出版日期'].sample(5)"
   ]
  },
  {
   "cell_type": "code",
   "execution_count": 51,
   "metadata": {},
   "outputs": [
    {
     "data": {
      "text/html": [
       "<div>\n",
       "<style scoped>\n",
       "    .dataframe tbody tr th:only-of-type {\n",
       "        vertical-align: middle;\n",
       "    }\n",
       "\n",
       "    .dataframe tbody tr th {\n",
       "        vertical-align: top;\n",
       "    }\n",
       "\n",
       "    .dataframe thead th {\n",
       "        text-align: right;\n",
       "    }\n",
       "</style>\n",
       "<table border=\"1\" class=\"dataframe\">\n",
       "  <thead>\n",
       "    <tr style=\"text-align: right;\">\n",
       "      <th></th>\n",
       "      <th>书名</th>\n",
       "      <th>当前价格</th>\n",
       "      <th>星级</th>\n",
       "      <th>评论数</th>\n",
       "      <th>作者</th>\n",
       "      <th>出版社</th>\n",
       "      <th>出版日期</th>\n",
       "    </tr>\n",
       "  </thead>\n",
       "  <tbody>\n",
       "    <tr>\n",
       "      <td>0</td>\n",
       "      <td>数学建模（原书第5版，从离散建模和连续建模两部分介绍整个建模过程的原理，使读者在创造性模型...</td>\n",
       "      <td>71.7</td>\n",
       "      <td>5.0</td>\n",
       "      <td>5386</td>\n",
       "      <td>吉奥丹诺 等著，叶其孝 等译</td>\n",
       "      <td>机械工业出版社</td>\n",
       "      <td>2014-10-01</td>\n",
       "    </tr>\n",
       "    <tr>\n",
       "      <td>1</td>\n",
       "      <td>数学建模算法与应用(第2版) 参加全国数学建模竞赛、美赛的必备参考书，适合初学者的数学建模...</td>\n",
       "      <td>34.1</td>\n",
       "      <td>4.5</td>\n",
       "      <td>6665</td>\n",
       "      <td>司守奎，孙兆亮 主编</td>\n",
       "      <td>国防工业出版社</td>\n",
       "      <td>2015-04-01</td>\n",
       "    </tr>\n",
       "    <tr>\n",
       "      <td>2</td>\n",
       "      <td>数学建模方法与分析（原书第4版,五步方法帮助读者迅速掌握数学建模的真谛）</td>\n",
       "      <td>45.8</td>\n",
       "      <td>5.0</td>\n",
       "      <td>2880</td>\n",
       "      <td>(美) Mark M. Meerschaert著</td>\n",
       "      <td>机械工业出版社</td>\n",
       "      <td>2015-01-01</td>\n",
       "    </tr>\n",
       "    <tr>\n",
       "      <td>3</td>\n",
       "      <td>MATLAB数学建模方法与实践(第3版)前后已加印20余次，MathWorks鼎力推荐。程...</td>\n",
       "      <td>46.6</td>\n",
       "      <td>5.0</td>\n",
       "      <td>5090</td>\n",
       "      <td>卓金武 王鸿钧 编著</td>\n",
       "      <td>北京航空航天大学出版社</td>\n",
       "      <td>2018-07-11</td>\n",
       "    </tr>\n",
       "    <tr>\n",
       "      <td>4</td>\n",
       "      <td>数学建模的思想和方法</td>\n",
       "      <td>25.2</td>\n",
       "      <td>5.0</td>\n",
       "      <td>135</td>\n",
       "      <td>张世斌 编著</td>\n",
       "      <td>上海交通大学出版社</td>\n",
       "      <td>2015-03-01</td>\n",
       "    </tr>\n",
       "  </tbody>\n",
       "</table>\n",
       "</div>"
      ],
      "text/plain": [
       "                                                  书名  当前价格   星级   评论数  \\\n",
       "0   数学建模（原书第5版，从离散建模和连续建模两部分介绍整个建模过程的原理，使读者在创造性模型...  71.7  5.0  5386   \n",
       "1   数学建模算法与应用(第2版) 参加全国数学建模竞赛、美赛的必备参考书，适合初学者的数学建模...  34.1  4.5  6665   \n",
       "2              数学建模方法与分析（原书第4版,五步方法帮助读者迅速掌握数学建模的真谛）   45.8  5.0  2880   \n",
       "3   MATLAB数学建模方法与实践(第3版)前后已加印20余次，MathWorks鼎力推荐。程...  46.6  5.0  5090   \n",
       "4                                        数学建模的思想和方法   25.2  5.0   135   \n",
       "\n",
       "                          作者          出版社       出版日期  \n",
       "0            吉奥丹诺 等著，叶其孝 等译       机械工业出版社 2014-10-01  \n",
       "1                司守奎，孙兆亮 主编       国防工业出版社 2015-04-01  \n",
       "2  (美) Mark M. Meerschaert著       机械工业出版社 2015-01-01  \n",
       "3                卓金武 王鸿钧 编著   北京航空航天大学出版社 2018-07-11  \n",
       "4                    张世斌 编著     上海交通大学出版社 2015-03-01  "
      ]
     },
     "execution_count": 51,
     "metadata": {},
     "output_type": "execute_result"
    }
   ],
   "source": [
    "#提取出所有信息之后，删除掉“出版信息”\n",
    "del data['出版信息']\n",
    "data.head()"
   ]
  },
  {
   "cell_type": "code",
   "execution_count": 70,
   "metadata": {},
   "outputs": [
    {
     "data": {
      "text/plain": [
       "'数学建模'"
      ]
     },
     "execution_count": 70,
     "metadata": {},
     "output_type": "execute_result"
    }
   ],
   "source": [
    "def get_book_name(x):\n",
    "    x = x.strip()\n",
    "    x = re.sub('\\（.*?\\)*',\" \",x)\n",
    "    x = re.sub('\\(.*?\\)*',\"\",x)\n",
    "    x = re.sub('【.*?】-*',\" \",x)\n",
    "    x = re.sub('[.*]',\"\",x)\n",
    "    return x.strip().split(\" \")[0]\n",
    "\n",
    "get_book_name(\"数学建模（原书第5版，从离散建模和连续建模两部分介绍整个建模过程的原理，使读者在创造性模型\")"
   ]
  },
  {
   "cell_type": "code",
   "execution_count": 71,
   "metadata": {},
   "outputs": [
    {
     "data": {
      "text/plain": [
       "' 数学建模算法与应用(第2版) 参加全国数学建模竞赛、美赛的必备参考书，适合初学者的数学建模教程，每年被数万数模用户选用。'"
      ]
     },
     "execution_count": 71,
     "metadata": {},
     "output_type": "execute_result"
    }
   ],
   "source": [
    "data['书名'][1]"
   ]
  },
  {
   "cell_type": "code",
   "execution_count": 72,
   "metadata": {},
   "outputs": [
    {
     "data": {
      "text/plain": [
       "163               数学建模吉奥丹诺\n",
       "127                     包邮\n",
       "186    数学建模-基于能力矩阵的自主学习新模式\n",
       "92           UMAP数学建模案例精选3\n",
       "110              数学实验与数学建模\n",
       "67                数学建模简明教程\n",
       "227               数学建模基础案例\n",
       "30                数学建模及其应用\n",
       "98                  数学建模实验\n",
       "68                    数学建模\n",
       "Name: 书名称, dtype: object"
      ]
     },
     "execution_count": 72,
     "metadata": {},
     "output_type": "execute_result"
    }
   ],
   "source": [
    "data[\"书名称\"] = data['书名'].map(get_book_name)\n",
    "data['书名称'].sample(10)"
   ]
  },
  {
   "cell_type": "code",
   "execution_count": 73,
   "metadata": {},
   "outputs": [
    {
     "data": {
      "text/plain": [
       "171      编著,哈尔滨工业大学出版社【正版放心购】 本店达额满减，下单满29元减1，满58元减3，...\n",
       "180                    【新华自营】 【新华书店,正品保障，全国多仓就近发货，速度无忧!】\n",
       "200      张世斌 编著 上海交通大学出版社 9787313124531 【正版图书，质量保证，可开...\n",
       "141                                 数学建模(工业和信息化十三五规划教材) \n",
       "104      数学建模竞赛：获奖论文精选与点评 自然科学 数学 数学理论 科学与自然 zui优评卷方案...\n",
       "Name: 简介, dtype: object"
      ]
     },
     "execution_count": 73,
     "metadata": {},
     "output_type": "execute_result"
    }
   ],
   "source": [
    "data['简介'] = data['书名'].map(lambda x:x.replace(get_book_name(x),\"\"))\n",
    "data['简介'].sample(5)"
   ]
  },
  {
   "cell_type": "code",
   "execution_count": 74,
   "metadata": {},
   "outputs": [
    {
     "data": {
      "text/html": [
       "<div>\n",
       "<style scoped>\n",
       "    .dataframe tbody tr th:only-of-type {\n",
       "        vertical-align: middle;\n",
       "    }\n",
       "\n",
       "    .dataframe tbody tr th {\n",
       "        vertical-align: top;\n",
       "    }\n",
       "\n",
       "    .dataframe thead th {\n",
       "        text-align: right;\n",
       "    }\n",
       "</style>\n",
       "<table border=\"1\" class=\"dataframe\">\n",
       "  <thead>\n",
       "    <tr style=\"text-align: right;\">\n",
       "      <th></th>\n",
       "      <th>当前价格</th>\n",
       "      <th>星级</th>\n",
       "      <th>评论数</th>\n",
       "      <th>作者</th>\n",
       "      <th>出版社</th>\n",
       "      <th>出版日期</th>\n",
       "      <th>书名称</th>\n",
       "      <th>简介</th>\n",
       "    </tr>\n",
       "  </thead>\n",
       "  <tbody>\n",
       "    <tr>\n",
       "      <td>0</td>\n",
       "      <td>71.7</td>\n",
       "      <td>5.0</td>\n",
       "      <td>5386</td>\n",
       "      <td>吉奥丹诺 等著，叶其孝 等译</td>\n",
       "      <td>机械工业出版社</td>\n",
       "      <td>2014-10-01</td>\n",
       "      <td>数学建模</td>\n",
       "      <td>（原书第5版，从离散建模和连续建模两部分介绍整个建模过程的原理，使读者在创造性模型和经验模...</td>\n",
       "    </tr>\n",
       "    <tr>\n",
       "      <td>1</td>\n",
       "      <td>34.1</td>\n",
       "      <td>4.5</td>\n",
       "      <td>6665</td>\n",
       "      <td>司守奎，孙兆亮 主编</td>\n",
       "      <td>国防工业出版社</td>\n",
       "      <td>2015-04-01</td>\n",
       "      <td>数学建模算法与应用第2版)</td>\n",
       "      <td>数学建模算法与应用(第2版) 参加全国数学建模竞赛、美赛的必备参考书，适合初学者的数学建模...</td>\n",
       "    </tr>\n",
       "    <tr>\n",
       "      <td>2</td>\n",
       "      <td>45.8</td>\n",
       "      <td>5.0</td>\n",
       "      <td>2880</td>\n",
       "      <td>(美) Mark M. Meerschaert著</td>\n",
       "      <td>机械工业出版社</td>\n",
       "      <td>2015-01-01</td>\n",
       "      <td>数学建模方法与分析</td>\n",
       "      <td>（原书第4版,五步方法帮助读者迅速掌握数学建模的真谛）</td>\n",
       "    </tr>\n",
       "    <tr>\n",
       "      <td>3</td>\n",
       "      <td>46.6</td>\n",
       "      <td>5.0</td>\n",
       "      <td>5090</td>\n",
       "      <td>卓金武 王鸿钧 编著</td>\n",
       "      <td>北京航空航天大学出版社</td>\n",
       "      <td>2018-07-11</td>\n",
       "      <td>MATLAB数学建模方法与实践第3版)前后已加印20余次，MathWorks鼎力推荐。程序源...</td>\n",
       "      <td>MATLAB数学建模方法与实践(第3版)前后已加印20余次，MathWorks鼎力推荐。程...</td>\n",
       "    </tr>\n",
       "    <tr>\n",
       "      <td>4</td>\n",
       "      <td>25.2</td>\n",
       "      <td>5.0</td>\n",
       "      <td>135</td>\n",
       "      <td>张世斌 编著</td>\n",
       "      <td>上海交通大学出版社</td>\n",
       "      <td>2015-03-01</td>\n",
       "      <td>数学建模的思想和方法</td>\n",
       "      <td></td>\n",
       "    </tr>\n",
       "  </tbody>\n",
       "</table>\n",
       "</div>"
      ],
      "text/plain": [
       "   当前价格   星级   评论数                         作者          出版社       出版日期  \\\n",
       "0  71.7  5.0  5386            吉奥丹诺 等著，叶其孝 等译       机械工业出版社 2014-10-01   \n",
       "1  34.1  4.5  6665                司守奎，孙兆亮 主编       国防工业出版社 2015-04-01   \n",
       "2  45.8  5.0  2880  (美) Mark M. Meerschaert著       机械工业出版社 2015-01-01   \n",
       "3  46.6  5.0  5090                卓金武 王鸿钧 编著   北京航空航天大学出版社 2018-07-11   \n",
       "4  25.2  5.0   135                    张世斌 编著     上海交通大学出版社 2015-03-01   \n",
       "\n",
       "                                                 书名称  \\\n",
       "0                                               数学建模   \n",
       "1                                      数学建模算法与应用第2版)   \n",
       "2                                          数学建模方法与分析   \n",
       "3  MATLAB数学建模方法与实践第3版)前后已加印20余次，MathWorks鼎力推荐。程序源...   \n",
       "4                                         数学建模的思想和方法   \n",
       "\n",
       "                                                  简介  \n",
       "0   （原书第5版，从离散建模和连续建模两部分介绍整个建模过程的原理，使读者在创造性模型和经验模...  \n",
       "1   数学建模算法与应用(第2版) 参加全国数学建模竞赛、美赛的必备参考书，适合初学者的数学建模...  \n",
       "2                       （原书第4版,五步方法帮助读者迅速掌握数学建模的真谛）   \n",
       "3   MATLAB数学建模方法与实践(第3版)前后已加印20余次，MathWorks鼎力推荐。程...  \n",
       "4                                                     "
      ]
     },
     "execution_count": 74,
     "metadata": {},
     "output_type": "execute_result"
    }
   ],
   "source": [
    "#删掉“书名”一列\n",
    "data1 = data.drop(['书名'],axis=1)\n",
    "data1.head()"
   ]
  },
  {
   "cell_type": "code",
   "execution_count": null,
   "metadata": {},
   "outputs": [],
   "source": []
  }
 ],
 "metadata": {
  "kernelspec": {
   "display_name": "Python 3",
   "language": "python",
   "name": "python3"
  },
  "language_info": {
   "codemirror_mode": {
    "name": "ipython",
    "version": 3
   },
   "file_extension": ".py",
   "mimetype": "text/x-python",
   "name": "python",
   "nbconvert_exporter": "python",
   "pygments_lexer": "ipython3",
   "version": "3.7.4"
  }
 },
 "nbformat": 4,
 "nbformat_minor": 2
}
