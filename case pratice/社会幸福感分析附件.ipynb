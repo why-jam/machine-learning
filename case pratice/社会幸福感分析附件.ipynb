{
 "cells": [
  {
   "cell_type": "markdown",
   "metadata": {},
   "source": [
    "# 1.数据爬取"
   ]
  },
  {
   "cell_type": "code",
   "execution_count": 1,
   "metadata": {},
   "outputs": [
    {
     "data": {
      "text/html": [
       "<div>\n",
       "<style scoped>\n",
       "    .dataframe tbody tr th:only-of-type {\n",
       "        vertical-align: middle;\n",
       "    }\n",
       "\n",
       "    .dataframe tbody tr th {\n",
       "        vertical-align: top;\n",
       "    }\n",
       "\n",
       "    .dataframe thead th {\n",
       "        text-align: right;\n",
       "    }\n",
       "</style>\n",
       "<table border=\"1\" class=\"dataframe\">\n",
       "  <thead>\n",
       "    <tr style=\"text-align: right;\">\n",
       "      <th></th>\n",
       "      <th>id</th>\n",
       "      <th>year</th>\n",
       "      <th>workstat</th>\n",
       "      <th>prestige</th>\n",
       "      <th>divorce</th>\n",
       "      <th>widowed</th>\n",
       "      <th>educ</th>\n",
       "      <th>reg16</th>\n",
       "      <th>babies</th>\n",
       "      <th>preteen</th>\n",
       "      <th>...</th>\n",
       "      <th>occattend</th>\n",
       "      <th>regattend</th>\n",
       "      <th>y94</th>\n",
       "      <th>y96</th>\n",
       "      <th>y98</th>\n",
       "      <th>y00</th>\n",
       "      <th>y02</th>\n",
       "      <th>y04</th>\n",
       "      <th>y06</th>\n",
       "      <th>unem10</th>\n",
       "    </tr>\n",
       "  </thead>\n",
       "  <tbody>\n",
       "    <tr>\n",
       "      <td>0</td>\n",
       "      <td>1</td>\n",
       "      <td>1994</td>\n",
       "      <td>keeping house</td>\n",
       "      <td>46.0</td>\n",
       "      <td>NaN</td>\n",
       "      <td>iap</td>\n",
       "      <td>12.0</td>\n",
       "      <td>middle atlantic</td>\n",
       "      <td>2.0</td>\n",
       "      <td>3.0</td>\n",
       "      <td>...</td>\n",
       "      <td>1.0</td>\n",
       "      <td>0.0</td>\n",
       "      <td>1</td>\n",
       "      <td>0</td>\n",
       "      <td>0</td>\n",
       "      <td>0</td>\n",
       "      <td>0</td>\n",
       "      <td>0</td>\n",
       "      <td>0</td>\n",
       "      <td>1.0</td>\n",
       "    </tr>\n",
       "    <tr>\n",
       "      <td>1</td>\n",
       "      <td>2</td>\n",
       "      <td>1994</td>\n",
       "      <td>working fulltime</td>\n",
       "      <td>22.0</td>\n",
       "      <td>no</td>\n",
       "      <td>iap</td>\n",
       "      <td>12.0</td>\n",
       "      <td>foreign</td>\n",
       "      <td>0.0</td>\n",
       "      <td>0.0</td>\n",
       "      <td>...</td>\n",
       "      <td>0.0</td>\n",
       "      <td>0.0</td>\n",
       "      <td>1</td>\n",
       "      <td>0</td>\n",
       "      <td>0</td>\n",
       "      <td>0</td>\n",
       "      <td>0</td>\n",
       "      <td>0</td>\n",
       "      <td>0</td>\n",
       "      <td>0.0</td>\n",
       "    </tr>\n",
       "    <tr>\n",
       "      <td>2</td>\n",
       "      <td>3</td>\n",
       "      <td>1994</td>\n",
       "      <td>working fulltime</td>\n",
       "      <td>29.0</td>\n",
       "      <td>no</td>\n",
       "      <td>iap</td>\n",
       "      <td>12.0</td>\n",
       "      <td>foreign</td>\n",
       "      <td>0.0</td>\n",
       "      <td>0.0</td>\n",
       "      <td>...</td>\n",
       "      <td>0.0</td>\n",
       "      <td>1.0</td>\n",
       "      <td>1</td>\n",
       "      <td>0</td>\n",
       "      <td>0</td>\n",
       "      <td>0</td>\n",
       "      <td>0</td>\n",
       "      <td>0</td>\n",
       "      <td>0</td>\n",
       "      <td>NaN</td>\n",
       "    </tr>\n",
       "    <tr>\n",
       "      <td>3</td>\n",
       "      <td>4</td>\n",
       "      <td>1994</td>\n",
       "      <td>working fulltime</td>\n",
       "      <td>42.0</td>\n",
       "      <td>yes</td>\n",
       "      <td>iap</td>\n",
       "      <td>8.0</td>\n",
       "      <td>foreign</td>\n",
       "      <td>0.0</td>\n",
       "      <td>0.0</td>\n",
       "      <td>...</td>\n",
       "      <td>0.0</td>\n",
       "      <td>0.0</td>\n",
       "      <td>1</td>\n",
       "      <td>0</td>\n",
       "      <td>0</td>\n",
       "      <td>0</td>\n",
       "      <td>0</td>\n",
       "      <td>0</td>\n",
       "      <td>0</td>\n",
       "      <td>1.0</td>\n",
       "    </tr>\n",
       "    <tr>\n",
       "      <td>4</td>\n",
       "      <td>5</td>\n",
       "      <td>1994</td>\n",
       "      <td>working parttime</td>\n",
       "      <td>36.0</td>\n",
       "      <td>NaN</td>\n",
       "      <td>NaN</td>\n",
       "      <td>13.0</td>\n",
       "      <td>middle atlantic</td>\n",
       "      <td>0.0</td>\n",
       "      <td>1.0</td>\n",
       "      <td>...</td>\n",
       "      <td>0.0</td>\n",
       "      <td>0.0</td>\n",
       "      <td>1</td>\n",
       "      <td>0</td>\n",
       "      <td>0</td>\n",
       "      <td>0</td>\n",
       "      <td>0</td>\n",
       "      <td>0</td>\n",
       "      <td>0</td>\n",
       "      <td>0.0</td>\n",
       "    </tr>\n",
       "  </tbody>\n",
       "</table>\n",
       "<p>5 rows × 34 columns</p>\n",
       "</div>"
      ],
      "text/plain": [
       "   id  year          workstat  prestige divorce widowed  educ  \\\n",
       "0   1  1994     keeping house      46.0     NaN     iap  12.0   \n",
       "1   2  1994  working fulltime      22.0      no     iap  12.0   \n",
       "2   3  1994  working fulltime      29.0      no     iap  12.0   \n",
       "3   4  1994  working fulltime      42.0     yes     iap   8.0   \n",
       "4   5  1994  working parttime      36.0     NaN     NaN  13.0   \n",
       "\n",
       "             reg16  babies  preteen  ...  occattend regattend y94 y96 y98 y00  \\\n",
       "0  middle atlantic     2.0      3.0  ...        1.0       0.0   1   0   0   0   \n",
       "1          foreign     0.0      0.0  ...        0.0       0.0   1   0   0   0   \n",
       "2          foreign     0.0      0.0  ...        0.0       1.0   1   0   0   0   \n",
       "3          foreign     0.0      0.0  ...        0.0       0.0   1   0   0   0   \n",
       "4  middle atlantic     0.0      1.0  ...        0.0       0.0   1   0   0   0   \n",
       "\n",
       "   y02  y04  y06  unem10  \n",
       "0    0    0    0     1.0  \n",
       "1    0    0    0     0.0  \n",
       "2    0    0    0     NaN  \n",
       "3    0    0    0     1.0  \n",
       "4    0    0    0     0.0  \n",
       "\n",
       "[5 rows x 34 columns]"
      ]
     },
     "execution_count": 1,
     "metadata": {},
     "output_type": "execute_result"
    }
   ],
   "source": [
    "import requests   # 导入所需要的模块\n",
    "import json\n",
    "import urllib.request\n",
    "import pandas as pd\n",
    "\n",
    "#设置请求头，伪装为浏览器\n",
    "headers = {'referer':'https://www.kaggle.com/loveall/human-happiness-indicators',\n",
    "           'accept':'application/json',\n",
    "           'user-agent':'Mozilla/5.0 (Windows NT 10.0; Win64; x64) AppleWebKit/537.36 (KHTML, like Gecko) Chrome/81.0.4044.129 Safari/537.36'}\n",
    "##      爬取数据集属性特征\n",
    "\n",
    "url = 'https://www.kaggle.com/requests/GetDatabundleExternalColumnsRequest'  #数据存储的网站\n",
    "r = requests.post(url,headers = headers)    #发起请求，将找到的第一个数据源作为请求目标\n",
    "\n",
    "data_json = json.loads(r.text)#将发现的数据转化为类似字典的json格式\n",
    "data_col = data_json['result']['columns']#取出json中的数据，columns为列表，存储着数据\n",
    "\n",
    "columns = [0]*len(data_col)# 定义一个存放数据的列表\n",
    "\n",
    "for i in range(len(data_col)):\n",
    "    columns[i] = data_col[i]['name']#将对应的属性赋值给columns\n",
    "\n",
    "##      爬取具体数据\n",
    "\n",
    "url = 'https://www.kaggle.com/requests/GetDataViewExternalRequest'   #数据存储的url\n",
    "req = urllib.request.Request(url = url,headers = headers,method='POST')   #发起请求，将找到的第一个数据源作为请求目标\n",
    "response = urllib.request.urlopen(req)   # 将爬取内容封装为response对象\n",
    "\n",
    "data_json1 = json.loads(response.read().decode('utf-8'))   #将发现的数据转化为类似字典的json格式\n",
    "data_in = data_json1['result']['dataView']['dataTable']['rows']    # 数据存储在列表中\n",
    "\n",
    "##      组合成表格\n",
    "data = pd.DataFrame(inf['text'] for inf in data_in)     #将爬取的数据放入到表格中\n",
    "data.columns = columns     #表格对应的列属性\n",
    "\n",
    "data.to_csv('happiness.csv')    #保存为表格\n",
    "\n",
    "data.head()   #显示数据的前五行"
   ]
  },
  {
   "cell_type": "markdown",
   "metadata": {},
   "source": [
    "# 2.读取数据"
   ]
  },
  {
   "cell_type": "code",
   "execution_count": 1,
   "metadata": {
    "scrolled": true
   },
   "outputs": [],
   "source": [
    "import pandas as pd  #导入pandas模块\n",
    "\n",
    "data = pd.read_csv('happiness.csv')   #利用read_csv()函数读取文件"
   ]
  },
  {
   "cell_type": "code",
   "execution_count": 2,
   "metadata": {},
   "outputs": [
    {
     "name": "stdout",
     "output_type": "stream",
     "text": [
      "<class 'pandas.core.frame.DataFrame'>\n",
      "RangeIndex: 17137 entries, 0 to 17136\n",
      "Data columns (total 34 columns):\n",
      "id             17137 non-null int64\n",
      "year           17137 non-null int64\n",
      "workstat       17134 non-null object\n",
      "prestige       16283 non-null float64\n",
      "divorce        9754 non-null object\n",
      "widowed        11096 non-null object\n",
      "educ           17093 non-null float64\n",
      "reg16          17137 non-null object\n",
      "babies         17036 non-null float64\n",
      "preteen        17036 non-null float64\n",
      "teens          17049 non-null float64\n",
      "income         15045 non-null object\n",
      "region         17137 non-null object\n",
      "attend         16864 non-null object\n",
      "happy          17137 non-null object\n",
      "owngun         11297 non-null object\n",
      "tvhours        11794 non-null float64\n",
      "vhappy         17137 non-null int64\n",
      "mothfath16     17132 non-null float64\n",
      "black          17137 non-null int64\n",
      "gwbush04       1930 non-null float64\n",
      "female         17137 non-null int64\n",
      "blackfemale    17137 non-null int64\n",
      "gwbush00       3436 non-null float64\n",
      "occattend      16864 non-null float64\n",
      "regattend      16864 non-null float64\n",
      "y94            17137 non-null int64\n",
      "y96            17137 non-null int64\n",
      "y98            17137 non-null int64\n",
      "y00            17137 non-null int64\n",
      "y02            17137 non-null int64\n",
      "y04            17137 non-null int64\n",
      "y06            17137 non-null int64\n",
      "unem10         11341 non-null float64\n",
      "dtypes: float64(12), int64(13), object(9)\n",
      "memory usage: 4.4+ MB\n"
     ]
    }
   ],
   "source": [
    "data.info()#查询样本数据相关信息"
   ]
  },
  {
   "cell_type": "markdown",
   "metadata": {},
   "source": [
    "+ 观察到数据中有缺失值，且属性列中有字符串类型"
   ]
  },
  {
   "cell_type": "markdown",
   "metadata": {},
   "source": [
    "# 数据预处理\n",
    "1. 删除缺失值过多的特征"
   ]
  },
  {
   "cell_type": "code",
   "execution_count": 3,
   "metadata": {},
   "outputs": [
    {
     "name": "stdout",
     "output_type": "stream",
     "text": [
      "数据的缺失值比例为：\n",
      "id             0.000000\n",
      "year           0.000000\n",
      "workstat       0.000175\n",
      "prestige       0.049834\n",
      "divorce        0.430822\n",
      "widowed        0.352512\n",
      "educ           0.002568\n",
      "reg16          0.000000\n",
      "babies         0.005894\n",
      "preteen        0.005894\n",
      "teens          0.005135\n",
      "income         0.122075\n",
      "region         0.000000\n",
      "attend         0.015930\n",
      "happy          0.000000\n",
      "owngun         0.340783\n",
      "tvhours        0.311782\n",
      "vhappy         0.000000\n",
      "mothfath16     0.000292\n",
      "black          0.000000\n",
      "gwbush04       0.887378\n",
      "female         0.000000\n",
      "blackfemale    0.000000\n",
      "gwbush00       0.799498\n",
      "occattend      0.015930\n",
      "regattend      0.015930\n",
      "y94            0.000000\n",
      "y96            0.000000\n",
      "y98            0.000000\n",
      "y00            0.000000\n",
      "y02            0.000000\n",
      "y04            0.000000\n",
      "y06            0.000000\n",
      "unem10         0.338216\n",
      "dtype: float64\n"
     ]
    }
   ],
   "source": [
    "data_nan = data.isnull().sum()/len(data)#计算缺失值比例\n",
    "\n",
    "data_nan.apply(lambda x:format(x,'.1%'))#转化为百分数\n",
    "print('数据的缺失值比例为：\\n{}'.format(data_nan))\n",
    "\n",
    "#删除缺失值大于50%的数据\n",
    "columns = data.columns[~(data_nan>=0.5)]\n",
    "data_1 = pd.DataFrame(data)[columns]"
   ]
  },
  {
   "cell_type": "markdown",
   "metadata": {},
   "source": [
    "2. 去掉无影响的特征"
   ]
  },
  {
   "cell_type": "code",
   "execution_count": 4,
   "metadata": {},
   "outputs": [
    {
     "data": {
      "text/html": [
       "<div>\n",
       "<style scoped>\n",
       "    .dataframe tbody tr th:only-of-type {\n",
       "        vertical-align: middle;\n",
       "    }\n",
       "\n",
       "    .dataframe tbody tr th {\n",
       "        vertical-align: top;\n",
       "    }\n",
       "\n",
       "    .dataframe thead th {\n",
       "        text-align: right;\n",
       "    }\n",
       "</style>\n",
       "<table border=\"1\" class=\"dataframe\">\n",
       "  <thead>\n",
       "    <tr style=\"text-align: right;\">\n",
       "      <th></th>\n",
       "      <th>year</th>\n",
       "      <th>workstat</th>\n",
       "      <th>prestige</th>\n",
       "      <th>divorce</th>\n",
       "      <th>widowed</th>\n",
       "      <th>educ</th>\n",
       "      <th>reg16</th>\n",
       "      <th>babies</th>\n",
       "      <th>preteen</th>\n",
       "      <th>teens</th>\n",
       "      <th>...</th>\n",
       "      <th>happy</th>\n",
       "      <th>owngun</th>\n",
       "      <th>tvhours</th>\n",
       "      <th>mothfath16</th>\n",
       "      <th>black</th>\n",
       "      <th>female</th>\n",
       "      <th>blackfemale</th>\n",
       "      <th>occattend</th>\n",
       "      <th>regattend</th>\n",
       "      <th>unem10</th>\n",
       "    </tr>\n",
       "  </thead>\n",
       "  <tbody>\n",
       "    <tr>\n",
       "      <td>0</td>\n",
       "      <td>1994</td>\n",
       "      <td>keeping house</td>\n",
       "      <td>46.0</td>\n",
       "      <td>NaN</td>\n",
       "      <td>iap</td>\n",
       "      <td>12.0</td>\n",
       "      <td>middle atlantic</td>\n",
       "      <td>2.0</td>\n",
       "      <td>3.0</td>\n",
       "      <td>0.0</td>\n",
       "      <td>...</td>\n",
       "      <td>pretty happy</td>\n",
       "      <td>NaN</td>\n",
       "      <td>2.0</td>\n",
       "      <td>1.0</td>\n",
       "      <td>1</td>\n",
       "      <td>1</td>\n",
       "      <td>1</td>\n",
       "      <td>1.0</td>\n",
       "      <td>0.0</td>\n",
       "      <td>1.0</td>\n",
       "    </tr>\n",
       "    <tr>\n",
       "      <td>1</td>\n",
       "      <td>1994</td>\n",
       "      <td>working fulltime</td>\n",
       "      <td>22.0</td>\n",
       "      <td>no</td>\n",
       "      <td>iap</td>\n",
       "      <td>12.0</td>\n",
       "      <td>foreign</td>\n",
       "      <td>0.0</td>\n",
       "      <td>0.0</td>\n",
       "      <td>0.0</td>\n",
       "      <td>...</td>\n",
       "      <td>very happy</td>\n",
       "      <td>NaN</td>\n",
       "      <td>3.0</td>\n",
       "      <td>0.0</td>\n",
       "      <td>1</td>\n",
       "      <td>0</td>\n",
       "      <td>0</td>\n",
       "      <td>0.0</td>\n",
       "      <td>0.0</td>\n",
       "      <td>0.0</td>\n",
       "    </tr>\n",
       "    <tr>\n",
       "      <td>2</td>\n",
       "      <td>1994</td>\n",
       "      <td>working fulltime</td>\n",
       "      <td>29.0</td>\n",
       "      <td>no</td>\n",
       "      <td>iap</td>\n",
       "      <td>12.0</td>\n",
       "      <td>foreign</td>\n",
       "      <td>0.0</td>\n",
       "      <td>0.0</td>\n",
       "      <td>0.0</td>\n",
       "      <td>...</td>\n",
       "      <td>pretty happy</td>\n",
       "      <td>iap</td>\n",
       "      <td>1.0</td>\n",
       "      <td>0.0</td>\n",
       "      <td>1</td>\n",
       "      <td>1</td>\n",
       "      <td>1</td>\n",
       "      <td>0.0</td>\n",
       "      <td>1.0</td>\n",
       "      <td>NaN</td>\n",
       "    </tr>\n",
       "    <tr>\n",
       "      <td>3</td>\n",
       "      <td>1994</td>\n",
       "      <td>working fulltime</td>\n",
       "      <td>42.0</td>\n",
       "      <td>yes</td>\n",
       "      <td>iap</td>\n",
       "      <td>8.0</td>\n",
       "      <td>foreign</td>\n",
       "      <td>0.0</td>\n",
       "      <td>0.0</td>\n",
       "      <td>0.0</td>\n",
       "      <td>...</td>\n",
       "      <td>not too happy</td>\n",
       "      <td>NaN</td>\n",
       "      <td>3.0</td>\n",
       "      <td>0.0</td>\n",
       "      <td>0</td>\n",
       "      <td>0</td>\n",
       "      <td>0</td>\n",
       "      <td>0.0</td>\n",
       "      <td>0.0</td>\n",
       "      <td>1.0</td>\n",
       "    </tr>\n",
       "    <tr>\n",
       "      <td>4</td>\n",
       "      <td>1994</td>\n",
       "      <td>working parttime</td>\n",
       "      <td>36.0</td>\n",
       "      <td>NaN</td>\n",
       "      <td>NaN</td>\n",
       "      <td>13.0</td>\n",
       "      <td>middle atlantic</td>\n",
       "      <td>0.0</td>\n",
       "      <td>1.0</td>\n",
       "      <td>1.0</td>\n",
       "      <td>...</td>\n",
       "      <td>not too happy</td>\n",
       "      <td>iap</td>\n",
       "      <td>NaN</td>\n",
       "      <td>0.0</td>\n",
       "      <td>1</td>\n",
       "      <td>1</td>\n",
       "      <td>1</td>\n",
       "      <td>0.0</td>\n",
       "      <td>0.0</td>\n",
       "      <td>0.0</td>\n",
       "    </tr>\n",
       "  </tbody>\n",
       "</table>\n",
       "<p>5 rows × 23 columns</p>\n",
       "</div>"
      ],
      "text/plain": [
       "   year          workstat  prestige divorce widowed  educ            reg16  \\\n",
       "0  1994     keeping house      46.0     NaN     iap  12.0  middle atlantic   \n",
       "1  1994  working fulltime      22.0      no     iap  12.0          foreign   \n",
       "2  1994  working fulltime      29.0      no     iap  12.0          foreign   \n",
       "3  1994  working fulltime      42.0     yes     iap   8.0          foreign   \n",
       "4  1994  working parttime      36.0     NaN     NaN  13.0  middle atlantic   \n",
       "\n",
       "   babies  preteen  teens  ...          happy owngun tvhours mothfath16 black  \\\n",
       "0     2.0      3.0    0.0  ...   pretty happy    NaN     2.0        1.0     1   \n",
       "1     0.0      0.0    0.0  ...     very happy    NaN     3.0        0.0     1   \n",
       "2     0.0      0.0    0.0  ...   pretty happy    iap     1.0        0.0     1   \n",
       "3     0.0      0.0    0.0  ...  not too happy    NaN     3.0        0.0     0   \n",
       "4     0.0      1.0    1.0  ...  not too happy    iap     NaN        0.0     1   \n",
       "\n",
       "   female  blackfemale  occattend  regattend  unem10  \n",
       "0       1            1        1.0        0.0     1.0  \n",
       "1       0            0        0.0        0.0     0.0  \n",
       "2       1            1        0.0        1.0     NaN  \n",
       "3       0            0        0.0        0.0     1.0  \n",
       "4       1            1        0.0        0.0     0.0  \n",
       "\n",
       "[5 rows x 23 columns]"
      ]
     },
     "execution_count": 4,
     "metadata": {},
     "output_type": "execute_result"
    }
   ],
   "source": [
    "#去掉和year相同意义的特征以及对目标值无影响的特征\n",
    "columns_1 = ['id','y94','y96','y98','y00','y02','y04','y06','vhappy']\n",
    "data_2 = data_1.drop(columns_1,axis=1)\n",
    "data_2.head()"
   ]
  },
  {
   "cell_type": "markdown",
   "metadata": {},
   "source": [
    "3. 将字符串格式转化为整数编码"
   ]
  },
  {
   "cell_type": "code",
   "execution_count": 5,
   "metadata": {},
   "outputs": [
    {
     "name": "stdout",
     "output_type": "stream",
     "text": [
      "字符串类型列的取值及对应数目\n",
      "working fulltime    9214\n",
      "retired             2459\n",
      "keeping house       1912\n",
      "working parttime    1812\n",
      "school               521\n",
      "unempl, laid off     485\n",
      "other                396\n",
      "temp not working     335\n",
      "Name: workstat, dtype: int64\n",
      "-----------------------\n",
      "no     7421\n",
      "yes    2333\n",
      "Name: divorce, dtype: int64\n",
      "-----------------------\n",
      "iap    10718\n",
      "yes      378\n",
      "Name: widowed, dtype: int64\n",
      "-----------------------\n",
      "e. nor. central    3148\n",
      "south atlantic     2643\n",
      "middle atlantic    2620\n",
      "pacific            1738\n",
      "w. sou. central    1635\n",
      "w. nor. central    1294\n",
      "foreign            1201\n",
      "e. sou. central    1169\n",
      "mountain            881\n",
      "new england         808\n",
      "Name: reg16, dtype: int64\n",
      "-----------------------\n",
      "$25000 or more    9725\n",
      "$20000 - 24999    1278\n",
      "$10000 - 14999    1251\n",
      "$15000 - 19999    1099\n",
      "$8000 to 9999      399\n",
      "$7000 to 7999      218\n",
      "$5000 to 5999      209\n",
      "$6000 to 6999      202\n",
      "$1000 to 2999      182\n",
      "lt $1000           176\n",
      "$4000 to 4999      156\n",
      "$3000 to 3999      150\n",
      "Name: income, dtype: int64\n",
      "-----------------------\n",
      "south atlantic     3340\n",
      "e. nor. central    2881\n",
      "middle atlantic    2414\n",
      "pacific            2353\n",
      "w. sou. central    1782\n",
      "w. nor. central    1247\n",
      "mountain           1195\n",
      "e. sou. central    1117\n",
      "new england         808\n",
      "Name: region, dtype: int64\n",
      "-----------------------\n",
      "never               3213\n",
      "every week          3041\n",
      "once a year         2209\n",
      "sevrl times a yr    2118\n",
      "2-3x a month        1495\n",
      "lt once a year      1382\n",
      "more thn once wk    1274\n",
      "once a month        1193\n",
      "nrly every week      939\n",
      "Name: attend, dtype: int64\n",
      "-----------------------\n",
      "pretty happy     9791\n",
      "very happy       5260\n",
      "not too happy    2086\n",
      "Name: happy, dtype: int64\n",
      "-----------------------\n",
      "iap    7180\n",
      "yes    4117\n",
      "Name: owngun, dtype: int64\n",
      "-----------------------\n"
     ]
    }
   ],
   "source": [
    "##  将字符串格式转化为整数编码\n",
    "\n",
    "obj=['workstat','divorce','widowed','reg16','income','region','attend','happy','owngun']#将数值为字符串格式的列放入列表中\n",
    "print('字符串类型列的取值及对应数目')\n",
    "for j in obj:#循环遍历字符串格式的列\n",
    "    print(data[j].value_counts())#查看每列中取值类型及其对应的数目\n",
    "    print('-----------------------')#分隔线"
   ]
  },
  {
   "cell_type": "code",
   "execution_count": 6,
   "metadata": {},
   "outputs": [
    {
     "data": {
      "text/html": [
       "<div>\n",
       "<style scoped>\n",
       "    .dataframe tbody tr th:only-of-type {\n",
       "        vertical-align: middle;\n",
       "    }\n",
       "\n",
       "    .dataframe tbody tr th {\n",
       "        vertical-align: top;\n",
       "    }\n",
       "\n",
       "    .dataframe thead th {\n",
       "        text-align: right;\n",
       "    }\n",
       "</style>\n",
       "<table border=\"1\" class=\"dataframe\">\n",
       "  <thead>\n",
       "    <tr style=\"text-align: right;\">\n",
       "      <th></th>\n",
       "      <th>year</th>\n",
       "      <th>workstat</th>\n",
       "      <th>prestige</th>\n",
       "      <th>divorce</th>\n",
       "      <th>widowed</th>\n",
       "      <th>educ</th>\n",
       "      <th>reg16</th>\n",
       "      <th>babies</th>\n",
       "      <th>preteen</th>\n",
       "      <th>teens</th>\n",
       "      <th>...</th>\n",
       "      <th>happy</th>\n",
       "      <th>owngun</th>\n",
       "      <th>tvhours</th>\n",
       "      <th>mothfath16</th>\n",
       "      <th>black</th>\n",
       "      <th>female</th>\n",
       "      <th>blackfemale</th>\n",
       "      <th>occattend</th>\n",
       "      <th>regattend</th>\n",
       "      <th>unem10</th>\n",
       "    </tr>\n",
       "  </thead>\n",
       "  <tbody>\n",
       "    <tr>\n",
       "      <td>0</td>\n",
       "      <td>1994</td>\n",
       "      <td>5.0</td>\n",
       "      <td>46.0</td>\n",
       "      <td>NaN</td>\n",
       "      <td>0.0</td>\n",
       "      <td>12.0</td>\n",
       "      <td>8</td>\n",
       "      <td>2.0</td>\n",
       "      <td>3.0</td>\n",
       "      <td>0.0</td>\n",
       "      <td>...</td>\n",
       "      <td>3</td>\n",
       "      <td>NaN</td>\n",
       "      <td>2.0</td>\n",
       "      <td>1.0</td>\n",
       "      <td>1</td>\n",
       "      <td>1</td>\n",
       "      <td>1</td>\n",
       "      <td>1.0</td>\n",
       "      <td>0.0</td>\n",
       "      <td>1.0</td>\n",
       "    </tr>\n",
       "    <tr>\n",
       "      <td>1</td>\n",
       "      <td>1994</td>\n",
       "      <td>4.0</td>\n",
       "      <td>22.0</td>\n",
       "      <td>0.0</td>\n",
       "      <td>0.0</td>\n",
       "      <td>12.0</td>\n",
       "      <td>4</td>\n",
       "      <td>0.0</td>\n",
       "      <td>0.0</td>\n",
       "      <td>0.0</td>\n",
       "      <td>...</td>\n",
       "      <td>5</td>\n",
       "      <td>NaN</td>\n",
       "      <td>3.0</td>\n",
       "      <td>0.0</td>\n",
       "      <td>1</td>\n",
       "      <td>0</td>\n",
       "      <td>0</td>\n",
       "      <td>0.0</td>\n",
       "      <td>0.0</td>\n",
       "      <td>0.0</td>\n",
       "    </tr>\n",
       "    <tr>\n",
       "      <td>2</td>\n",
       "      <td>1994</td>\n",
       "      <td>4.0</td>\n",
       "      <td>29.0</td>\n",
       "      <td>0.0</td>\n",
       "      <td>0.0</td>\n",
       "      <td>12.0</td>\n",
       "      <td>4</td>\n",
       "      <td>0.0</td>\n",
       "      <td>0.0</td>\n",
       "      <td>0.0</td>\n",
       "      <td>...</td>\n",
       "      <td>3</td>\n",
       "      <td>0.0</td>\n",
       "      <td>1.0</td>\n",
       "      <td>0.0</td>\n",
       "      <td>1</td>\n",
       "      <td>1</td>\n",
       "      <td>1</td>\n",
       "      <td>0.0</td>\n",
       "      <td>1.0</td>\n",
       "      <td>NaN</td>\n",
       "    </tr>\n",
       "    <tr>\n",
       "      <td>3</td>\n",
       "      <td>1994</td>\n",
       "      <td>4.0</td>\n",
       "      <td>42.0</td>\n",
       "      <td>1.0</td>\n",
       "      <td>0.0</td>\n",
       "      <td>8.0</td>\n",
       "      <td>4</td>\n",
       "      <td>0.0</td>\n",
       "      <td>0.0</td>\n",
       "      <td>0.0</td>\n",
       "      <td>...</td>\n",
       "      <td>1</td>\n",
       "      <td>NaN</td>\n",
       "      <td>3.0</td>\n",
       "      <td>0.0</td>\n",
       "      <td>0</td>\n",
       "      <td>0</td>\n",
       "      <td>0</td>\n",
       "      <td>0.0</td>\n",
       "      <td>0.0</td>\n",
       "      <td>1.0</td>\n",
       "    </tr>\n",
       "    <tr>\n",
       "      <td>4</td>\n",
       "      <td>1994</td>\n",
       "      <td>7.0</td>\n",
       "      <td>36.0</td>\n",
       "      <td>NaN</td>\n",
       "      <td>NaN</td>\n",
       "      <td>13.0</td>\n",
       "      <td>8</td>\n",
       "      <td>0.0</td>\n",
       "      <td>1.0</td>\n",
       "      <td>1.0</td>\n",
       "      <td>...</td>\n",
       "      <td>1</td>\n",
       "      <td>0.0</td>\n",
       "      <td>NaN</td>\n",
       "      <td>0.0</td>\n",
       "      <td>1</td>\n",
       "      <td>1</td>\n",
       "      <td>1</td>\n",
       "      <td>0.0</td>\n",
       "      <td>0.0</td>\n",
       "      <td>0.0</td>\n",
       "    </tr>\n",
       "  </tbody>\n",
       "</table>\n",
       "<p>5 rows × 23 columns</p>\n",
       "</div>"
      ],
      "text/plain": [
       "   year  workstat  prestige  divorce  widowed  educ  reg16  babies  preteen  \\\n",
       "0  1994       5.0      46.0      NaN      0.0  12.0      8     2.0      3.0   \n",
       "1  1994       4.0      22.0      0.0      0.0  12.0      4     0.0      0.0   \n",
       "2  1994       4.0      29.0      0.0      0.0  12.0      4     0.0      0.0   \n",
       "3  1994       4.0      42.0      1.0      0.0   8.0      4     0.0      0.0   \n",
       "4  1994       7.0      36.0      NaN      NaN  13.0      8     0.0      1.0   \n",
       "\n",
       "   teens  ...  happy  owngun  tvhours  mothfath16  black  female  blackfemale  \\\n",
       "0    0.0  ...      3     NaN      2.0         1.0      1       1            1   \n",
       "1    0.0  ...      5     NaN      3.0         0.0      1       0            0   \n",
       "2    0.0  ...      3     0.0      1.0         0.0      1       1            1   \n",
       "3    0.0  ...      1     NaN      3.0         0.0      0       0            0   \n",
       "4    1.0  ...      1     0.0      NaN         0.0      1       1            1   \n",
       "\n",
       "   occattend  regattend  unem10  \n",
       "0        1.0        0.0     1.0  \n",
       "1        0.0        0.0     0.0  \n",
       "2        0.0        1.0     NaN  \n",
       "3        0.0        0.0     1.0  \n",
       "4        0.0        0.0     0.0  \n",
       "\n",
       "[5 rows x 23 columns]"
      ]
     },
     "execution_count": 6,
     "metadata": {},
     "output_type": "execute_result"
    }
   ],
   "source": [
    "list_1 = [[4,3,5,7,6,0,2,1],[0,1],[0,1],range(10,0,-1),[12,11,9,10,8,7,5,6,2,1,4,3],range(9,0,-1),[0,7,2,3,5,1,8,4,6],[3,5,1],[0,1]]#按照取值将字符串等级制\n",
    "for i in range(len(obj)):#循环更改\n",
    "    dict_1 = data_2[obj[i]].value_counts()#将列取值和对应数目转化为字典\n",
    "    df = pd.Series(list_1[i],index=list(dict_1.index))#创建Series格式\n",
    "    da = df.to_dict()#将Series转化为字典\n",
    "    data_2[obj[i]] = data_2[obj[i]].map(da)#利用map函数将字符串格式转化为整数编码\n",
    "\n",
    "data_2.head()"
   ]
  },
  {
   "cell_type": "markdown",
   "metadata": {},
   "source": [
    "4. 缺失值填补"
   ]
  },
  {
   "cell_type": "code",
   "execution_count": 7,
   "metadata": {},
   "outputs": [
    {
     "data": {
      "text/plain": [
       "year           0.0%\n",
       "workstat       0.0%\n",
       "prestige       0.0%\n",
       "divorce        0.0%\n",
       "widowed        0.0%\n",
       "educ           0.0%\n",
       "reg16          0.0%\n",
       "babies         0.0%\n",
       "preteen        0.0%\n",
       "teens          0.0%\n",
       "income         0.0%\n",
       "region         0.0%\n",
       "attend         0.0%\n",
       "happy          0.0%\n",
       "owngun         0.0%\n",
       "tvhours        0.0%\n",
       "mothfath16     0.0%\n",
       "black          0.0%\n",
       "female         0.0%\n",
       "blackfemale    0.0%\n",
       "occattend      0.0%\n",
       "regattend      0.0%\n",
       "unem10         0.0%\n",
       "dtype: object"
      ]
     },
     "execution_count": 7,
     "metadata": {},
     "output_type": "execute_result"
    }
   ],
   "source": [
    "## 缺失值填补\n",
    "data_3 = data_2.fillna(-1)#-1表示未知\n",
    "\n",
    "data_3_nan = data_3.isnull().sum()/len(data_3)#计算缺失值比例\n",
    "\n",
    "data_3_nan.apply(lambda x:format(x,'.1%'))#转化为百分数"
   ]
  },
  {
   "cell_type": "markdown",
   "metadata": {},
   "source": [
    "# 可视化操作"
   ]
  },
  {
   "cell_type": "markdown",
   "metadata": {},
   "source": [
    "1. 数据直观分布"
   ]
  },
  {
   "cell_type": "code",
   "execution_count": 11,
   "metadata": {},
   "outputs": [
    {
     "data": {
      "text/plain": [
       "<matplotlib.axes._subplots.AxesSubplot at 0x17abfe60e88>"
      ]
     },
     "execution_count": 11,
     "metadata": {},
     "output_type": "execute_result"
    },
    {
     "data": {
      "image/png": "[encoded data removed]",
      "text/plain": [
       "<Figure size 432x288 with 1 Axes>"
      ]
     },
     "metadata": {
      "needs_background": "light"
     },
     "output_type": "display_data"
    }
   ],
   "source": [
    "import seaborn as sns\n",
    "sns.distplot(data_3['happy'],bins=3,kde=False)#绘制幸福指数分布直方图"
   ]
  },
  {
   "cell_type": "code",
   "execution_count": 12,
   "metadata": {},
   "outputs": [
    {
     "data": {
      "text/plain": [
       "<matplotlib.axes._subplots.AxesSubplot at 0x17abfec9508>"
      ]
     },
     "execution_count": 12,
     "metadata": {},
     "output_type": "execute_result"
    },
    {
     "data": {
      "image/png": "[encoded data removed]",
      "text/plain": [
       "<Figure size 432x288 with 1 Axes>"
      ]
     },
     "metadata": {
      "needs_background": "light"
     },
     "output_type": "display_data"
    }
   ],
   "source": [
    "sns.distplot(data_3['income'],bins=50)#绘制收入分布的直方图"
   ]
  },
  {
   "cell_type": "code",
   "execution_count": 14,
   "metadata": {},
   "outputs": [
    {
     "data": {
      "text/plain": [
       "<matplotlib.axes._subplots.AxesSubplot at 0x17ac0000508>"
      ]
     },
     "execution_count": 14,
     "metadata": {},
     "output_type": "execute_result"
    },
    {
     "data": {
      "image/png": "[encoded data removed]",
      "text/plain": [
       "<Figure size 432x288 with 1 Axes>"
      ]
     },
     "metadata": {
      "needs_background": "light"
     },
     "output_type": "display_data"
    }
   ],
   "source": [
    "sns.distplot(data_3['workstat'],bins=50,kde=False)#绘制工作状态的直方图"
   ]
  },
  {
   "cell_type": "markdown",
   "metadata": {},
   "source": [
    "2. 不同因素影响下的幸福感分布"
   ]
  },
  {
   "cell_type": "code",
   "execution_count": 15,
   "metadata": {},
   "outputs": [
    {
     "data": {
      "text/plain": [
       "<matplotlib.axes._subplots.AxesSubplot at 0x17ac01dc808>"
      ]
     },
     "execution_count": 15,
     "metadata": {},
     "output_type": "execute_result"
    },
    {
     "data": {
      "image/png": "[encoded data removed]",
      "text/plain": [
       "<Figure size 432x288 with 1 Axes>"
      ]
     },
     "metadata": {
      "needs_background": "light"
     },
     "output_type": "display_data"
    }
   ],
   "source": [
    "sns.countplot(x='income',hue='happy',data = data_3)#观察不同收入的人群的幸福指数"
   ]
  },
  {
   "cell_type": "code",
   "execution_count": 16,
   "metadata": {},
   "outputs": [
    {
     "data": {
      "text/plain": [
       "<matplotlib.axes._subplots.AxesSubplot at 0x17ac02b2f88>"
      ]
     },
     "execution_count": 16,
     "metadata": {},
     "output_type": "execute_result"
    },
    {
     "data": {
      "image/png": "[encoded data removed]",
      "text/plain": [
       "<Figure size 432x288 with 1 Axes>"
      ]
     },
     "metadata": {
      "needs_background": "light"
     },
     "output_type": "display_data"
    }
   ],
   "source": [
    "sns.countplot(x='workstat',hue='happy',data = data_3)#观察不同工作地点的人的幸福指数分布"
   ]
  },
  {
   "cell_type": "code",
   "execution_count": 18,
   "metadata": {},
   "outputs": [
    {
     "data": {
      "text/plain": [
       "<matplotlib.axes._subplots.AxesSubplot at 0x17ac0258c48>"
      ]
     },
     "execution_count": 18,
     "metadata": {},
     "output_type": "execute_result"
    },
    {
     "data": {
      "image/png": "[encoded data removed]",
      "text/plain": [
       "<Figure size 800x600 with 1 Axes>"
      ]
     },
     "metadata": {
      "needs_background": "light"
     },
     "output_type": "display_data"
    }
   ],
   "source": [
    "import matplotlib.pyplot as plt#导入matplotlib.pyplot包\n",
    "#%matplotlib inline#图形显示\n",
    "\n",
    "plt.figure(figsize=(8,6),dpi=100)#画布大小设置\n",
    "sns.countplot(x='educ',hue='happy',data = data_3)#观察不同受教育程度的人幸福指数分布"
   ]
  },
  {
   "cell_type": "code",
   "execution_count": 19,
   "metadata": {},
   "outputs": [
    {
     "data": {
      "text/plain": [
       "<seaborn.axisgrid.FacetGrid at 0x17ac0518ac8>"
      ]
     },
     "execution_count": 19,
     "metadata": {},
     "output_type": "execute_result"
    },
    {
     "data": {
      "image/png": "[encoded data removed]",
      "text/plain": [
       "<Figure size 415.5x360 with 1 Axes>"
      ]
     },
     "metadata": {
      "needs_background": "light"
     },
     "output_type": "display_data"
    }
   ],
   "source": [
    "sns.lmplot(x='educ',y='happy',hue='divorce',data= data_3)#观察受教育程度，以及是否离婚对幸福指数的影响"
   ]
  },
  {
   "cell_type": "code",
   "execution_count": 20,
   "metadata": {},
   "outputs": [
    {
     "data": {
      "text/plain": [
       "<seaborn.axisgrid.FacetGrid at 0x17ac0650508>"
      ]
     },
     "execution_count": 20,
     "metadata": {},
     "output_type": "execute_result"
    },
    {
     "data": {
      "image/png": "[encoded data removed]",
      "text/plain": [
       "<Figure size 402.375x360 with 1 Axes>"
      ]
     },
     "metadata": {
      "needs_background": "light"
     },
     "output_type": "display_data"
    }
   ],
   "source": [
    "sns.lmplot(x='income',y='happy',hue='black',data= data_3)#观察收入和种族对幸福指数的影响"
   ]
  },
  {
   "cell_type": "code",
   "execution_count": 21,
   "metadata": {},
   "outputs": [
    {
     "data": {
      "text/plain": [
       "<seaborn.axisgrid.FacetGrid at 0x17ac0674148>"
      ]
     },
     "execution_count": 21,
     "metadata": {},
     "output_type": "execute_result"
    },
    {
     "data": {
      "image/png": "[encoded data removed]",
      "text/plain": [
       "<Figure size 402.375x360 with 1 Axes>"
      ]
     },
     "metadata": {
      "needs_background": "light"
     },
     "output_type": "display_data"
    }
   ],
   "source": [
    "sns.lmplot(x='babies',y='happy',hue='black',data= data_3)#观察小孩子数目以及种族对幸福指数分布的影响"
   ]
  },
  {
   "cell_type": "code",
   "execution_count": 22,
   "metadata": {},
   "outputs": [
    {
     "data": {
      "text/plain": [
       "<seaborn.axisgrid.FacetGrid at 0x17ac07556c8>"
      ]
     },
     "execution_count": 22,
     "metadata": {},
     "output_type": "execute_result"
    },
    {
     "data": {
      "image/png": "[encoded data removed]",
      "text/plain": [
       "<Figure size 402.5x360 with 1 Axes>"
      ]
     },
     "metadata": {
      "needs_background": "light"
     },
     "output_type": "display_data"
    }
   ],
   "source": [
    "sns.lmplot(x='babies',y='happy',hue='female',data= data_3)#观察小孩子数目以及性别对幸福指数分布的影响"
   ]
  },
  {
   "cell_type": "code",
   "execution_count": 23,
   "metadata": {
    "scrolled": false
   },
   "outputs": [
    {
     "data": {
      "image/png": "[encoded data removed]",
      "text/plain": [
       "<Figure size 800x1200 with 9 Axes>"
      ]
     },
     "metadata": {},
     "output_type": "display_data"
    }
   ],
   "source": [
    "## 可视化操作\n",
    "import matplotlib.pyplot as plt#导入matplotlib包用于图形显示\n",
    "import matplotlib as mpl\n",
    "%matplotlib inline\n",
    "\n",
    "plt.figure(figsize=(8,12),dpi=100)#设置画布大小\n",
    "\n",
    "font = {'family':'SimHei'}#中文字体\n",
    "mpl.rc('font',**font)\n",
    "\n",
    "colors_1=['dodgerblue','orange','lime','fuchsia','pink','turquoise','limegreen','moccasin','yellow','cyan','grey','blueviolet']#颜色设置\n",
    "for i in range(len(obj)):\n",
    "    plt.subplot(3,3,i+1)#多个图形显示，画布分块\n",
    "    dict1 = data_3[obj[i]].value_counts()#将列取值和对应数目转化为字典\n",
    "    colors = colors_1[:len(dict1)]\n",
    "    explode=tuple([0.02]+[0]*(len(dict1)-1))#设置每部分的偏移量，第一部分突出0.02\n",
    "    labels=list(dict1.index)#设置列中的取值为标签\n",
    "    plt.pie(list(dict1.values),explode = explode,colors = colors,labels=labels,startangle=90,autopct='%3.1f%%')#绘制饼状图\n",
    "    plt.axis('equal')\n",
    "    plt.title(obj[i]+'分布图')"
   ]
  },
  {
   "cell_type": "markdown",
   "metadata": {},
   "source": [
    "# 观察特征相关性"
   ]
  },
  {
   "cell_type": "code",
   "execution_count": 25,
   "metadata": {
    "scrolled": false
   },
   "outputs": [
    {
     "data": {
      "text/plain": [
       "<seaborn.axisgrid.PairGrid at 0x17ac3823ac8>"
      ]
     },
     "execution_count": 25,
     "metadata": {},
     "output_type": "execute_result"
    },
    {
     "data": {
      "image/png": "[encoded data removed]",
      "text/plain": [
       "<Figure size 900x900 with 30 Axes>"
      ]
     },
     "metadata": {
      "needs_background": "light"
     },
     "output_type": "display_data"
    }
   ],
   "source": [
    "#点对图\n",
    "sns.pairplot(data_3[['year','workstat','income','black','happy']])#绘制多个特征两两之间的散点图"
   ]
  },
  {
   "cell_type": "code",
   "execution_count": 26,
   "metadata": {},
   "outputs": [
    {
     "name": "stderr",
     "output_type": "stream",
     "text": [
      "D:\\Users\\xyf\\Anaconda3\\lib\\site-packages\\matplotlib\\backends\\backend_agg.py:211: RuntimeWarning: Glyph 8722 missing from current font.\n",
      "  font.set_text(s, 0.0, flags=flags)\n",
      "D:\\Users\\xyf\\Anaconda3\\lib\\site-packages\\matplotlib\\backends\\backend_agg.py:180: RuntimeWarning: Glyph 8722 missing from current font.\n",
      "  font.set_text(s, 0, flags=flags)\n"
     ]
    },
    {
     "data": {
      "image/png": "[encoded data removed]",
      "text/plain": [
       "<Figure size 720x720 with 2 Axes>"
      ]
     },
     "metadata": {
      "needs_background": "light"
     },
     "output_type": "display_data"
    }
   ],
   "source": [
    "#  热力图\n",
    "corr = data_3.corr()#特征的相关系数矩阵\n",
    "\n",
    "f,ax = plt.subplots(figsize=(10,10))#画布和坐标轴设置\n",
    "cmap = sns.diverging_palette(220,10,as_cmap=True)\n",
    "\n",
    "sns.heatmap(corr, cmap=cmap, vmax=1.0, linewidths=.3, cbar_kws={\"shrink\": .5}, ax=ax)#绘制热气图\n",
    "plt.show()#显示图形"
   ]
  },
  {
   "cell_type": "markdown",
   "metadata": {},
   "source": [
    "# 因变量和自变量划分"
   ]
  },
  {
   "cell_type": "code",
   "execution_count": 9,
   "metadata": {},
   "outputs": [],
   "source": [
    "Y = data_3['happy']#以幸福指数为因变量\n",
    "\n",
    "X = data_3.drop(['happy'],axis=1)#去除掉因变量happy的属性"
   ]
  },
  {
   "cell_type": "markdown",
   "metadata": {},
   "source": [
    "# 特征选择"
   ]
  },
  {
   "cell_type": "markdown",
   "metadata": {},
   "source": [
    "1. 递归特征消除"
   ]
  },
  {
   "cell_type": "code",
   "execution_count": 10,
   "metadata": {},
   "outputs": [
    {
     "name": "stdout",
     "output_type": "stream",
     "text": [
      "预测准确度为：\n",
      "0.9999416467292992\n",
      "[1 1 1 1 4 1 1 1 1 3 1 1 1 1 1 2 6 1 8 5 7 1]\n",
      "RFE选择出的特征有:\n",
      "Index(['year', 'workstat', 'prestige', 'divorce', 'educ', 'reg16', 'babies',\n",
      "       'preteen', 'income', 'region', 'attend', 'owngun', 'tvhours', 'female',\n",
      "       'unem10'],\n",
      "      dtype='object')\n"
     ]
    }
   ],
   "source": [
    "#导入所需要的包\n",
    "from sklearn.feature_selection import RFE\n",
    "from sklearn.ensemble import RandomForestClassifier#随机森林\n",
    "from sklearn.metrics import confusion_matrix\n",
    "from sklearn.metrics import accuracy_score\n",
    "#from sklearn.model_selection import cross_val_score\n",
    "\n",
    "forest = RandomForestClassifier(n_estimators=50,random_state=10)#以随机森林为基模型\n",
    "#执行RFE\n",
    "rfe = RFE(forest,n_features_to_select=15)#选择15个特征\n",
    "rfe.fit_transform(X,Y)#利用模型进行转换\n",
    "\n",
    "y_pred = rfe.predict(X)#调用predict()进行预测\n",
    "\n",
    "print('预测准确度为：')\n",
    "print(accuracy_score(Y,y_pred))#观察模型预测准确度\n",
    "\n",
    "print(rfe.ranking_)#特征排名\n",
    "\n",
    "print('RFE选择出的特征有:')\n",
    "print(X.columns[rfe.support_])#递归特征消除选择出的特征"
   ]
  },
  {
   "cell_type": "code",
   "execution_count": 11,
   "metadata": {},
   "outputs": [],
   "source": [
    "rfe_X = pd.DataFrame(X)[X.columns[rfe.support_]]#RFE特征选择后的数据集"
   ]
  },
  {
   "cell_type": "markdown",
   "metadata": {},
   "source": [
    "2. 卡方检验\n",
    "    + 保证数据>0，故做min-max标准化"
   ]
  },
  {
   "cell_type": "code",
   "execution_count": 30,
   "metadata": {},
   "outputs": [
    {
     "data": {
      "text/html": [
       "<div>\n",
       "<style scoped>\n",
       "    .dataframe tbody tr th:only-of-type {\n",
       "        vertical-align: middle;\n",
       "    }\n",
       "\n",
       "    .dataframe tbody tr th {\n",
       "        vertical-align: top;\n",
       "    }\n",
       "\n",
       "    .dataframe thead th {\n",
       "        text-align: right;\n",
       "    }\n",
       "</style>\n",
       "<table border=\"1\" class=\"dataframe\">\n",
       "  <thead>\n",
       "    <tr style=\"text-align: right;\">\n",
       "      <th></th>\n",
       "      <th>year</th>\n",
       "      <th>workstat</th>\n",
       "      <th>prestige</th>\n",
       "      <th>divorce</th>\n",
       "      <th>widowed</th>\n",
       "      <th>educ</th>\n",
       "      <th>reg16</th>\n",
       "      <th>babies</th>\n",
       "      <th>preteen</th>\n",
       "      <th>teens</th>\n",
       "      <th>...</th>\n",
       "      <th>attend</th>\n",
       "      <th>owngun</th>\n",
       "      <th>tvhours</th>\n",
       "      <th>mothfath16</th>\n",
       "      <th>black</th>\n",
       "      <th>female</th>\n",
       "      <th>blackfemale</th>\n",
       "      <th>occattend</th>\n",
       "      <th>regattend</th>\n",
       "      <th>unem10</th>\n",
       "    </tr>\n",
       "  </thead>\n",
       "  <tbody>\n",
       "    <tr>\n",
       "      <td>0</td>\n",
       "      <td>0.0</td>\n",
       "      <td>0.750</td>\n",
       "      <td>0.540230</td>\n",
       "      <td>0.0</td>\n",
       "      <td>0.5</td>\n",
       "      <td>0.619048</td>\n",
       "      <td>0.777778</td>\n",
       "      <td>0.428571</td>\n",
       "      <td>0.571429</td>\n",
       "      <td>0.125</td>\n",
       "      <td>...</td>\n",
       "      <td>0.444444</td>\n",
       "      <td>0.0</td>\n",
       "      <td>0.12</td>\n",
       "      <td>1.0</td>\n",
       "      <td>1.0</td>\n",
       "      <td>1.0</td>\n",
       "      <td>1.0</td>\n",
       "      <td>1.0</td>\n",
       "      <td>0.5</td>\n",
       "      <td>1.0</td>\n",
       "    </tr>\n",
       "    <tr>\n",
       "      <td>1</td>\n",
       "      <td>0.0</td>\n",
       "      <td>0.625</td>\n",
       "      <td>0.264368</td>\n",
       "      <td>0.5</td>\n",
       "      <td>0.5</td>\n",
       "      <td>0.619048</td>\n",
       "      <td>0.333333</td>\n",
       "      <td>0.142857</td>\n",
       "      <td>0.142857</td>\n",
       "      <td>0.125</td>\n",
       "      <td>...</td>\n",
       "      <td>0.888889</td>\n",
       "      <td>0.0</td>\n",
       "      <td>0.16</td>\n",
       "      <td>0.5</td>\n",
       "      <td>1.0</td>\n",
       "      <td>0.0</td>\n",
       "      <td>0.0</td>\n",
       "      <td>0.5</td>\n",
       "      <td>0.5</td>\n",
       "      <td>0.5</td>\n",
       "    </tr>\n",
       "    <tr>\n",
       "      <td>2</td>\n",
       "      <td>0.0</td>\n",
       "      <td>0.625</td>\n",
       "      <td>0.344828</td>\n",
       "      <td>0.5</td>\n",
       "      <td>0.5</td>\n",
       "      <td>0.619048</td>\n",
       "      <td>0.333333</td>\n",
       "      <td>0.142857</td>\n",
       "      <td>0.142857</td>\n",
       "      <td>0.125</td>\n",
       "      <td>...</td>\n",
       "      <td>1.000000</td>\n",
       "      <td>0.5</td>\n",
       "      <td>0.08</td>\n",
       "      <td>0.5</td>\n",
       "      <td>1.0</td>\n",
       "      <td>1.0</td>\n",
       "      <td>1.0</td>\n",
       "      <td>0.5</td>\n",
       "      <td>1.0</td>\n",
       "      <td>0.0</td>\n",
       "    </tr>\n",
       "    <tr>\n",
       "      <td>3</td>\n",
       "      <td>0.0</td>\n",
       "      <td>0.625</td>\n",
       "      <td>0.494253</td>\n",
       "      <td>1.0</td>\n",
       "      <td>0.5</td>\n",
       "      <td>0.428571</td>\n",
       "      <td>0.333333</td>\n",
       "      <td>0.142857</td>\n",
       "      <td>0.142857</td>\n",
       "      <td>0.125</td>\n",
       "      <td>...</td>\n",
       "      <td>0.333333</td>\n",
       "      <td>0.0</td>\n",
       "      <td>0.16</td>\n",
       "      <td>0.5</td>\n",
       "      <td>0.0</td>\n",
       "      <td>0.0</td>\n",
       "      <td>0.0</td>\n",
       "      <td>0.5</td>\n",
       "      <td>0.5</td>\n",
       "      <td>1.0</td>\n",
       "    </tr>\n",
       "    <tr>\n",
       "      <td>4</td>\n",
       "      <td>0.0</td>\n",
       "      <td>1.000</td>\n",
       "      <td>0.425287</td>\n",
       "      <td>0.0</td>\n",
       "      <td>0.0</td>\n",
       "      <td>0.666667</td>\n",
       "      <td>0.777778</td>\n",
       "      <td>0.142857</td>\n",
       "      <td>0.285714</td>\n",
       "      <td>0.250</td>\n",
       "      <td>...</td>\n",
       "      <td>0.333333</td>\n",
       "      <td>0.5</td>\n",
       "      <td>0.00</td>\n",
       "      <td>0.5</td>\n",
       "      <td>1.0</td>\n",
       "      <td>1.0</td>\n",
       "      <td>1.0</td>\n",
       "      <td>0.5</td>\n",
       "      <td>0.5</td>\n",
       "      <td>0.5</td>\n",
       "    </tr>\n",
       "  </tbody>\n",
       "</table>\n",
       "<p>5 rows × 22 columns</p>\n",
       "</div>"
      ],
      "text/plain": [
       "   year  workstat  prestige  divorce  widowed      educ     reg16    babies  \\\n",
       "0   0.0     0.750  0.540230      0.0      0.5  0.619048  0.777778  0.428571   \n",
       "1   0.0     0.625  0.264368      0.5      0.5  0.619048  0.333333  0.142857   \n",
       "2   0.0     0.625  0.344828      0.5      0.5  0.619048  0.333333  0.142857   \n",
       "3   0.0     0.625  0.494253      1.0      0.5  0.428571  0.333333  0.142857   \n",
       "4   0.0     1.000  0.425287      0.0      0.0  0.666667  0.777778  0.142857   \n",
       "\n",
       "    preteen  teens  ...    attend  owngun  tvhours  mothfath16  black  female  \\\n",
       "0  0.571429  0.125  ...  0.444444     0.0     0.12         1.0    1.0     1.0   \n",
       "1  0.142857  0.125  ...  0.888889     0.0     0.16         0.5    1.0     0.0   \n",
       "2  0.142857  0.125  ...  1.000000     0.5     0.08         0.5    1.0     1.0   \n",
       "3  0.142857  0.125  ...  0.333333     0.0     0.16         0.5    0.0     0.0   \n",
       "4  0.285714  0.250  ...  0.333333     0.5     0.00         0.5    1.0     1.0   \n",
       "\n",
       "   blackfemale  occattend  regattend  unem10  \n",
       "0          1.0        1.0        0.5     1.0  \n",
       "1          0.0        0.5        0.5     0.5  \n",
       "2          1.0        0.5        1.0     0.0  \n",
       "3          0.0        0.5        0.5     1.0  \n",
       "4          1.0        0.5        0.5     0.5  \n",
       "\n",
       "[5 rows x 22 columns]"
      ]
     },
     "execution_count": 30,
     "metadata": {},
     "output_type": "execute_result"
    }
   ],
   "source": [
    "## 数据标准化\n",
    "\n",
    "from sklearn.preprocessing import MinMaxScaler#调用MinMaxScaler()对数据进行标准化\n",
    "\n",
    "X_1 = pd.DataFrame(MinMaxScaler().fit_transform(X),columns = X.columns)#标准化后的因变量\n",
    "\n",
    "X_1.head()#展示前五行"
   ]
  },
  {
   "cell_type": "code",
   "execution_count": 33,
   "metadata": {},
   "outputs": [
    {
     "name": "stdout",
     "output_type": "stream",
     "text": [
      "[1.33955764e+00 3.14390002e+00 1.67858472e+01 2.14816746e+02\n",
      " 5.86581821e+01 7.40788147e+00 4.17435276e-01 1.95246246e-01\n",
      " 4.92029067e-02 6.65807661e-02 2.09354825e+01 6.14193625e-01\n",
      " 5.74881974e+01 6.12160694e+00 4.79881582e+00 6.40467584e+00\n",
      " 1.37405873e+02 2.33503142e+00 9.83192259e+01 6.82856068e-01\n",
      " 5.50671555e+00 3.28543125e+01]\n",
      "与自变量相关性较大的特征： Index(['workstat', 'prestige', 'divorce', 'widowed', 'educ', 'income',\n",
      "       'attend', 'owngun', 'tvhours', 'mothfath16', 'black', 'female',\n",
      "       'blackfemale', 'regattend', 'unem10'],\n",
      "      dtype='object')\n"
     ]
    }
   ],
   "source": [
    "##    卡方检验特征选择\n",
    "\n",
    "from sklearn.feature_selection import SelectKBest#调用卡方检验需要的包\n",
    "from sklearn.feature_selection import chi2\n",
    "\n",
    "#与目标变量最相关的15个特征\n",
    "sel_chi = SelectKBest(chi2,k=15).fit(X_1,Y)\n",
    "\n",
    "#各个特征变量与目标向量的相关程度\n",
    "print(sel_chi.scores_)\n",
    "\n",
    "#被挑选出的特征\n",
    "print(\"与自变量相关性较大的特征：\",X_1.columns[sel_chi.get_support()])"
   ]
  },
  {
   "cell_type": "code",
   "execution_count": 34,
   "metadata": {},
   "outputs": [
    {
     "data": {
      "text/html": [
       "<div>\n",
       "<style scoped>\n",
       "    .dataframe tbody tr th:only-of-type {\n",
       "        vertical-align: middle;\n",
       "    }\n",
       "\n",
       "    .dataframe tbody tr th {\n",
       "        vertical-align: top;\n",
       "    }\n",
       "\n",
       "    .dataframe thead th {\n",
       "        text-align: right;\n",
       "    }\n",
       "</style>\n",
       "<table border=\"1\" class=\"dataframe\">\n",
       "  <thead>\n",
       "    <tr style=\"text-align: right;\">\n",
       "      <th></th>\n",
       "      <th>workstat</th>\n",
       "      <th>prestige</th>\n",
       "      <th>divorce</th>\n",
       "      <th>widowed</th>\n",
       "      <th>educ</th>\n",
       "      <th>income</th>\n",
       "      <th>attend</th>\n",
       "      <th>owngun</th>\n",
       "      <th>tvhours</th>\n",
       "      <th>mothfath16</th>\n",
       "      <th>black</th>\n",
       "      <th>female</th>\n",
       "      <th>blackfemale</th>\n",
       "      <th>regattend</th>\n",
       "      <th>unem10</th>\n",
       "    </tr>\n",
       "  </thead>\n",
       "  <tbody>\n",
       "    <tr>\n",
       "      <td>0</td>\n",
       "      <td>0.750</td>\n",
       "      <td>0.540230</td>\n",
       "      <td>0.0</td>\n",
       "      <td>0.5</td>\n",
       "      <td>0.619048</td>\n",
       "      <td>0.769231</td>\n",
       "      <td>0.444444</td>\n",
       "      <td>0.0</td>\n",
       "      <td>0.12</td>\n",
       "      <td>1.0</td>\n",
       "      <td>1.0</td>\n",
       "      <td>1.0</td>\n",
       "      <td>1.0</td>\n",
       "      <td>0.5</td>\n",
       "      <td>1.0</td>\n",
       "    </tr>\n",
       "    <tr>\n",
       "      <td>1</td>\n",
       "      <td>0.625</td>\n",
       "      <td>0.264368</td>\n",
       "      <td>0.5</td>\n",
       "      <td>0.5</td>\n",
       "      <td>0.619048</td>\n",
       "      <td>0.000000</td>\n",
       "      <td>0.888889</td>\n",
       "      <td>0.0</td>\n",
       "      <td>0.16</td>\n",
       "      <td>0.5</td>\n",
       "      <td>1.0</td>\n",
       "      <td>0.0</td>\n",
       "      <td>0.0</td>\n",
       "      <td>0.5</td>\n",
       "      <td>0.5</td>\n",
       "    </tr>\n",
       "    <tr>\n",
       "      <td>2</td>\n",
       "      <td>0.625</td>\n",
       "      <td>0.344828</td>\n",
       "      <td>0.5</td>\n",
       "      <td>0.5</td>\n",
       "      <td>0.619048</td>\n",
       "      <td>0.846154</td>\n",
       "      <td>1.000000</td>\n",
       "      <td>0.5</td>\n",
       "      <td>0.08</td>\n",
       "      <td>0.5</td>\n",
       "      <td>1.0</td>\n",
       "      <td>1.0</td>\n",
       "      <td>1.0</td>\n",
       "      <td>1.0</td>\n",
       "      <td>0.0</td>\n",
       "    </tr>\n",
       "    <tr>\n",
       "      <td>3</td>\n",
       "      <td>0.625</td>\n",
       "      <td>0.494253</td>\n",
       "      <td>1.0</td>\n",
       "      <td>0.5</td>\n",
       "      <td>0.428571</td>\n",
       "      <td>0.846154</td>\n",
       "      <td>0.333333</td>\n",
       "      <td>0.0</td>\n",
       "      <td>0.16</td>\n",
       "      <td>0.5</td>\n",
       "      <td>0.0</td>\n",
       "      <td>0.0</td>\n",
       "      <td>0.0</td>\n",
       "      <td>0.5</td>\n",
       "      <td>1.0</td>\n",
       "    </tr>\n",
       "    <tr>\n",
       "      <td>4</td>\n",
       "      <td>1.000</td>\n",
       "      <td>0.425287</td>\n",
       "      <td>0.0</td>\n",
       "      <td>0.0</td>\n",
       "      <td>0.666667</td>\n",
       "      <td>0.769231</td>\n",
       "      <td>0.333333</td>\n",
       "      <td>0.5</td>\n",
       "      <td>0.00</td>\n",
       "      <td>0.5</td>\n",
       "      <td>1.0</td>\n",
       "      <td>1.0</td>\n",
       "      <td>1.0</td>\n",
       "      <td>0.5</td>\n",
       "      <td>0.5</td>\n",
       "    </tr>\n",
       "  </tbody>\n",
       "</table>\n",
       "</div>"
      ],
      "text/plain": [
       "   workstat  prestige  divorce  widowed      educ    income    attend  owngun  \\\n",
       "0     0.750  0.540230      0.0      0.5  0.619048  0.769231  0.444444     0.0   \n",
       "1     0.625  0.264368      0.5      0.5  0.619048  0.000000  0.888889     0.0   \n",
       "2     0.625  0.344828      0.5      0.5  0.619048  0.846154  1.000000     0.5   \n",
       "3     0.625  0.494253      1.0      0.5  0.428571  0.846154  0.333333     0.0   \n",
       "4     1.000  0.425287      0.0      0.0  0.666667  0.769231  0.333333     0.5   \n",
       "\n",
       "   tvhours  mothfath16  black  female  blackfemale  regattend  unem10  \n",
       "0     0.12         1.0    1.0     1.0          1.0        0.5     1.0  \n",
       "1     0.16         0.5    1.0     0.0          0.0        0.5     0.5  \n",
       "2     0.08         0.5    1.0     1.0          1.0        1.0     0.0  \n",
       "3     0.16         0.5    0.0     0.0          0.0        0.5     1.0  \n",
       "4     0.00         0.5    1.0     1.0          1.0        0.5     0.5  "
      ]
     },
     "execution_count": 34,
     "metadata": {},
     "output_type": "execute_result"
    }
   ],
   "source": [
    "chi_X = pd.DataFrame(X_1)[X_1.columns[sel_chi.get_support()]]#挑选出的特征组成的因变量\n",
    "chi_X.head()"
   ]
  },
  {
   "cell_type": "markdown",
   "metadata": {},
   "source": [
    "3. PCA降维"
   ]
  },
  {
   "cell_type": "code",
   "execution_count": 35,
   "metadata": {},
   "outputs": [
    {
     "name": "stdout",
     "output_type": "stream",
     "text": [
      "[0.78583795 0.05299293 0.04793598 0.0304466  0.02219459]\n"
     ]
    }
   ],
   "source": [
    "from sklearn.decomposition import PCA\n",
    "\n",
    "pca = PCA(n_components=5,copy = True,whiten=False)#保留所有成分\n",
    "pca.fit(X)\n",
    "print(pca.explained_variance_ratio_)#返回各个成分的方差百分比(贡献率)"
   ]
  },
  {
   "cell_type": "code",
   "execution_count": 36,
   "metadata": {},
   "outputs": [
    {
     "data": {
      "text/plain": [
       "array([[  4.14626811,   1.09381386,  -5.42482614,  -1.78651139,\n",
       "          1.24495074],\n",
       "       [-20.27273637,   9.38580424,  -4.79267484,   1.04472818,\n",
       "         -3.39360602],\n",
       "       [-12.61124236,  -1.05569678,  -5.57888052,   1.19921371,\n",
       "         -3.84617988],\n",
       "       ...,\n",
       "       [-43.10514709,   0.67416136,   6.59199976,   5.84248302,\n",
       "          3.66814431],\n",
       "       [-22.44184741,   2.50200785,   6.41933281,   3.91574174,\n",
       "          1.69584199],\n",
       "       [-11.92053868,   2.40527927,   6.78673866,  -0.05360822,\n",
       "          2.26065032]])"
      ]
     },
     "execution_count": 36,
     "metadata": {},
     "output_type": "execute_result"
    }
   ],
   "source": [
    "pca_X = pca.transform(X)#数据集转换\n",
    "pca_X"
   ]
  },
  {
   "cell_type": "markdown",
   "metadata": {},
   "source": [
    "# 模型选择与评估"
   ]
  },
  {
   "cell_type": "markdown",
   "metadata": {},
   "source": [
    "### （1）RFE特征选择出的因变量\n",
    "1.数据集拆分"
   ]
  },
  {
   "cell_type": "code",
   "execution_count": 12,
   "metadata": {},
   "outputs": [],
   "source": [
    "#拆分数据集\n",
    "from sklearn.model_selection import train_test_split#调用sklearn包中的train_test_split()函数\n",
    "x_train,x_test,y_train,y_test = train_test_split(rfe_X,Y,test_size = 0.3)#拆分，30%为测试集"
   ]
  },
  {
   "cell_type": "markdown",
   "metadata": {},
   "source": [
    "2. 模型建立和评估"
   ]
  },
  {
   "cell_type": "code",
   "execution_count": 13,
   "metadata": {},
   "outputs": [
    {
     "name": "stdout",
     "output_type": "stream",
     "text": [
      "K-近邻建模效果：\n",
      "\n",
      "              precision    recall  f1-score   support\n",
      "\n",
      "           1       0.16      0.10      0.12       614\n",
      "           3       0.58      0.74      0.65      2952\n",
      "           5       0.36      0.24      0.29      1576\n",
      "\n",
      "    accuracy                           0.51      5142\n",
      "   macro avg       0.37      0.36      0.35      5142\n",
      "weighted avg       0.47      0.51      0.48      5142\n",
      "\n",
      "分类正确率：0.5075845974329055\n",
      "[[  62  222   97]\n",
      " [ 455 2175 1106]\n",
      " [  97  555  373]]\n",
      "\n",
      "\n",
      "\n",
      "支持向量机建模效果：\n",
      "\n",
      "              precision    recall  f1-score   support\n",
      "\n",
      "           1       0.00      0.00      0.00       614\n",
      "           3       0.59      0.92      0.72      2952\n",
      "           5       0.46      0.15      0.22      1576\n",
      "\n",
      "    accuracy                           0.57      5142\n",
      "   macro avg       0.35      0.36      0.31      5142\n",
      "weighted avg       0.48      0.57      0.48      5142\n",
      "\n",
      "分类正确率：0.5746791131855309\n",
      "[[   0    2    1]\n",
      " [ 570 2721 1341]\n",
      " [  44  229  234]]\n",
      "\n",
      "\n",
      "\n",
      "决策树建模效果：\n",
      "\n",
      "              precision    recall  f1-score   support\n",
      "\n",
      "           1       0.17      0.19      0.18       614\n",
      "           3       0.59      0.57      0.58      2952\n",
      "           5       0.34      0.34      0.34      1576\n",
      "\n",
      "    accuracy                           0.45      5142\n",
      "   macro avg       0.36      0.37      0.37      5142\n",
      "weighted avg       0.46      0.45      0.46      5142\n",
      "\n",
      "分类正确率：0.4544924154025671\n",
      "[[ 117  392  171]\n",
      " [ 322 1688  873]\n",
      " [ 175  872  532]]\n",
      "\n",
      "\n",
      "\n",
      "随机森林建模效果：\n",
      "\n",
      "              precision    recall  f1-score   support\n",
      "\n",
      "           1       0.35      0.03      0.05       614\n",
      "           3       0.59      0.87      0.71      2952\n",
      "           5       0.47      0.23      0.31      1576\n",
      "\n",
      "    accuracy                           0.57      5142\n",
      "   macro avg       0.47      0.38      0.36      5142\n",
      "weighted avg       0.53      0.57      0.51      5142\n",
      "\n",
      "分类正确率：0.5723453908984831\n",
      "[[  18   24    9]\n",
      " [ 544 2555 1197]\n",
      " [  52  373  370]]\n",
      "\n",
      "\n",
      "\n"
     ]
    },
    {
     "data": {
      "text/html": [
       "<div>\n",
       "<style scoped>\n",
       "    .dataframe tbody tr th:only-of-type {\n",
       "        vertical-align: middle;\n",
       "    }\n",
       "\n",
       "    .dataframe tbody tr th {\n",
       "        vertical-align: top;\n",
       "    }\n",
       "\n",
       "    .dataframe thead th {\n",
       "        text-align: right;\n",
       "    }\n",
       "</style>\n",
       "<table border=\"1\" class=\"dataframe\">\n",
       "  <thead>\n",
       "    <tr style=\"text-align: right;\">\n",
       "      <th></th>\n",
       "      <th>model</th>\n",
       "      <th>accuracy score</th>\n",
       "    </tr>\n",
       "  </thead>\n",
       "  <tbody>\n",
       "    <tr>\n",
       "      <td>0</td>\n",
       "      <td>K-近邻</td>\n",
       "      <td>0.507585</td>\n",
       "    </tr>\n",
       "    <tr>\n",
       "      <td>1</td>\n",
       "      <td>支持向量机</td>\n",
       "      <td>0.574679</td>\n",
       "    </tr>\n",
       "    <tr>\n",
       "      <td>2</td>\n",
       "      <td>决策树</td>\n",
       "      <td>0.454492</td>\n",
       "    </tr>\n",
       "    <tr>\n",
       "      <td>3</td>\n",
       "      <td>随机森林</td>\n",
       "      <td>0.572345</td>\n",
       "    </tr>\n",
       "  </tbody>\n",
       "</table>\n",
       "</div>"
      ],
      "text/plain": [
       "   model  accuracy score\n",
       "0   K-近邻        0.507585\n",
       "1  支持向量机        0.574679\n",
       "2    决策树        0.454492\n",
       "3   随机森林        0.572345"
      ]
     },
     "execution_count": 13,
     "metadata": {},
     "output_type": "execute_result"
    }
   ],
   "source": [
    "from sklearn.neighbors import KNeighborsClassifier#K近邻\n",
    "#from sklearn.linear_model import LogisticRegression\n",
    "#from sklearn.svm import LinearSVC#线性向量机\n",
    "from sklearn.svm import SVC#向量机\n",
    "from sklearn.tree import DecisionTreeClassifier#决策树\n",
    "from sklearn.ensemble import RandomForestClassifier#随机森林\n",
    "from sklearn.metrics import classification_report#调用模型评估函数\n",
    "from sklearn.metrics import confusion_matrix\n",
    "\n",
    "\n",
    "## 建模并评估\n",
    "keys = []\n",
    "scores = []\n",
    "models = {'K-近邻': KNeighborsClassifier(),\n",
    "          '支持向量机': SVC(gamma='auto'),\n",
    "          '决策树': DecisionTreeClassifier(),\n",
    "          '随机森林':RandomForestClassifier()}#将模型函数组成字典\n",
    "\n",
    "for k,v in models.items():#模型循环分别对数据集进行训练和预测\n",
    "    mod = v\n",
    "    mod.fit(x_train, y_train)#模型训练\n",
    "    pred = mod.predict(x_test)#模型预测\n",
    "    print(str(k) + '建模效果：' + '\\n')\n",
    "    print(classification_report(y_test, pred))#模型评估\n",
    "    acc = accuracy_score(y_test, pred)\n",
    "    print('分类正确率：'+ str(acc))\n",
    "    print(confusion_matrix(pred,y_test))#混淆矩阵\n",
    "    print('\\n' + '\\n')\n",
    "    keys.append(k)\n",
    "    scores.append(acc)\n",
    "    table = pd.DataFrame({'model':keys, 'accuracy score':scores})\n",
    "\n",
    "table"
   ]
  },
  {
   "cell_type": "markdown",
   "metadata": {},
   "source": [
    "###  特征重要程度排序"
   ]
  },
  {
   "cell_type": "code",
   "execution_count": 14,
   "metadata": {},
   "outputs": [
    {
     "data": {
      "image/png": "[encoded data removed]",
      "text/plain": [
       "<Figure size 432x288 with 1 Axes>"
      ]
     },
     "metadata": {
      "needs_background": "light"
     },
     "output_type": "display_data"
    }
   ],
   "source": [
    "clf1 =  RandomForestClassifier(n_estimators=20)#随机森林模型调用\n",
    "clf1.fit(x_train,y_train)#利用训练集训练模型\n",
    "y_pred1 = clf1.predict(x_test)#模型预测\n",
    "\n",
    "import numpy as np\n",
    "import matplotlib.pyplot as plt\n",
    "%matplotlib inline\n",
    "\n",
    "feature_importance = clf1.feature_importances_#特征重要程度\n",
    "#feature_importance = 100.0*(feature_importance/feature_importance.max())\n",
    "\n",
    "features_list = x_train.columns.values\n",
    "sorted_idx = np.argsort(feature_importance)#返回的是数组值从小到大的索引值\n",
    "\n",
    "pos = np.arange(sorted_idx.shape[0])+.5#设置间隔\n",
    "\n",
    "plt.barh(range(len(sorted_idx)),feature_importance[sorted_idx],align='center')\n",
    "\n",
    "plt.yticks(pos,features_list[sorted_idx])\n",
    "\n",
    "plt.xlabel('Relative Importance')\n",
    "plt.title('Variable Importance')\n",
    "plt.show()"
   ]
  },
  {
   "cell_type": "code",
   "execution_count": null,
   "metadata": {},
   "outputs": [],
   "source": []
  },
  {
   "cell_type": "markdown",
   "metadata": {},
   "source": [
    "### （2）卡方检验选择出的因变量"
   ]
  },
  {
   "cell_type": "code",
   "execution_count": 40,
   "metadata": {},
   "outputs": [
    {
     "name": "stdout",
     "output_type": "stream",
     "text": [
      "K-近邻建模效果：\n",
      "\n",
      "              precision    recall  f1-score   support\n",
      "\n",
      "           1       0.16      0.10      0.12       650\n",
      "           3       0.58      0.74      0.65      2893\n",
      "           5       0.41      0.26      0.32      1599\n",
      "\n",
      "    accuracy                           0.51      5142\n",
      "   macro avg       0.38      0.37      0.36      5142\n",
      "weighted avg       0.47      0.51      0.48      5142\n",
      "\n",
      "分类正确率：0.5128354725787632\n",
      "[[  63  225   94]\n",
      " [ 501 2154 1085]\n",
      " [  86  514  420]]\n",
      "\n",
      "\n",
      "\n",
      "支持向量机建模效果：\n",
      "\n",
      "              precision    recall  f1-score   support\n",
      "\n",
      "           1       0.00      0.00      0.00       650\n",
      "           3       0.56      1.00      0.72      2893\n",
      "           5       0.00      0.00      0.00      1599\n",
      "\n",
      "    accuracy                           0.56      5142\n",
      "   macro avg       0.19      0.33      0.24      5142\n",
      "weighted avg       0.32      0.56      0.41      5142\n",
      "\n",
      "分类正确率：0.5626215480357838\n",
      "[[   0    0    0]\n",
      " [ 650 2893 1599]\n",
      " [   0    0    0]]\n",
      "\n",
      "\n",
      "\n",
      "决策树建模效果：\n",
      "\n",
      "              precision    recall  f1-score   support\n",
      "\n",
      "           1       0.18      0.18      0.18       650\n",
      "           3       0.58      0.57      0.58      2893\n",
      "           5       0.37      0.37      0.37      1599\n",
      "\n",
      "    accuracy                           0.46      5142\n",
      "   macro avg       0.37      0.38      0.38      5142\n",
      "weighted avg       0.46      0.46      0.46      5142\n",
      "\n",
      "分类正确率：0.4605211979774407\n",
      "[[ 118  393  155]\n",
      " [ 355 1652  846]\n",
      " [ 177  848  598]]\n",
      "\n",
      "\n",
      "\n"
     ]
    },
    {
     "name": "stderr",
     "output_type": "stream",
     "text": [
      "D:\\Users\\xyf\\Anaconda3\\lib\\site-packages\\sklearn\\metrics\\_classification.py:1272: UndefinedMetricWarning: Precision and F-score are ill-defined and being set to 0.0 in labels with no predicted samples. Use `zero_division` parameter to control this behavior.\n",
      "  _warn_prf(average, modifier, msg_start, len(result))\n"
     ]
    },
    {
     "name": "stdout",
     "output_type": "stream",
     "text": [
      "随机森林建模效果：\n",
      "\n",
      "              precision    recall  f1-score   support\n",
      "\n",
      "           1       0.33      0.05      0.09       650\n",
      "           3       0.58      0.83      0.68      2893\n",
      "           5       0.45      0.26      0.33      1599\n",
      "\n",
      "    accuracy                           0.55      5142\n",
      "   macro avg       0.45      0.38      0.37      5142\n",
      "weighted avg       0.51      0.55      0.50      5142\n",
      "\n",
      "分类正确率：0.5548424737456242\n",
      "[[  34   46   24]\n",
      " [ 557 2398 1154]\n",
      " [  59  449  421]]\n",
      "\n",
      "\n",
      "\n"
     ]
    },
    {
     "data": {
      "text/html": [
       "<div>\n",
       "<style scoped>\n",
       "    .dataframe tbody tr th:only-of-type {\n",
       "        vertical-align: middle;\n",
       "    }\n",
       "\n",
       "    .dataframe tbody tr th {\n",
       "        vertical-align: top;\n",
       "    }\n",
       "\n",
       "    .dataframe thead th {\n",
       "        text-align: right;\n",
       "    }\n",
       "</style>\n",
       "<table border=\"1\" class=\"dataframe\">\n",
       "  <thead>\n",
       "    <tr style=\"text-align: right;\">\n",
       "      <th></th>\n",
       "      <th>model</th>\n",
       "      <th>accuracy score</th>\n",
       "    </tr>\n",
       "  </thead>\n",
       "  <tbody>\n",
       "    <tr>\n",
       "      <td>0</td>\n",
       "      <td>K-近邻</td>\n",
       "      <td>0.512835</td>\n",
       "    </tr>\n",
       "    <tr>\n",
       "      <td>1</td>\n",
       "      <td>支持向量机</td>\n",
       "      <td>0.562622</td>\n",
       "    </tr>\n",
       "    <tr>\n",
       "      <td>2</td>\n",
       "      <td>决策树</td>\n",
       "      <td>0.460521</td>\n",
       "    </tr>\n",
       "    <tr>\n",
       "      <td>3</td>\n",
       "      <td>随机森林</td>\n",
       "      <td>0.554842</td>\n",
       "    </tr>\n",
       "  </tbody>\n",
       "</table>\n",
       "</div>"
      ],
      "text/plain": [
       "   model  accuracy score\n",
       "0   K-近邻        0.512835\n",
       "1  支持向量机        0.562622\n",
       "2    决策树        0.460521\n",
       "3   随机森林        0.554842"
      ]
     },
     "execution_count": 40,
     "metadata": {},
     "output_type": "execute_result"
    }
   ],
   "source": [
    "##  拆分数据集\n",
    "from sklearn.model_selection import train_test_split    #调用sklearn包中的train_test_split()函数\n",
    "x_train1,x_test1,y_train1,y_test1 = train_test_split(chi_X,Y,test_size = 0.3)    #拆分，30%为测试集\n",
    "\n",
    "## 模型建立和评估\n",
    "\n",
    "keys1 = []\n",
    "scores1 = []\n",
    "for k,v in models.items():#模型循环分别对数据集进行训练和预测\n",
    "    mod = v\n",
    "    mod.fit(x_train1, y_train1)#模型训练\n",
    "    pred = mod.predict(x_test1)#模型预测\n",
    "    print(str(k) + '建模效果：' + '\\n')\n",
    "    print(classification_report(y_test1, pred))#模型评估\n",
    "    acc = accuracy_score(y_test1, pred)\n",
    "    print('分类正确率：'+ str(acc))\n",
    "    print(confusion_matrix(pred,y_test1))#混淆矩阵\n",
    "    print('\\n' + '\\n')\n",
    "    keys1.append(k)\n",
    "    scores1.append(acc)\n",
    "    table1 = pd.DataFrame({'model':keys1, 'accuracy score':scores1})\n",
    "\n",
    "table1\n"
   ]
  },
  {
   "cell_type": "markdown",
   "metadata": {},
   "source": [
    "### （3）主成分分析（pca)选出的因变量"
   ]
  },
  {
   "cell_type": "code",
   "execution_count": 47,
   "metadata": {},
   "outputs": [
    {
     "name": "stdout",
     "output_type": "stream",
     "text": [
      "K-近邻建模效果：\n",
      "\n",
      "              precision    recall  f1-score   support\n",
      "\n",
      "           1       0.19      0.13      0.15       621\n",
      "           3       0.57      0.74      0.65      2921\n",
      "           5       0.35      0.22      0.27      1600\n",
      "\n",
      "    accuracy                           0.50      5142\n",
      "   macro avg       0.37      0.36      0.36      5142\n",
      "weighted avg       0.46      0.50      0.47      5142\n",
      "\n",
      "分类正确率：0.500777907429016\n",
      "[[  80  232  113]\n",
      " [ 450 2147 1139]\n",
      " [  91  542  348]]\n",
      "\n",
      "\n",
      "\n",
      "支持向量机建模效果：\n",
      "\n",
      "              precision    recall  f1-score   support\n",
      "\n",
      "           1       0.15      0.01      0.01       621\n",
      "           3       0.57      0.89      0.70      2921\n",
      "           5       0.37      0.14      0.20      1600\n",
      "\n",
      "    accuracy                           0.55      5142\n",
      "   macro avg       0.36      0.34      0.30      5142\n",
      "weighted avg       0.46      0.55      0.46      5142\n",
      "\n",
      "分类正确率：0.5470633994554648\n",
      "[[   4   18    4]\n",
      " [ 552 2590 1377]\n",
      " [  65  313  219]]\n",
      "\n",
      "\n",
      "\n",
      "决策树建模效果：\n",
      "\n",
      "              precision    recall  f1-score   support\n",
      "\n",
      "           1       0.16      0.17      0.17       621\n",
      "           3       0.58      0.56      0.57      2921\n",
      "           5       0.34      0.34      0.34      1600\n",
      "\n",
      "    accuracy                           0.45      5142\n",
      "   macro avg       0.36      0.36      0.36      5142\n",
      "weighted avg       0.45      0.45      0.45      5142\n",
      "\n",
      "分类正确率：0.4467133411124076\n",
      "[[ 108  392  180]\n",
      " [ 328 1644  875]\n",
      " [ 185  885  545]]\n",
      "\n",
      "\n",
      "\n",
      "随机森林建模效果：\n",
      "\n",
      "              precision    recall  f1-score   support\n",
      "\n",
      "           1       0.19      0.02      0.04       621\n",
      "           3       0.57      0.83      0.68      2921\n",
      "           5       0.38      0.20      0.26      1600\n",
      "\n",
      "    accuracy                           0.54      5142\n",
      "   macro avg       0.38      0.35      0.33      5142\n",
      "weighted avg       0.47      0.54      0.47      5142\n",
      "\n",
      "分类正确率：0.5369506028782575\n",
      "[[  13   42   13]\n",
      " [ 536 2430 1269]\n",
      " [  72  449  318]]\n",
      "\n",
      "\n",
      "\n"
     ]
    },
    {
     "data": {
      "text/html": [
       "<div>\n",
       "<style scoped>\n",
       "    .dataframe tbody tr th:only-of-type {\n",
       "        vertical-align: middle;\n",
       "    }\n",
       "\n",
       "    .dataframe tbody tr th {\n",
       "        vertical-align: top;\n",
       "    }\n",
       "\n",
       "    .dataframe thead th {\n",
       "        text-align: right;\n",
       "    }\n",
       "</style>\n",
       "<table border=\"1\" class=\"dataframe\">\n",
       "  <thead>\n",
       "    <tr style=\"text-align: right;\">\n",
       "      <th></th>\n",
       "      <th>model</th>\n",
       "      <th>accuracy score</th>\n",
       "    </tr>\n",
       "  </thead>\n",
       "  <tbody>\n",
       "    <tr>\n",
       "      <td>0</td>\n",
       "      <td>K-近邻</td>\n",
       "      <td>0.500778</td>\n",
       "    </tr>\n",
       "    <tr>\n",
       "      <td>1</td>\n",
       "      <td>支持向量机</td>\n",
       "      <td>0.547063</td>\n",
       "    </tr>\n",
       "    <tr>\n",
       "      <td>2</td>\n",
       "      <td>决策树</td>\n",
       "      <td>0.446713</td>\n",
       "    </tr>\n",
       "    <tr>\n",
       "      <td>3</td>\n",
       "      <td>随机森林</td>\n",
       "      <td>0.536951</td>\n",
       "    </tr>\n",
       "  </tbody>\n",
       "</table>\n",
       "</div>"
      ],
      "text/plain": [
       "   model  accuracy score\n",
       "0   K-近邻        0.500778\n",
       "1  支持向量机        0.547063\n",
       "2    决策树        0.446713\n",
       "3   随机森林        0.536951"
      ]
     },
     "execution_count": 47,
     "metadata": {},
     "output_type": "execute_result"
    }
   ],
   "source": [
    "##  拆分数据集\n",
    "\n",
    "from sklearn.model_selection import train_test_split     #调用sklearn包中的train_test_split()函数\n",
    "x_train2,x_test2,y_train2,y_test2 = train_test_split(pca_X,Y,test_size = 0.3)    #拆分，30%为测试集\n",
    "\n",
    "## 模型建立和评估\n",
    "\n",
    "keys2 = []\n",
    "scores2 = []\n",
    "for k,v in models.items():#模型循环分别对数据集进行训练和预测\n",
    "    mod = v\n",
    "    mod.fit(x_train2, y_train2)#模型训练\n",
    "    pred = mod.predict(x_test2)#模型预测\n",
    "    print(str(k) + '建模效果：' + '\\n')\n",
    "    print(classification_report(y_test2, pred))#模型评估\n",
    "    acc = accuracy_score(y_test2, pred)\n",
    "    print('分类正确率：'+ str(acc))\n",
    "    print(confusion_matrix(pred,y_test2))#混淆矩阵\n",
    "    print('\\n' + '\\n')\n",
    "    keys2.append(k)\n",
    "    scores2.append(acc)\n",
    "    table2 = pd.DataFrame({'model':keys2, 'accuracy score':scores2})\n",
    "\n",
    "table2\n"
   ]
  },
  {
   "cell_type": "markdown",
   "metadata": {},
   "source": [
    "## 结论：选择RFE进行特征选择，利用随机森林模型进行评估预测"
   ]
  }
 ],
 "metadata": {
  "kernelspec": {
   "display_name": "Python 3",
   "language": "python",
   "name": "python3"
  },
  "language_info": {
   "codemirror_mode": {
    "name": "ipython",
    "version": 3
   },
   "file_extension": ".py",
   "mimetype": "text/x-python",
   "name": "python",
   "nbconvert_exporter": "python",
   "pygments_lexer": "ipython3",
   "version": "3.7.4"
  }
 },
 "nbformat": 4,
 "nbformat_minor": 2
}
