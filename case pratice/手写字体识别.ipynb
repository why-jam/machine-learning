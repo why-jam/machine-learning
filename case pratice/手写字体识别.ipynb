{
 "cells": [
  {
   "cell_type": "code",
   "execution_count": 1,
   "metadata": {},
   "outputs": [],
   "source": [
    "import matplotlib.pyplot as plt\n",
    "import numpy as np\n",
    "import scipy.io as scio"
   ]
  },
  {
   "cell_type": "code",
   "execution_count": 2,
   "metadata": {},
   "outputs": [],
   "source": [
    "input_layer_size = 400 #20*20\n",
    "num_labels = 10"
   ]
  },
  {
   "cell_type": "code",
   "execution_count": 3,
   "metadata": {},
   "outputs": [
    {
     "name": "stdout",
     "output_type": "stream",
     "text": [
      "(256, 200, 10)\n"
     ]
    },
    {
     "data": {
      "text/plain": [
       "(256, 500, 10)"
      ]
     },
     "execution_count": 3,
     "metadata": {},
     "output_type": "execute_result"
    }
   ],
   "source": [
    "data = scio.loadmat('digit.mat')\n",
    "X = data['X']\n",
    "T = data['T']\n",
    "[d,m,c] = T.shape\n",
    "print(T.shape)\n",
    "X.shape"
   ]
  },
  {
   "cell_type": "code",
   "execution_count": 4,
   "metadata": {},
   "outputs": [],
   "source": [
    "S = np.zeros((256,256))\n",
    "mu = np.zeros((256,c))\n",
    "for i in range(0,c):\n",
    "    mu[:,i] = np.mean(X[:,:,i],1)\n",
    "    S+=np.cov(X[:,:,i])/c           #S的维度（256，256）\n",
    "h = np.dot(np.linalg.inv(S),mu)#256*256"
   ]
  },
  {
   "cell_type": "code",
   "execution_count": 5,
   "metadata": {},
   "outputs": [],
   "source": [
    "p = np.zeros((10,200,10))\n",
    "for k in range(0,c):\n",
    "    p[:,:,k]=np.dot(h.T,T[:,:,k])-np.tile(sum(np.multiply(mu,h)).reshape(10,1),(1,m))/2\n",
    "    \n",
    "pmax = p."
   ]
  },
  {
   "cell_type": "code",
   "execution_count": 13,
   "metadata": {},
   "outputs": [
    {
     "data": {
      "text/plain": [
       "array([[14650.78811057],\n",
       "       [14497.60815899],\n",
       "       [14564.08425477],\n",
       "       [14618.45163045],\n",
       "       [14532.94585854],\n",
       "       [14596.79837146],\n",
       "       [14631.49081298],\n",
       "       [14549.92753369],\n",
       "       [14625.78610853],\n",
       "       [14554.00011276]])"
      ]
     },
     "execution_count": 13,
     "metadata": {},
     "output_type": "execute_result"
    }
   ],
   "source": [
    "(sum(np.multiply(mu,h))).reshape(10,1)"
   ]
  },
  {
   "cell_type": "code",
   "execution_count": 22,
   "metadata": {},
   "outputs": [
    {
     "name": "stdout",
     "output_type": "stream",
     "text": [
      "[10, 200, 10]\n"
     ]
    }
   ],
   "source": [
    "[index,col,spe] = p.shape\n",
    "print([index,col,spe])"
   ]
  },
  {
   "cell_type": "code",
   "execution_count": null,
   "metadata": {},
   "outputs": [],
   "source": [
    "for s in range(spe):\n",
    "    for i in range(index):\n",
    "        "
   ]
  },
  {
   "cell_type": "code",
   "execution_count": 24,
   "metadata": {},
   "outputs": [
    {
     "data": {
      "text/plain": [
       "array([0, 1, 2, 3, 4, 5, 6, 7, 8, 9])"
      ]
     },
     "execution_count": 24,
     "metadata": {},
     "output_type": "execute_result"
    }
   ],
   "source": [
    "A = np.arange(10)\n",
    "A"
   ]
  },
  {
   "cell_type": "code",
   "execution_count": 26,
   "metadata": {},
   "outputs": [
    {
     "name": "stdout",
     "output_type": "stream",
     "text": [
      "9 9\n"
     ]
    }
   ],
   "source": [
    "k = 0\n",
    "mmax = A[0]\n",
    "def mmax(array)\n",
    "for i in range(len(array)):\n",
    "    if array[i]>mmax:\n",
    "        mmax = array[i]\n",
    "        k=i\n",
    "print(mmax,k)"
   ]
  },
  {
   "cell_type": "code",
   "execution_count": 27,
   "metadata": {},
   "outputs": [],
   "source": [
    "P = p.argmax(axis=0)"
   ]
  },
  {
   "cell_type": "code",
   "execution_count": 28,
   "metadata": {},
   "outputs": [
    {
     "data": {
      "text/plain": [
       "array([[0, 1, 2, ..., 7, 8, 9],\n",
       "       [0, 1, 2, ..., 7, 8, 9],\n",
       "       [0, 1, 2, ..., 7, 8, 9],\n",
       "       ...,\n",
       "       [0, 7, 2, ..., 7, 8, 9],\n",
       "       [0, 1, 2, ..., 3, 8, 9],\n",
       "       [0, 1, 2, ..., 7, 8, 9]], dtype=int64)"
      ]
     },
     "execution_count": 28,
     "metadata": {},
     "output_type": "execute_result"
    }
   ],
   "source": [
    "P"
   ]
  },
  {
   "cell_type": "code",
   "execution_count": 29,
   "metadata": {},
   "outputs": [
    {
     "data": {
      "text/plain": [
       "(10, 200, 10)"
      ]
     },
     "execution_count": 29,
     "metadata": {},
     "output_type": "execute_result"
    }
   ],
   "source": [
    "p.shape"
   ]
  },
  {
   "cell_type": "code",
   "execution_count": null,
   "metadata": {},
   "outputs": [],
   "source": []
  }
 ],
 "metadata": {
  "kernelspec": {
   "display_name": "Python 3",
   "language": "python",
   "name": "python3"
  },
  "language_info": {
   "codemirror_mode": {
    "name": "ipython",
    "version": 3
   },
   "file_extension": ".py",
   "mimetype": "text/x-python",
   "name": "python",
   "nbconvert_exporter": "python",
   "pygments_lexer": "ipython3",
   "version": "3.8.6"
  }
 },
 "nbformat": 4,
 "nbformat_minor": 4
}
