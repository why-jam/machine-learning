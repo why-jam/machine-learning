{
 "cells": [
  {
   "cell_type": "code",
   "execution_count": 1,
   "metadata": {},
   "outputs": [
    {
     "name": "stdout",
     "output_type": "stream",
     "text": [
      "    age     sex     bmi  children smoker     region      charges\n",
      "0    19  female  27.900         0    yes  southwest  16884.92400\n",
      "1    18    male  33.770         1     no  southeast   1725.55230\n",
      "2    28    male  33.000         3     no  southeast   4449.46200\n",
      "3    33    male  22.705         0     no  northwest  21984.47061\n",
      "4    32    male  28.880         0     no  northwest   3866.85520\n",
      "5    31  female  25.740         0     no  southeast   3756.62160\n",
      "6    46  female  33.440         1     no  southeast   8240.58960\n",
      "7    37  female  27.740         3     no  northwest   7281.50560\n",
      "8    37    male  29.830         2     no  northeast   6406.41070\n",
      "9    60  female  25.840         0     no  northwest  28923.13692\n",
      "10   25    male  26.220         0     no  northeast   2721.32080\n",
      "11   62  female  26.290         0    yes  southeast  27808.72510\n",
      "12   23    male  34.400         0     no  southwest   1826.84300\n",
      "13   56  female  39.820         0     no  southeast  11090.71780\n",
      "14   27    male  42.130         0    yes  southeast  39611.75770\n",
      "15   19    male  24.600         1     no  southwest   1837.23700\n",
      "16   52  female  30.780         1     no  northeast  10797.33620\n",
      "17   23    male  23.845         0     no  northeast   2395.17155\n",
      "18   56    male  40.300         0     no  southwest  10602.38500\n",
      "19   30    male  35.300         0    yes  southwest  36837.46700\n"
     ]
    }
   ],
   "source": [
    "import pandas as pd \n",
    "insurance = pd.read_csv('insurance.csv')#从CSV文件导入数据\n",
    "print(insurance.head(20))#打印出数据的前20行，对数据进行观察"
   ]
  },
  {
   "cell_type": "code",
   "execution_count": 3,
   "metadata": {},
   "outputs": [
    {
     "data": {
      "text/plain": [
       "age           int64\n",
       "sex          object\n",
       "bmi         float64\n",
       "children      int64\n",
       "smoker       object\n",
       "region       object\n",
       "charges     float64\n",
       "dtype: object"
      ]
     },
     "execution_count": 3,
     "metadata": {},
     "output_type": "execute_result"
    }
   ],
   "source": [
    "#显示数据的属性和类型，以便之后的操作\n",
    "insurance.dtypes"
   ]
  },
  {
   "cell_type": "code",
   "execution_count": 55,
   "metadata": {},
   "outputs": [
    {
     "name": "stdout",
     "output_type": "stream",
     "text": [
      "   age  sex     bmi  children  smoker  region      charges\n",
      "0   19    0  27.900         0       1       3  16884.92400\n",
      "1   18    1  33.770         1       0       2   1725.55230\n",
      "2   28    1  33.000         3       0       2   4449.46200\n",
      "3   33    1  22.705         0       0       1  21984.47061\n",
      "4   32    1  28.880         0       0       1   3866.85520\n",
      "5   31    0  25.740         0       0       2   3756.62160\n",
      "6   46    0  33.440         1       0       2   8240.58960\n",
      "7   37    0  27.740         3       0       1   7281.50560\n",
      "8   37    1  29.830         2       0       0   6406.41070\n",
      "9   60    0  25.840         0       0       1  28923.13692\n"
     ]
    }
   ],
   "source": [
    "#先将非数值数据转化为数值数据，以便之后的统计\n",
    "df = insurance.copy()\n",
    "from sklearn.preprocessing import LabelEncoder\n",
    "#将性别的 非数值数据转化为数值型数据：Female为0，Male为1\n",
    "sex_le = LabelEncoder()\n",
    "df['sex'] = sex_le.fit_transform(df['sex'].values)\n",
    "#将smoker非数值型数据转化为数值型数据：no为0,yes为1\n",
    "smoker_le = LabelEncoder()\n",
    "df['smoker'] = smoker_le.fit_transform(df['smoker'].values)\n",
    "#将region非数值型数据转化为数值型数据：southwest为3,southeast为2,northwest为1，northeast为0\n",
    "region_le = LabelEncoder()\n",
    "df['region'] = region_le.fit_transform(df['region'].values)\n",
    "print(df.head(10))"
   ]
  },
  {
   "cell_type": "code",
   "execution_count": 56,
   "metadata": {},
   "outputs": [
    {
     "name": "stdout",
     "output_type": "stream",
     "text": [
      "age         0\n",
      "sex         0\n",
      "bmi         0\n",
      "children    0\n",
      "smoker      0\n",
      "region      0\n",
      "charges     0\n",
      "dtype: int64\n"
     ]
    }
   ],
   "source": [
    "#统计非空的数目\n",
    "print(df.isnull().sum())"
   ]
  },
  {
   "cell_type": "code",
   "execution_count": 16,
   "metadata": {},
   "outputs": [
    {
     "name": "stdout",
     "output_type": "stream",
     "text": [
      "数据的平均值：\n",
      "age            39.207025\n",
      "sex             0.505232\n",
      "bmi            30.663397\n",
      "children        1.094918\n",
      "smoker          0.204783\n",
      "region          1.515695\n",
      "charges     13270.422265\n",
      "dtype: float64\n",
      "数据的最大值：\n",
      "age            64.00000\n",
      "sex             1.00000\n",
      "bmi            53.13000\n",
      "children        5.00000\n",
      "smoker          1.00000\n",
      "region          3.00000\n",
      "charges     63770.42801\n",
      "dtype: float64\n",
      "数据的最小值：\n",
      "age           18.0000\n",
      "sex            0.0000\n",
      "bmi           15.9600\n",
      "children       0.0000\n",
      "smoker         0.0000\n",
      "region         0.0000\n",
      "charges     1121.8739\n",
      "dtype: float64\n"
     ]
    }
   ],
   "source": [
    "#观察数据的基本统计特征\n",
    "print('数据的平均值：')\n",
    "print(df.mean())\n",
    "print('数据的最大值：')\n",
    "print(df.max())\n",
    "print('数据的最小值：')\n",
    "print(df.min())"
   ]
  },
  {
   "cell_type": "code",
   "execution_count": 51,
   "metadata": {},
   "outputs": [
    {
     "data": {
      "text/plain": [
       "<matplotlib.legend.Legend at 0x15c10cbf4c8>"
      ]
     },
     "execution_count": 51,
     "metadata": {},
     "output_type": "execute_result"
    },
    {
     "data": {
      "image/png": "[encoded data removed]",
      "text/plain": [
       "<Figure size 216x360 with 1 Axes>"
      ]
     },
     "metadata": {},
     "output_type": "display_data"
    }
   ],
   "source": [
    "#画图以更加直观的观察数据的各项分布特征\n",
    "#sex\n",
    "male =sum(df['sex'])#male的总数\n",
    "female = 0\n",
    "for i in df['sex']:\n",
    "    if (i == 0):\n",
    "        female = female + 1#female的总数\n",
    "plt.figure(figsize=(3,5))\n",
    "labels=[u'male',u'female']\n",
    "data0 = [male,female]\n",
    "explode=(0,0.15,0)\n",
    "pie,text1,text2=plt.pie(data0,\n",
    "                        explode=(0,0.10),\n",
    "                        labels=labels,\n",
    "                        autopct='%3.2f%%',\n",
    "                        shadow=True,\n",
    "                        startangle=90,\n",
    "                        radius=1.1,\n",
    "                        pctdistance=0.5,\n",
    "                        textprops={'fontsize':10,'color':'black'})#饼图\n",
    "plt.legend(labels=labels,\n",
    "           loc='best',\n",
    "           bbox_to_anchor=(1,1),\n",
    "           fontsize=10)"
   ]
  },
  {
   "cell_type": "code",
   "execution_count": 53,
   "metadata": {},
   "outputs": [
    {
     "data": {
      "image/png": "[encoded data removed]",
      "text/plain": [
       "<Figure size 432x288 with 1 Axes>"
      ]
     },
     "metadata": {
      "needs_background": "light"
     },
     "output_type": "display_data"
    }
   ],
   "source": [
    "#region\n",
    "def count(n):\n",
    "    m = 0\n",
    "    for i in df['region']:\n",
    "        if (i == n):\n",
    "            m = m + 1\n",
    "    return m\n",
    "data1 = [count(0),count(1),count(2),count(3)]\n",
    "labels = ['northeast', 'northwest', 'southeast', 'southwest']\n",
    "plt.bar(range(len(data1)),data1,tick_label=labels)\n",
    "plt.show()"
   ]
  },
  {
   "cell_type": "markdown",
   "metadata": {},
   "source": [
    "# 构建线性回归模型 "
   ]
  },
  {
   "cell_type": "markdown",
   "metadata": {},
   "source": [
    "## 划分数据集为训练集和测试集"
   ]
  },
  {
   "cell_type": "code",
   "execution_count": 57,
   "metadata": {},
   "outputs": [
    {
     "data": {
      "text/html": [
       "<div>\n",
       "<style scoped>\n",
       "    .dataframe tbody tr th:only-of-type {\n",
       "        vertical-align: middle;\n",
       "    }\n",
       "\n",
       "    .dataframe tbody tr th {\n",
       "        vertical-align: top;\n",
       "    }\n",
       "\n",
       "    .dataframe thead th {\n",
       "        text-align: right;\n",
       "    }\n",
       "</style>\n",
       "<table border=\"1\" class=\"dataframe\">\n",
       "  <thead>\n",
       "    <tr style=\"text-align: right;\">\n",
       "      <th></th>\n",
       "      <th>age</th>\n",
       "      <th>sex</th>\n",
       "      <th>bmi</th>\n",
       "      <th>children</th>\n",
       "      <th>smoker</th>\n",
       "      <th>region</th>\n",
       "      <th>charges</th>\n",
       "    </tr>\n",
       "  </thead>\n",
       "  <tbody>\n",
       "    <tr>\n",
       "      <td>0</td>\n",
       "      <td>19</td>\n",
       "      <td>0</td>\n",
       "      <td>27.900</td>\n",
       "      <td>0</td>\n",
       "      <td>1</td>\n",
       "      <td>3</td>\n",
       "      <td>16884.92400</td>\n",
       "    </tr>\n",
       "    <tr>\n",
       "      <td>1</td>\n",
       "      <td>18</td>\n",
       "      <td>1</td>\n",
       "      <td>33.770</td>\n",
       "      <td>1</td>\n",
       "      <td>0</td>\n",
       "      <td>2</td>\n",
       "      <td>1725.55230</td>\n",
       "    </tr>\n",
       "    <tr>\n",
       "      <td>2</td>\n",
       "      <td>28</td>\n",
       "      <td>1</td>\n",
       "      <td>33.000</td>\n",
       "      <td>3</td>\n",
       "      <td>0</td>\n",
       "      <td>2</td>\n",
       "      <td>4449.46200</td>\n",
       "    </tr>\n",
       "    <tr>\n",
       "      <td>3</td>\n",
       "      <td>33</td>\n",
       "      <td>1</td>\n",
       "      <td>22.705</td>\n",
       "      <td>0</td>\n",
       "      <td>0</td>\n",
       "      <td>1</td>\n",
       "      <td>21984.47061</td>\n",
       "    </tr>\n",
       "    <tr>\n",
       "      <td>4</td>\n",
       "      <td>32</td>\n",
       "      <td>1</td>\n",
       "      <td>28.880</td>\n",
       "      <td>0</td>\n",
       "      <td>0</td>\n",
       "      <td>1</td>\n",
       "      <td>3866.85520</td>\n",
       "    </tr>\n",
       "    <tr>\n",
       "      <td>5</td>\n",
       "      <td>31</td>\n",
       "      <td>0</td>\n",
       "      <td>25.740</td>\n",
       "      <td>0</td>\n",
       "      <td>0</td>\n",
       "      <td>2</td>\n",
       "      <td>3756.62160</td>\n",
       "    </tr>\n",
       "    <tr>\n",
       "      <td>6</td>\n",
       "      <td>46</td>\n",
       "      <td>0</td>\n",
       "      <td>33.440</td>\n",
       "      <td>1</td>\n",
       "      <td>0</td>\n",
       "      <td>2</td>\n",
       "      <td>8240.58960</td>\n",
       "    </tr>\n",
       "    <tr>\n",
       "      <td>7</td>\n",
       "      <td>37</td>\n",
       "      <td>0</td>\n",
       "      <td>27.740</td>\n",
       "      <td>3</td>\n",
       "      <td>0</td>\n",
       "      <td>1</td>\n",
       "      <td>7281.50560</td>\n",
       "    </tr>\n",
       "    <tr>\n",
       "      <td>8</td>\n",
       "      <td>37</td>\n",
       "      <td>1</td>\n",
       "      <td>29.830</td>\n",
       "      <td>2</td>\n",
       "      <td>0</td>\n",
       "      <td>0</td>\n",
       "      <td>6406.41070</td>\n",
       "    </tr>\n",
       "    <tr>\n",
       "      <td>9</td>\n",
       "      <td>60</td>\n",
       "      <td>0</td>\n",
       "      <td>25.840</td>\n",
       "      <td>0</td>\n",
       "      <td>0</td>\n",
       "      <td>1</td>\n",
       "      <td>28923.13692</td>\n",
       "    </tr>\n",
       "  </tbody>\n",
       "</table>\n",
       "</div>"
      ],
      "text/plain": [
       "   age  sex     bmi  children  smoker  region      charges\n",
       "0   19    0  27.900         0       1       3  16884.92400\n",
       "1   18    1  33.770         1       0       2   1725.55230\n",
       "2   28    1  33.000         3       0       2   4449.46200\n",
       "3   33    1  22.705         0       0       1  21984.47061\n",
       "4   32    1  28.880         0       0       1   3866.85520\n",
       "5   31    0  25.740         0       0       2   3756.62160\n",
       "6   46    0  33.440         1       0       2   8240.58960\n",
       "7   37    0  27.740         3       0       1   7281.50560\n",
       "8   37    1  29.830         2       0       0   6406.41070\n",
       "9   60    0  25.840         0       0       1  28923.13692"
      ]
     },
     "execution_count": 57,
     "metadata": {},
     "output_type": "execute_result"
    }
   ],
   "source": [
    "df.head(10)"
   ]
  },
  {
   "cell_type": "code",
   "execution_count": 128,
   "metadata": {},
   "outputs": [],
   "source": [
    "x = df.drop(['charges','region','children'],axis = 1)\n",
    "y = df['charges']"
   ]
  },
  {
   "cell_type": "code",
   "execution_count": 129,
   "metadata": {},
   "outputs": [
    {
     "name": "stdout",
     "output_type": "stream",
     "text": [
      "1070 268\n"
     ]
    }
   ],
   "source": [
    "from sklearn.model_selection import train_test_split\n",
    "X_train, X_test, Y_train,Y_test = train_test_split(x, y, test_size=0.2, random_state=125)\n",
    "print(len(X_train),len(X_test))"
   ]
  },
  {
   "cell_type": "code",
   "execution_count": 136,
   "metadata": {},
   "outputs": [
    {
     "data": {
      "text/plain": [
       "age         266.392290\n",
       "sex        -240.113243\n",
       "bmi         310.972779\n",
       "smoker    23692.496062\n",
       "dtype: float64"
      ]
     },
     "execution_count": 136,
     "metadata": {},
     "output_type": "execute_result"
    }
   ],
   "source": [
    "#构建模型\n",
    "from sklearn.linear_model import LinearRegression\n",
    "from sklearn import metrics\n",
    "LR = LinearRegression()\n",
    "\n",
    "LR.fit(X_train,Y_train)#测试模型\n",
    "#查看模型\n",
    "pd.Series(data = LR.coef_,index = x.columns)#coef_为相关系数（w1,w2……,wn）"
   ]
  },
  {
   "cell_type": "code",
   "execution_count": 137,
   "metadata": {},
   "outputs": [
    {
     "name": "stdout",
     "output_type": "stream",
     "text": [
      "训练集R^2:  0.765946564118609\n",
      "测试集R^2:  0.7429747472864221\n"
     ]
    }
   ],
   "source": [
    "pred_y_test = LR.predict(X_test)#训练集模型预测\n",
    "\n",
    "pred_y_train = LR.predict(X_train)#测试集模型预测\n",
    "\n",
    "print(\"训练集R^2: \", metrics.explained_variance_score(Y_test,pred_y_test))\n",
    "print(\"测试集R^2: \" ,metrics.explained_variance_score(Y_train,pred_y_train))"
   ]
  },
  {
   "cell_type": "code",
   "execution_count": null,
   "metadata": {},
   "outputs": [],
   "source": []
  }
 ],
 "metadata": {
  "kernelspec": {
   "display_name": "Python 3",
   "language": "python",
   "name": "python3"
  },
  "language_info": {
   "codemirror_mode": {
    "name": "ipython",
    "version": 3
   },
   "file_extension": ".py",
   "mimetype": "text/x-python",
   "name": "python",
   "nbconvert_exporter": "python",
   "pygments_lexer": "ipython3",
   "version": "3.7.4"
  }
 },
 "nbformat": 4,
 "nbformat_minor": 2
}
