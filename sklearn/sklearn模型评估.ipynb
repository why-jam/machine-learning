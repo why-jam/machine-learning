{
 "cells": [
  {
   "cell_type": "markdown",
   "metadata": {},
   "source": [
    "# 三种不同的方法评估模型的预测质量\n",
    "\n",
    "\n",
    "1. estimator(评估量)的score方法,提供了一个缺省的评估方法\n",
    "\n",
    "2. scoring参数\n",
    "\n",
    "3. metrics函数,metrics模块中的函数,评估预测误差"
   ]
  },
  {
   "cell_type": "markdown",
   "metadata": {},
   "source": [
    "# 分类metrics\n",
    "\n",
    "    实现loss,score以及一些工具函数来计算分类性能,允许每个sample提供一个对整体score来说带权重的分布,通过sample_weight\n",
    " \n",
    "+ 二分类(binary classification)使用的cass:\n",
    "    + matthews_corrcoef(y_true,y_pred)\n",
    "    +  precision_recall_curve(y_true,y_pred)\n",
    "    + roc_curve(y_true,y_score[,pos_label,...])\n",
    "---\n",
    "+ 多分类(multiclass)\n",
    "    + confusion_matrix(y_true,y_pred[,labels])   #混淆矩阵\n",
    "    + hinge_loss(y_true,pred_decision[,labels,...])\n",
    "---  \n",
    "+ 多标签(multilabel)\n",
    "    + accuracy_score(y_true,y_pred[,normalize,...])\n",
    "    + classification_report(y_true,y_pred[,...])\n",
    "    + f1_score(y_true,y_pred[,labels,...])\n",
    "    + fbeta_score(y_true,y_pred)\n",
    "    + jaccard_similarity_score(y_true,y_pred)\n",
    "    + log_loss(y_true,y_pred[,eps,normalize,...])\n",
    "    + precision_recall_fscore_support(y_true,y_pred)#为每个类计算precision,recall,F-measure和support\n",
    "    + precision_score(y_true,y_pred)   #精确率\n",
    "    + recall_score(y_true,y_pred)     #召回率\n",
    "    + zero_one_loss(y_true,y_pred)\n",
    "---   \n",
    "+ 同时用于二标签和多标签\n",
    "    + average_precision_score(y_true,y_pred)\n",
    "    + roc_auc_score(y_true,y_pred)"
   ]
  },
  {
   "cell_type": "markdown",
   "metadata": {},
   "source": [
    "- 多分类数据提供metrics,和二分类类似,是一个label数组,多标签数据返回一个索引矩阵,当样本i具有label j时,元素[i,j]=1,否则为0"
   ]
  },
  {
   "cell_type": "code",
   "execution_count": 1,
   "metadata": {},
   "outputs": [
    {
     "data": {
      "text/plain": [
       "0.5"
      ]
     },
     "execution_count": 1,
     "metadata": {},
     "output_type": "execute_result"
    }
   ],
   "source": [
    "# accuracy_score,准确率\n",
    "\n",
    "import numpy as np\n",
    "from sklearn.metrics import accuracy_score\n",
    "y_pred = [0,2,1,3]\n",
    "y_true = [0,1,2,3]\n",
    "\n",
    "accuracy_score(y_true,y_pred)"
   ]
  },
  {
   "cell_type": "code",
   "execution_count": 2,
   "metadata": {},
   "outputs": [
    {
     "data": {
      "text/plain": [
       "2"
      ]
     },
     "execution_count": 2,
     "metadata": {},
     "output_type": "execute_result"
    }
   ],
   "source": [
    "# 正确预测的fraction(default),错误预测count(normalize)\n",
    "\n",
    "accuracy_score(y_true,y_pred,normalize=False)"
   ]
  },
  {
   "cell_type": "code",
   "execution_count": 3,
   "metadata": {},
   "outputs": [
    {
     "data": {
      "text/plain": [
       "array([[2, 0, 0],\n",
       "       [0, 0, 1],\n",
       "       [1, 0, 2]], dtype=int64)"
      ]
     },
     "execution_count": 3,
     "metadata": {},
     "output_type": "execute_result"
    }
   ],
   "source": [
    "# confusion_matrix  混淆矩阵\n",
    "from sklearn.metrics import confusion_matrix\n",
    "y_true=[2,0,2,2,0,1]\n",
    "y_pred=[0,0,2,2,0,2]\n",
    "confusion_matrix(y_true,y_pred)"
   ]
  },
  {
   "cell_type": "code",
   "execution_count": 4,
   "metadata": {},
   "outputs": [
    {
     "name": "stdout",
     "output_type": "stream",
     "text": [
      "              precision    recall  f1-score   support\n",
      "\n",
      "     class 0       0.67      1.00      0.80         2\n",
      "     class 1       0.00      0.00      0.00         1\n",
      "     class 2       1.00      1.00      1.00         2\n",
      "\n",
      "    accuracy                           0.80         5\n",
      "   macro avg       0.56      0.67      0.60         5\n",
      "weighted avg       0.67      0.80      0.72         5\n",
      "\n"
     ]
    },
    {
     "name": "stderr",
     "output_type": "stream",
     "text": [
      "D:\\Users\\xyf\\Anaconda3\\lib\\site-packages\\sklearn\\metrics\\classification.py:1437: UndefinedMetricWarning: Precision and F-score are ill-defined and being set to 0.0 in labels with no predicted samples.\n",
      "  'precision', 'predicted', average, warn_for)\n"
     ]
    }
   ],
   "source": [
    "# classification_report  分类报告 构建一个文本报告,展示主要的分类metrics\n",
    "\n",
    "from sklearn.metrics import classification_report\n",
    "\n",
    "y_true = [0,1,2,2,0]\n",
    "y_pred = [0,0,2,2,0]\n",
    "\n",
    "target_names = ['class 0','class 1','class 2']\n",
    "\n",
    "print(classification_report(y_true,y_pred,target_names=target_names))"
   ]
  },
  {
   "cell_type": "code",
   "execution_count": 6,
   "metadata": {},
   "outputs": [
    {
     "data": {
      "text/plain": [
       "0.25"
      ]
     },
     "execution_count": 6,
     "metadata": {},
     "output_type": "execute_result"
    }
   ],
   "source": [
    "# hamming loss 平均汉明距离\n",
    "\n",
    "from sklearn.metrics import hamming_loss\n",
    "\n",
    "y_pred = [1,2,3,4]\n",
    "y_true = [2,2,3,4]\n",
    "\n",
    "hamming_loss(y_true,y_pred)#两个样本间"
   ]
  },
  {
   "cell_type": "code",
   "execution_count": 7,
   "metadata": {},
   "outputs": [
    {
     "data": {
      "text/plain": [
       "0.75"
      ]
     },
     "execution_count": 7,
     "metadata": {},
     "output_type": "execute_result"
    }
   ],
   "source": [
    "hamming_loss(np.array([[0,1],[1,1]]),np.zeros((2,2)))"
   ]
  },
  {
   "cell_type": "code",
   "execution_count": null,
   "metadata": {},
   "outputs": [],
   "source": [
    "from sklearn.metrics import jaccard_similarity_score    # jaccard相似度系数score\n",
    "jaccard_similarity_score(y_true,y_pred)\n",
    "jaccard_similarity_score(y_true,y_pred,normalize=False)\n",
    "\n"
   ]
  }
 ],
 "metadata": {
  "kernelspec": {
   "display_name": "Python 3",
   "language": "python",
   "name": "python3"
  },
  "language_info": {
   "codemirror_mode": {
    "name": "ipython",
    "version": 3
   },
   "file_extension": ".py",
   "mimetype": "text/x-python",
   "name": "python",
   "nbconvert_exporter": "python",
   "pygments_lexer": "ipython3",
   "version": "3.7.4"
  }
 },
 "nbformat": 4,
 "nbformat_minor": 2
}
