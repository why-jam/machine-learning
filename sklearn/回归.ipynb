{
 "cells": [
  {
   "cell_type": "markdown",
   "metadata": {},
   "source": [
    "# 线性回归"
   ]
  },
  {
   "cell_type": "markdown",
   "metadata": {},
   "source": [
    "## 最小二乘线性回归"
   ]
  },
  {
   "cell_type": "code",
   "execution_count": null,
   "metadata": {},
   "outputs": [],
   "source": [
    "LinearRegression(fit_intercept=True,   #是否计算此模型的截距\n",
    "                 normalize=False,      #fit_intercept设置为False 时，将忽略此参数。如果normalize为True，则将在回归之前通过减去均值并除以l2-范数来对回归变量X进行归一化\n",
    "                 copy_X=True, \n",
    "                 n_jobs=None)          #计算的作业数"
   ]
  },
  {
   "cell_type": "code",
   "execution_count": 2,
   "metadata": {},
   "outputs": [
    {
     "name": "stdout",
     "output_type": "stream",
     "text": [
      "1.0\n",
      "[1. 2.]\n",
      "3.0000000000000018\n",
      "[16.]\n"
     ]
    }
   ],
   "source": [
    "import numpy as np\n",
    "from sklearn.linear_model import LinearRegression\n",
    "\n",
    "X = np.array([[1, 1], [1, 2], [2, 2], [2, 3]])\n",
    "# y = 1 * x_0 + 2 * x_1 + 3\n",
    "\n",
    "y = np.dot(X, np.array([1, 2])) + 3\n",
    "\n",
    "reg = LinearRegression().fit(X, y)\n",
    "\n",
    "print(reg.score(X, y))\n",
    "\n",
    "print(reg.coef_)\n",
    "\n",
    "print(reg.intercept_)\n",
    "\n",
    "print(reg.predict(np.array([[3, 5]])))"
   ]
  },
  {
   "cell_type": "code",
   "execution_count": null,
   "metadata": {},
   "outputs": [],
   "source": [
    "coef_                          # 属性。线性回归问题的估计系数\n",
    " \n",
    "rank_                          # 属性。矩阵的等级X\n",
    "\n",
    "intercept_                     # 属性。截距\n",
    "\n",
    "fit(X, y[, sample_weight])     # 拟合x,y\n",
    "\n",
    "predict(X)                     # 使用线性模型进行预测\n",
    "\n",
    "score(X, y[, sample_weight])   # 返回决定系数R^2  ,1的话就是完美拟合"
   ]
  },
  {
   "cell_type": "markdown",
   "metadata": {},
   "source": [
    "## 岭回归"
   ]
  },
  {
   "cell_type": "markdown",
   "metadata": {},
   "source": [
    "$||y - Xw||^2_2 + \\alpha * ||w||^2_2$"
   ]
  },
  {
   "cell_type": "code",
   "execution_count": null,
   "metadata": {},
   "outputs": [],
   "source": [
    "Ridge(alpha=1.0, \n",
    "      fit_intercept=True,     # 是否计算截距\n",
    "      normalize=False, \n",
    "      copy_X=True, \n",
    "      max_iter=None,          # 偶联梯度解算器的最大迭代次数\n",
    "      tol=0.001,               # 精度\n",
    "      solver='auto',           # 解析算法{‘auto’,‘svd’, ‘cholesky’, ‘lsqr’, ‘sparse_cg’, ‘sag’, ‘saga’}\n",
    "      random_state=None)      # 随机数生成\n",
    "\"\"\"\n",
    "auto：自动\n",
    "svd：X奇异分解\n",
    "cholesky：标准函数\n",
    "sparse_cg：偶联梯度\n",
    "lsqr：最小平方\n",
    "sag：随机平均梯度下降\n",
    "\"\"\""
   ]
  },
  {
   "cell_type": "code",
   "execution_count": null,
   "metadata": {},
   "outputs": [],
   "source": [
    "coef_                          # 线性回归问题的估计系数\n",
    "\n",
    "intercept_                     # 截距\n",
    "\n",
    "方法同上"
   ]
  },
  {
   "cell_type": "markdown",
   "metadata": {},
   "source": [
    "## LASSO\n"
   ]
  },
  {
   "cell_type": "markdown",
   "metadata": {},
   "source": [
    "$||y - Xw||^2_2 + \\alpha * ||w||_1$"
   ]
  },
  {
   "cell_type": "code",
   "execution_count": null,
   "metadata": {},
   "outputs": [],
   "source": [
    "Lasso(alpha=1.0, \n",
    "      fit_intercept=True, \n",
    "      normalize=False, \n",
    "      precompute=False,         # 是否使用预计算的 Gram 矩阵来加快计算速度\n",
    "      copy_X=True, \n",
    "      max_iter=1000, \n",
    "      tol=0.0001, \n",
    "      warm_start=False, \n",
    "      positive=False, \n",
    "      random_state=None, \n",
    "      selection='cyclic')"
   ]
  },
  {
   "cell_type": "code",
   "execution_count": null,
   "metadata": {},
   "outputs": [],
   "source": [
    "同上"
   ]
  },
  {
   "cell_type": "markdown",
   "metadata": {},
   "source": [
    "## K近邻回归"
   ]
  },
  {
   "cell_type": "markdown",
   "metadata": {},
   "source": [
    "## SVM回归"
   ]
  },
  {
   "cell_type": "markdown",
   "metadata": {},
   "source": [
    "## 决策树回归"
   ]
  },
  {
   "cell_type": "code",
   "execution_count": null,
   "metadata": {},
   "outputs": [],
   "source": []
  }
 ],
 "metadata": {
  "kernelspec": {
   "display_name": "Python 3",
   "language": "python",
   "name": "python3"
  },
  "language_info": {
   "codemirror_mode": {
    "name": "ipython",
    "version": 3
   },
   "file_extension": ".py",
   "mimetype": "text/x-python",
   "name": "python",
   "nbconvert_exporter": "python",
   "pygments_lexer": "ipython3",
   "version": "3.7.6"
  }
 },
 "nbformat": 4,
 "nbformat_minor": 4
}
